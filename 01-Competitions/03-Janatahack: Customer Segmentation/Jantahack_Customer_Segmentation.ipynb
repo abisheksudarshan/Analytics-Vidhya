{
 "cells": [
  {
   "cell_type": "code",
   "execution_count": 1,
   "metadata": {},
   "outputs": [],
   "source": [
    "#for data processing\n",
    "import numpy as np \n",
    "import pandas as pd\n",
    "\n",
    "#for visualization\n",
    "import seaborn as sns\n",
    "import matplotlib.pyplot as plt\n",
    "%matplotlib inline\n",
    "\n",
    "import warnings\n",
    "warnings.filterwarnings(\"ignore\")"
   ]
  },
  {
   "cell_type": "code",
   "execution_count": 2,
   "metadata": {},
   "outputs": [],
   "source": [
    "train= pd.read_csv(\"train.csv\")\n",
    "test= pd.read_csv(\"test.csv\")"
   ]
  },
  {
   "cell_type": "code",
   "execution_count": 3,
   "metadata": {},
   "outputs": [
    {
     "data": {
      "text/html": [
       "<div>\n",
       "<style scoped>\n",
       "    .dataframe tbody tr th:only-of-type {\n",
       "        vertical-align: middle;\n",
       "    }\n",
       "\n",
       "    .dataframe tbody tr th {\n",
       "        vertical-align: top;\n",
       "    }\n",
       "\n",
       "    .dataframe thead th {\n",
       "        text-align: right;\n",
       "    }\n",
       "</style>\n",
       "<table border=\"1\" class=\"dataframe\">\n",
       "  <thead>\n",
       "    <tr style=\"text-align: right;\">\n",
       "      <th></th>\n",
       "      <th>ID</th>\n",
       "      <th>Gender</th>\n",
       "      <th>Ever_Married</th>\n",
       "      <th>Age</th>\n",
       "      <th>Graduated</th>\n",
       "      <th>Profession</th>\n",
       "      <th>Work_Experience</th>\n",
       "      <th>Spending_Score</th>\n",
       "      <th>Family_Size</th>\n",
       "      <th>Var_1</th>\n",
       "      <th>Segmentation</th>\n",
       "    </tr>\n",
       "  </thead>\n",
       "  <tbody>\n",
       "    <tr>\n",
       "      <th>0</th>\n",
       "      <td>462809</td>\n",
       "      <td>Male</td>\n",
       "      <td>No</td>\n",
       "      <td>22</td>\n",
       "      <td>No</td>\n",
       "      <td>Healthcare</td>\n",
       "      <td>1.0</td>\n",
       "      <td>Low</td>\n",
       "      <td>4.0</td>\n",
       "      <td>Cat_4</td>\n",
       "      <td>D</td>\n",
       "    </tr>\n",
       "    <tr>\n",
       "      <th>1</th>\n",
       "      <td>462643</td>\n",
       "      <td>Female</td>\n",
       "      <td>Yes</td>\n",
       "      <td>38</td>\n",
       "      <td>Yes</td>\n",
       "      <td>Engineer</td>\n",
       "      <td>NaN</td>\n",
       "      <td>Average</td>\n",
       "      <td>3.0</td>\n",
       "      <td>Cat_4</td>\n",
       "      <td>A</td>\n",
       "    </tr>\n",
       "  </tbody>\n",
       "</table>\n",
       "</div>"
      ],
      "text/plain": [
       "       ID  Gender Ever_Married  Age Graduated  Profession  Work_Experience  \\\n",
       "0  462809    Male           No   22        No  Healthcare              1.0   \n",
       "1  462643  Female          Yes   38       Yes    Engineer              NaN   \n",
       "\n",
       "  Spending_Score  Family_Size  Var_1 Segmentation  \n",
       "0            Low          4.0  Cat_4            D  \n",
       "1        Average          3.0  Cat_4            A  "
      ]
     },
     "execution_count": 3,
     "metadata": {},
     "output_type": "execute_result"
    }
   ],
   "source": [
    "train.head(2)"
   ]
  },
  {
   "cell_type": "code",
   "execution_count": 4,
   "metadata": {},
   "outputs": [
    {
     "data": {
      "text/html": [
       "<div>\n",
       "<style scoped>\n",
       "    .dataframe tbody tr th:only-of-type {\n",
       "        vertical-align: middle;\n",
       "    }\n",
       "\n",
       "    .dataframe tbody tr th {\n",
       "        vertical-align: top;\n",
       "    }\n",
       "\n",
       "    .dataframe thead th {\n",
       "        text-align: right;\n",
       "    }\n",
       "</style>\n",
       "<table border=\"1\" class=\"dataframe\">\n",
       "  <thead>\n",
       "    <tr style=\"text-align: right;\">\n",
       "      <th></th>\n",
       "      <th>ID</th>\n",
       "      <th>Gender</th>\n",
       "      <th>Ever_Married</th>\n",
       "      <th>Age</th>\n",
       "      <th>Graduated</th>\n",
       "      <th>Profession</th>\n",
       "      <th>Work_Experience</th>\n",
       "      <th>Spending_Score</th>\n",
       "      <th>Family_Size</th>\n",
       "      <th>Var_1</th>\n",
       "    </tr>\n",
       "  </thead>\n",
       "  <tbody>\n",
       "    <tr>\n",
       "      <th>0</th>\n",
       "      <td>458989</td>\n",
       "      <td>Female</td>\n",
       "      <td>Yes</td>\n",
       "      <td>36</td>\n",
       "      <td>Yes</td>\n",
       "      <td>Engineer</td>\n",
       "      <td>0.0</td>\n",
       "      <td>Low</td>\n",
       "      <td>1.0</td>\n",
       "      <td>Cat_6</td>\n",
       "    </tr>\n",
       "    <tr>\n",
       "      <th>1</th>\n",
       "      <td>458994</td>\n",
       "      <td>Male</td>\n",
       "      <td>Yes</td>\n",
       "      <td>37</td>\n",
       "      <td>Yes</td>\n",
       "      <td>Healthcare</td>\n",
       "      <td>8.0</td>\n",
       "      <td>Average</td>\n",
       "      <td>4.0</td>\n",
       "      <td>Cat_6</td>\n",
       "    </tr>\n",
       "  </tbody>\n",
       "</table>\n",
       "</div>"
      ],
      "text/plain": [
       "       ID  Gender Ever_Married  Age Graduated  Profession  Work_Experience  \\\n",
       "0  458989  Female          Yes   36       Yes    Engineer              0.0   \n",
       "1  458994    Male          Yes   37       Yes  Healthcare              8.0   \n",
       "\n",
       "  Spending_Score  Family_Size  Var_1  \n",
       "0            Low          1.0  Cat_6  \n",
       "1        Average          4.0  Cat_6  "
      ]
     },
     "execution_count": 4,
     "metadata": {},
     "output_type": "execute_result"
    }
   ],
   "source": [
    "test.head(2)"
   ]
  },
  {
   "cell_type": "code",
   "execution_count": 5,
   "metadata": {},
   "outputs": [],
   "source": [
    "train['train_y_n']=1\n",
    "test['train_y_n']=0\n",
    "all=pd.concat([train,test])"
   ]
  },
  {
   "cell_type": "code",
   "execution_count": 6,
   "metadata": {},
   "outputs": [
    {
     "data": {
      "text/html": [
       "<div>\n",
       "<style scoped>\n",
       "    .dataframe tbody tr th:only-of-type {\n",
       "        vertical-align: middle;\n",
       "    }\n",
       "\n",
       "    .dataframe tbody tr th {\n",
       "        vertical-align: top;\n",
       "    }\n",
       "\n",
       "    .dataframe thead th {\n",
       "        text-align: right;\n",
       "    }\n",
       "</style>\n",
       "<table border=\"1\" class=\"dataframe\">\n",
       "  <thead>\n",
       "    <tr style=\"text-align: right;\">\n",
       "      <th></th>\n",
       "      <th>ID</th>\n",
       "      <th>Gender</th>\n",
       "      <th>Ever_Married</th>\n",
       "      <th>Age</th>\n",
       "      <th>Graduated</th>\n",
       "      <th>Profession</th>\n",
       "      <th>Work_Experience</th>\n",
       "      <th>Spending_Score</th>\n",
       "      <th>Family_Size</th>\n",
       "      <th>Var_1</th>\n",
       "      <th>Segmentation</th>\n",
       "      <th>train_y_n</th>\n",
       "    </tr>\n",
       "  </thead>\n",
       "  <tbody>\n",
       "    <tr>\n",
       "      <th>0</th>\n",
       "      <td>462809</td>\n",
       "      <td>Male</td>\n",
       "      <td>No</td>\n",
       "      <td>22</td>\n",
       "      <td>No</td>\n",
       "      <td>Healthcare</td>\n",
       "      <td>1.0</td>\n",
       "      <td>Low</td>\n",
       "      <td>4.0</td>\n",
       "      <td>Cat_4</td>\n",
       "      <td>D</td>\n",
       "      <td>1</td>\n",
       "    </tr>\n",
       "    <tr>\n",
       "      <th>1</th>\n",
       "      <td>462643</td>\n",
       "      <td>Female</td>\n",
       "      <td>Yes</td>\n",
       "      <td>38</td>\n",
       "      <td>Yes</td>\n",
       "      <td>Engineer</td>\n",
       "      <td>NaN</td>\n",
       "      <td>Average</td>\n",
       "      <td>3.0</td>\n",
       "      <td>Cat_4</td>\n",
       "      <td>A</td>\n",
       "      <td>1</td>\n",
       "    </tr>\n",
       "    <tr>\n",
       "      <th>2</th>\n",
       "      <td>466315</td>\n",
       "      <td>Female</td>\n",
       "      <td>Yes</td>\n",
       "      <td>67</td>\n",
       "      <td>Yes</td>\n",
       "      <td>Engineer</td>\n",
       "      <td>1.0</td>\n",
       "      <td>Low</td>\n",
       "      <td>1.0</td>\n",
       "      <td>Cat_6</td>\n",
       "      <td>B</td>\n",
       "      <td>1</td>\n",
       "    </tr>\n",
       "    <tr>\n",
       "      <th>3</th>\n",
       "      <td>461735</td>\n",
       "      <td>Male</td>\n",
       "      <td>Yes</td>\n",
       "      <td>67</td>\n",
       "      <td>Yes</td>\n",
       "      <td>Lawyer</td>\n",
       "      <td>0.0</td>\n",
       "      <td>High</td>\n",
       "      <td>2.0</td>\n",
       "      <td>Cat_6</td>\n",
       "      <td>B</td>\n",
       "      <td>1</td>\n",
       "    </tr>\n",
       "    <tr>\n",
       "      <th>4</th>\n",
       "      <td>462669</td>\n",
       "      <td>Female</td>\n",
       "      <td>Yes</td>\n",
       "      <td>40</td>\n",
       "      <td>Yes</td>\n",
       "      <td>Entertainment</td>\n",
       "      <td>NaN</td>\n",
       "      <td>High</td>\n",
       "      <td>6.0</td>\n",
       "      <td>Cat_6</td>\n",
       "      <td>A</td>\n",
       "      <td>1</td>\n",
       "    </tr>\n",
       "  </tbody>\n",
       "</table>\n",
       "</div>"
      ],
      "text/plain": [
       "       ID  Gender Ever_Married  Age Graduated     Profession  Work_Experience  \\\n",
       "0  462809    Male           No   22        No     Healthcare              1.0   \n",
       "1  462643  Female          Yes   38       Yes       Engineer              NaN   \n",
       "2  466315  Female          Yes   67       Yes       Engineer              1.0   \n",
       "3  461735    Male          Yes   67       Yes         Lawyer              0.0   \n",
       "4  462669  Female          Yes   40       Yes  Entertainment              NaN   \n",
       "\n",
       "  Spending_Score  Family_Size  Var_1 Segmentation  train_y_n  \n",
       "0            Low          4.0  Cat_4            D          1  \n",
       "1        Average          3.0  Cat_4            A          1  \n",
       "2            Low          1.0  Cat_6            B          1  \n",
       "3           High          2.0  Cat_6            B          1  \n",
       "4           High          6.0  Cat_6            A          1  "
      ]
     },
     "execution_count": 6,
     "metadata": {},
     "output_type": "execute_result"
    }
   ],
   "source": [
    "all.head()"
   ]
  },
  {
   "cell_type": "code",
   "execution_count": 7,
   "metadata": {},
   "outputs": [
    {
     "data": {
      "text/plain": [
       "<matplotlib.axes._subplots.AxesSubplot at 0x7ff345a27890>"
      ]
     },
     "execution_count": 7,
     "metadata": {},
     "output_type": "execute_result"
    },
    {
     "data": {
      "image/png": "[encoded data removed]",
      "text/plain": [
       "<Figure size 432x288 with 2 Axes>"
      ]
     },
     "metadata": {
      "needs_background": "light"
     },
     "output_type": "display_data"
    }
   ],
   "source": [
    "#Visualization to check for missing values\n",
    "sns.heatmap(all.isna())"
   ]
  },
  {
   "cell_type": "markdown",
   "metadata": {},
   "source": [
    "### Exploratory Data Analysis"
   ]
  },
  {
   "cell_type": "markdown",
   "metadata": {},
   "source": [
    "Target variable: Segmentation (A,B,C,D) , Potential Predictors: All Others"
   ]
  },
  {
   "cell_type": "markdown",
   "metadata": {},
   "source": [
    "#### Univariate Analysis"
   ]
  },
  {
   "cell_type": "code",
   "execution_count": 8,
   "metadata": {},
   "outputs": [
    {
     "name": "stdout",
     "output_type": "stream",
     "text": [
      "<class 'pandas.core.frame.DataFrame'>\n",
      "Int64Index: 10695 entries, 0 to 2626\n",
      "Data columns (total 12 columns):\n",
      " #   Column           Non-Null Count  Dtype  \n",
      "---  ------           --------------  -----  \n",
      " 0   ID               10695 non-null  int64  \n",
      " 1   Gender           10695 non-null  object \n",
      " 2   Ever_Married     10505 non-null  object \n",
      " 3   Age              10695 non-null  int64  \n",
      " 4   Graduated        10593 non-null  object \n",
      " 5   Profession       10533 non-null  object \n",
      " 6   Work_Experience  9597 non-null   float64\n",
      " 7   Spending_Score   10695 non-null  object \n",
      " 8   Family_Size      10247 non-null  float64\n",
      " 9   Var_1            10587 non-null  object \n",
      " 10  Segmentation     8068 non-null   object \n",
      " 11  train_y_n        10695 non-null  int64  \n",
      "dtypes: float64(2), int64(3), object(7)\n",
      "memory usage: 1.1+ MB\n"
     ]
    }
   ],
   "source": [
    "all.info()"
   ]
  },
  {
   "cell_type": "code",
   "execution_count": 9,
   "metadata": {},
   "outputs": [
    {
     "data": {
      "text/html": [
       "<div>\n",
       "<style scoped>\n",
       "    .dataframe tbody tr th:only-of-type {\n",
       "        vertical-align: middle;\n",
       "    }\n",
       "\n",
       "    .dataframe tbody tr th {\n",
       "        vertical-align: top;\n",
       "    }\n",
       "\n",
       "    .dataframe thead th {\n",
       "        text-align: right;\n",
       "    }\n",
       "</style>\n",
       "<table border=\"1\" class=\"dataframe\">\n",
       "  <thead>\n",
       "    <tr style=\"text-align: right;\">\n",
       "      <th></th>\n",
       "      <th>ID</th>\n",
       "      <th>Age</th>\n",
       "      <th>Work_Experience</th>\n",
       "      <th>Family_Size</th>\n",
       "      <th>train_y_n</th>\n",
       "    </tr>\n",
       "  </thead>\n",
       "  <tbody>\n",
       "    <tr>\n",
       "      <th>count</th>\n",
       "      <td>10695.000000</td>\n",
       "      <td>10695.000000</td>\n",
       "      <td>9597.000000</td>\n",
       "      <td>10247.000000</td>\n",
       "      <td>10695.000000</td>\n",
       "    </tr>\n",
       "    <tr>\n",
       "      <th>mean</th>\n",
       "      <td>463468.088640</td>\n",
       "      <td>43.511828</td>\n",
       "      <td>2.619777</td>\n",
       "      <td>2.844052</td>\n",
       "      <td>0.754371</td>\n",
       "    </tr>\n",
       "    <tr>\n",
       "      <th>std</th>\n",
       "      <td>2600.966411</td>\n",
       "      <td>16.774158</td>\n",
       "      <td>3.390790</td>\n",
       "      <td>1.536427</td>\n",
       "      <td>0.430480</td>\n",
       "    </tr>\n",
       "    <tr>\n",
       "      <th>min</th>\n",
       "      <td>458982.000000</td>\n",
       "      <td>18.000000</td>\n",
       "      <td>0.000000</td>\n",
       "      <td>1.000000</td>\n",
       "      <td>0.000000</td>\n",
       "    </tr>\n",
       "    <tr>\n",
       "      <th>25%</th>\n",
       "      <td>461220.500000</td>\n",
       "      <td>30.000000</td>\n",
       "      <td>0.000000</td>\n",
       "      <td>2.000000</td>\n",
       "      <td>1.000000</td>\n",
       "    </tr>\n",
       "    <tr>\n",
       "      <th>50%</th>\n",
       "      <td>463451.000000</td>\n",
       "      <td>41.000000</td>\n",
       "      <td>1.000000</td>\n",
       "      <td>3.000000</td>\n",
       "      <td>1.000000</td>\n",
       "    </tr>\n",
       "    <tr>\n",
       "      <th>75%</th>\n",
       "      <td>465733.500000</td>\n",
       "      <td>53.000000</td>\n",
       "      <td>4.000000</td>\n",
       "      <td>4.000000</td>\n",
       "      <td>1.000000</td>\n",
       "    </tr>\n",
       "    <tr>\n",
       "      <th>max</th>\n",
       "      <td>467974.000000</td>\n",
       "      <td>89.000000</td>\n",
       "      <td>14.000000</td>\n",
       "      <td>9.000000</td>\n",
       "      <td>1.000000</td>\n",
       "    </tr>\n",
       "  </tbody>\n",
       "</table>\n",
       "</div>"
      ],
      "text/plain": [
       "                  ID           Age  Work_Experience   Family_Size  \\\n",
       "count   10695.000000  10695.000000      9597.000000  10247.000000   \n",
       "mean   463468.088640     43.511828         2.619777      2.844052   \n",
       "std      2600.966411     16.774158         3.390790      1.536427   \n",
       "min    458982.000000     18.000000         0.000000      1.000000   \n",
       "25%    461220.500000     30.000000         0.000000      2.000000   \n",
       "50%    463451.000000     41.000000         1.000000      3.000000   \n",
       "75%    465733.500000     53.000000         4.000000      4.000000   \n",
       "max    467974.000000     89.000000        14.000000      9.000000   \n",
       "\n",
       "          train_y_n  \n",
       "count  10695.000000  \n",
       "mean       0.754371  \n",
       "std        0.430480  \n",
       "min        0.000000  \n",
       "25%        1.000000  \n",
       "50%        1.000000  \n",
       "75%        1.000000  \n",
       "max        1.000000  "
      ]
     },
     "execution_count": 9,
     "metadata": {},
     "output_type": "execute_result"
    }
   ],
   "source": [
    "all.describe()"
   ]
  },
  {
   "cell_type": "code",
   "execution_count": 10,
   "metadata": {},
   "outputs": [
    {
     "data": {
      "text/plain": [
       "462826     True\n",
       "459581     True\n",
       "467769     True\n",
       "462512     True\n",
       "463663     True\n",
       "          ...  \n",
       "466719    False\n",
       "460580    False\n",
       "464678    False\n",
       "466727    False\n",
       "460801    False\n",
       "Name: ID, Length: 8363, dtype: bool"
      ]
     },
     "execution_count": 10,
     "metadata": {},
     "output_type": "execute_result"
    }
   ],
   "source": [
    "#ID\n",
    "all['ID'].value_counts()>1"
   ]
  },
  {
   "cell_type": "code",
   "execution_count": 11,
   "metadata": {},
   "outputs": [
    {
     "data": {
      "text/plain": [
       "2332"
      ]
     },
     "execution_count": 11,
     "metadata": {},
     "output_type": "execute_result"
    }
   ],
   "source": [
    "sum(all['ID'].value_counts()>1)"
   ]
  },
  {
   "cell_type": "code",
   "execution_count": 12,
   "metadata": {},
   "outputs": [
    {
     "data": {
      "text/plain": [
       "2627"
      ]
     },
     "execution_count": 12,
     "metadata": {},
     "output_type": "execute_result"
    }
   ],
   "source": [
    "all[all['train_y_n']==0]['ID'].nunique()"
   ]
  },
  {
   "cell_type": "code",
   "execution_count": 13,
   "metadata": {},
   "outputs": [
    {
     "data": {
      "text/plain": [
       "0.8877046060144652"
      ]
     },
     "execution_count": 13,
     "metadata": {},
     "output_type": "execute_result"
    }
   ],
   "source": [
    "2332/2627"
   ]
  },
  {
   "cell_type": "code",
   "execution_count": 14,
   "metadata": {},
   "outputs": [
    {
     "data": {
      "text/html": [
       "<div>\n",
       "<style scoped>\n",
       "    .dataframe tbody tr th:only-of-type {\n",
       "        vertical-align: middle;\n",
       "    }\n",
       "\n",
       "    .dataframe tbody tr th {\n",
       "        vertical-align: top;\n",
       "    }\n",
       "\n",
       "    .dataframe thead th {\n",
       "        text-align: right;\n",
       "    }\n",
       "</style>\n",
       "<table border=\"1\" class=\"dataframe\">\n",
       "  <thead>\n",
       "    <tr style=\"text-align: right;\">\n",
       "      <th></th>\n",
       "      <th>ID</th>\n",
       "      <th>Gender</th>\n",
       "      <th>Ever_Married</th>\n",
       "      <th>Age</th>\n",
       "      <th>Graduated</th>\n",
       "      <th>Profession</th>\n",
       "      <th>Work_Experience</th>\n",
       "      <th>Spending_Score</th>\n",
       "      <th>Family_Size</th>\n",
       "      <th>Var_1</th>\n",
       "      <th>Segmentation</th>\n",
       "      <th>train_y_n</th>\n",
       "    </tr>\n",
       "  </thead>\n",
       "  <tbody>\n",
       "    <tr>\n",
       "      <th>5526</th>\n",
       "      <td>462826</td>\n",
       "      <td>Male</td>\n",
       "      <td>No</td>\n",
       "      <td>22</td>\n",
       "      <td>No</td>\n",
       "      <td>Healthcare</td>\n",
       "      <td>0.0</td>\n",
       "      <td>Low</td>\n",
       "      <td>3.0</td>\n",
       "      <td>Cat_3</td>\n",
       "      <td>D</td>\n",
       "      <td>1</td>\n",
       "    </tr>\n",
       "    <tr>\n",
       "      <th>1146</th>\n",
       "      <td>462826</td>\n",
       "      <td>Male</td>\n",
       "      <td>No</td>\n",
       "      <td>20</td>\n",
       "      <td>No</td>\n",
       "      <td>Healthcare</td>\n",
       "      <td>1.0</td>\n",
       "      <td>Low</td>\n",
       "      <td>3.0</td>\n",
       "      <td>Cat_3</td>\n",
       "      <td>NaN</td>\n",
       "      <td>0</td>\n",
       "    </tr>\n",
       "  </tbody>\n",
       "</table>\n",
       "</div>"
      ],
      "text/plain": [
       "          ID Gender Ever_Married  Age Graduated  Profession  Work_Experience  \\\n",
       "5526  462826   Male           No   22        No  Healthcare              0.0   \n",
       "1146  462826   Male           No   20        No  Healthcare              1.0   \n",
       "\n",
       "     Spending_Score  Family_Size  Var_1 Segmentation  train_y_n  \n",
       "5526            Low          3.0  Cat_3            D          1  \n",
       "1146            Low          3.0  Cat_3          NaN          0  "
      ]
     },
     "execution_count": 14,
     "metadata": {},
     "output_type": "execute_result"
    }
   ],
   "source": [
    "all[all['ID']==462826]"
   ]
  },
  {
   "cell_type": "code",
   "execution_count": 15,
   "metadata": {},
   "outputs": [
    {
     "data": {
      "text/plain": [
       "0"
      ]
     },
     "execution_count": 15,
     "metadata": {},
     "output_type": "execute_result"
    }
   ],
   "source": [
    "sum(all.groupby(['ID','train_y_n'])['ID'].count()>1)"
   ]
  },
  {
   "cell_type": "code",
   "execution_count": 16,
   "metadata": {},
   "outputs": [
    {
     "data": {
      "text/plain": [
       "<matplotlib.axes._subplots.AxesSubplot at 0x7ff343073850>"
      ]
     },
     "execution_count": 16,
     "metadata": {},
     "output_type": "execute_result"
    },
    {
     "data": {
      "image/png": "[encoded data removed]",
      "text/plain": [
       "<Figure size 432x288 with 1 Axes>"
      ]
     },
     "metadata": {
      "needs_background": "light"
     },
     "output_type": "display_data"
    }
   ],
   "source": [
    "#Gender\n",
    "sns.countplot(all['Gender'],hue=all['Segmentation'])"
   ]
  },
  {
   "cell_type": "code",
   "execution_count": 17,
   "metadata": {},
   "outputs": [
    {
     "data": {
      "text/plain": [
       "(                     Segmentation\n",
       " Gender Segmentation              \n",
       " Female A                      909\n",
       "        B                      861\n",
       "        C                      922\n",
       "        D                      959\n",
       " Male   A                     1063\n",
       "        B                      997\n",
       "        C                     1048\n",
       "        D                     1309,\n",
       "                      Segmentation\n",
       " Gender Segmentation              \n",
       " Female A                    24.90\n",
       "        B                    23.58\n",
       "        C                    25.25\n",
       "        D                    26.27\n",
       " Male   A                    24.07\n",
       "        B                    22.57\n",
       "        C                    23.73\n",
       "        D                    29.64)"
      ]
     },
     "execution_count": 17,
     "metadata": {},
     "output_type": "execute_result"
    }
   ],
   "source": [
    "groupby_df = all[all['train_y_n']==1].groupby(['Gender', 'Segmentation']).agg({'Segmentation': 'count'})\n",
    "groupby_pcts = groupby_df.groupby(level=0).apply(lambda x:round(100 * x / x.sum(),2))\n",
    "groupby_df,groupby_pcts"
   ]
  },
  {
   "cell_type": "markdown",
   "metadata": {},
   "source": [
    "Segmentation D has slightly higher Male %, while there is no other significant difference"
   ]
  },
  {
   "cell_type": "code",
   "execution_count": 18,
   "metadata": {},
   "outputs": [
    {
     "data": {
      "text/plain": [
       "<matplotlib.axes._subplots.AxesSubplot at 0x7ff342f916d0>"
      ]
     },
     "execution_count": 18,
     "metadata": {},
     "output_type": "execute_result"
    },
    {
     "data": {
      "image/png": "[encoded data removed]",
      "text/plain": [
       "<Figure size 432x288 with 1 Axes>"
      ]
     },
     "metadata": {
      "needs_background": "light"
     },
     "output_type": "display_data"
    }
   ],
   "source": [
    "#Ever_Married\n",
    "sns.countplot(all['Ever_Married'],hue=all['Segmentation'])"
   ]
  },
  {
   "cell_type": "code",
   "execution_count": 19,
   "metadata": {},
   "outputs": [
    {
     "data": {
      "text/plain": [
       "(                           Segmentation\n",
       " Ever_Married Segmentation              \n",
       " No           A                      801\n",
       "              B                      479\n",
       "              C                      398\n",
       "              D                     1607\n",
       " Yes          A                     1137\n",
       "              B                     1348\n",
       "              C                     1549\n",
       "              D                      609,\n",
       "                            Segmentation\n",
       " Ever_Married Segmentation              \n",
       " No           A                    24.38\n",
       "              B                    14.58\n",
       "              C                    12.12\n",
       "              D                    48.92\n",
       " Yes          A                    24.49\n",
       "              B                    29.03\n",
       "              C                    33.36\n",
       "              D                    13.12)"
      ]
     },
     "execution_count": 19,
     "metadata": {},
     "output_type": "execute_result"
    }
   ],
   "source": [
    "groupby_df = all[all['train_y_n']==1].groupby(['Ever_Married', 'Segmentation']).agg({'Segmentation': 'count'})\n",
    "groupby_pcts = groupby_df.groupby(level=0).apply(lambda x:round(100 * x / x.sum(),2))\n",
    "groupby_df,groupby_pcts"
   ]
  },
  {
   "cell_type": "markdown",
   "metadata": {},
   "source": [
    "A,B,C have higher Married people vs D has more Single people"
   ]
  },
  {
   "cell_type": "code",
   "execution_count": 20,
   "metadata": {},
   "outputs": [
    {
     "data": {
      "text/plain": [
       "190"
      ]
     },
     "execution_count": 20,
     "metadata": {},
     "output_type": "execute_result"
    }
   ],
   "source": [
    "sum(all['Ever_Married'].isnull())"
   ]
  },
  {
   "cell_type": "code",
   "execution_count": 21,
   "metadata": {},
   "outputs": [
    {
     "data": {
      "text/plain": [
       "<matplotlib.axes._subplots.AxesSubplot at 0x7ff342913090>"
      ]
     },
     "execution_count": 21,
     "metadata": {},
     "output_type": "execute_result"
    },
    {
     "data": {
      "image/png": "[encoded data removed]",
      "text/plain": [
       "<Figure size 432x288 with 1 Axes>"
      ]
     },
     "metadata": {
      "needs_background": "light"
     },
     "output_type": "display_data"
    }
   ],
   "source": [
    "#Age\n",
    "sns.distplot(all['Age'])"
   ]
  },
  {
   "cell_type": "code",
   "execution_count": 22,
   "metadata": {},
   "outputs": [
    {
     "data": {
      "text/plain": [
       "<matplotlib.legend.Legend at 0x7ff3428f0950>"
      ]
     },
     "execution_count": 22,
     "metadata": {},
     "output_type": "execute_result"
    },
    {
     "data": {
      "image/png": "[encoded data removed]",
      "text/plain": [
       "<Figure size 432x288 with 1 Axes>"
      ]
     },
     "metadata": {},
     "output_type": "display_data"
    }
   ],
   "source": [
    "sns.set_style('whitegrid')\n",
    "sns.distplot(all[all['Segmentation']=='A']['Age'],bins=30,color='blue')\n",
    "sns.distplot(all[all['Segmentation']=='B']['Age'],bins=30,color='red')\n",
    "sns.distplot(all[all['Segmentation']=='C']['Age'],bins=30,color='green')\n",
    "sns.distplot(all[all['Segmentation']=='D']['Age'],bins=30,color='black')\n",
    "plt.legend(labels=['Seg=A', 'Seg=B', 'Seg=C','Seg=D'])"
   ]
  },
  {
   "cell_type": "code",
   "execution_count": 23,
   "metadata": {},
   "outputs": [
    {
     "data": {
      "text/plain": [
       "<matplotlib.axes._subplots.AxesSubplot at 0x7ff3430ba810>"
      ]
     },
     "execution_count": 23,
     "metadata": {},
     "output_type": "execute_result"
    },
    {
     "data": {
      "image/png": "[encoded data removed]",
      "text/plain": [
       "<Figure size 432x288 with 1 Axes>"
      ]
     },
     "metadata": {},
     "output_type": "display_data"
    }
   ],
   "source": [
    "#Graduated\n",
    "sns.countplot(all['Graduated'],hue=all['Segmentation'])"
   ]
  },
  {
   "cell_type": "code",
   "execution_count": 24,
   "metadata": {},
   "outputs": [
    {
     "data": {
      "text/plain": [
       "(                        Segmentation\n",
       " Graduated Segmentation              \n",
       " No        A                      729\n",
       "           B                      508\n",
       "           C                      348\n",
       "           D                     1437\n",
       " Yes       A                     1219\n",
       "           B                     1332\n",
       "           C                     1607\n",
       "           D                      810,\n",
       "                         Segmentation\n",
       " Graduated Segmentation              \n",
       " No        A                    24.12\n",
       "           B                    16.81\n",
       "           C                    11.52\n",
       "           D                    47.55\n",
       " Yes       A                    24.54\n",
       "           B                    26.81\n",
       "           C                    32.35\n",
       "           D                    16.30)"
      ]
     },
     "execution_count": 24,
     "metadata": {},
     "output_type": "execute_result"
    }
   ],
   "source": [
    "groupby_df = all[all['train_y_n']==1].groupby(['Graduated', 'Segmentation']).agg({'Segmentation': 'count'})\n",
    "groupby_pcts = groupby_df.groupby(level=0).apply(lambda x:round(100 * x / x.sum(),2))\n",
    "groupby_df,groupby_pcts"
   ]
  },
  {
   "cell_type": "markdown",
   "metadata": {},
   "source": [
    "Graduated people are in Seg A,B,C while D has lesser graduates"
   ]
  },
  {
   "cell_type": "code",
   "execution_count": 25,
   "metadata": {},
   "outputs": [
    {
     "data": {
      "text/plain": [
       "<matplotlib.axes._subplots.AxesSubplot at 0x7ff3425e4550>"
      ]
     },
     "execution_count": 25,
     "metadata": {},
     "output_type": "execute_result"
    },
    {
     "data": {
      "image/png": "[encoded data removed]",
      "text/plain": [
       "<Figure size 720x432 with 1 Axes>"
      ]
     },
     "metadata": {},
     "output_type": "display_data"
    }
   ],
   "source": [
    "#Profession\n",
    "plt.rcParams['figure.figsize'] = (10, 6)\n",
    "sns.countplot(all['Profession'],hue=all['Segmentation'])"
   ]
  },
  {
   "cell_type": "code",
   "execution_count": 26,
   "metadata": {
    "scrolled": true
   },
   "outputs": [
    {
     "data": {
      "text/plain": [
       "<matplotlib.axes._subplots.AxesSubplot at 0x7ff3425131d0>"
      ]
     },
     "execution_count": 26,
     "metadata": {},
     "output_type": "execute_result"
    },
    {
     "data": {
      "image/png": "[encoded data removed]",
      "text/plain": [
       "<Figure size 720x432 with 1 Axes>"
      ]
     },
     "metadata": {},
     "output_type": "display_data"
    }
   ],
   "source": [
    "#Work_Experience\n",
    "sns.countplot(all['Work_Experience'])"
   ]
  },
  {
   "cell_type": "code",
   "execution_count": 27,
   "metadata": {},
   "outputs": [
    {
     "data": {
      "text/plain": [
       "<matplotlib.axes._subplots.AxesSubplot at 0x7ff342432c50>"
      ]
     },
     "execution_count": 27,
     "metadata": {},
     "output_type": "execute_result"
    },
    {
     "data": {
      "image/png": "[encoded data removed]",
      "text/plain": [
       "<Figure size 720x432 with 1 Axes>"
      ]
     },
     "metadata": {},
     "output_type": "display_data"
    }
   ],
   "source": [
    "#Spending_Score\n",
    "sns.countplot(all['Spending_Score'],hue=all['Segmentation'])"
   ]
  },
  {
   "cell_type": "code",
   "execution_count": 28,
   "metadata": {},
   "outputs": [
    {
     "data": {
      "text/plain": [
       "(                             Segmentation\n",
       " Spending_Score Segmentation              \n",
       " Average        A                      343\n",
       "                B                      590\n",
       "                C                      903\n",
       "                D                      138\n",
       " High           A                      271\n",
       "                B                      384\n",
       "                C                      405\n",
       "                D                      156\n",
       " Low            A                     1358\n",
       "                B                      884\n",
       "                C                      662\n",
       "                D                     1974,\n",
       "                              Segmentation\n",
       " Spending_Score Segmentation              \n",
       " Average        A                    17.38\n",
       "                B                    29.89\n",
       "                C                    45.74\n",
       "                D                     6.99\n",
       " High           A                    22.29\n",
       "                B                    31.58\n",
       "                C                    33.31\n",
       "                D                    12.83\n",
       " Low            A                    27.84\n",
       "                B                    18.12\n",
       "                C                    13.57\n",
       "                D                    40.47)"
      ]
     },
     "execution_count": 28,
     "metadata": {},
     "output_type": "execute_result"
    }
   ],
   "source": [
    "groupby_df = all[all['train_y_n']==1].groupby(['Spending_Score', 'Segmentation']).agg({'Segmentation': 'count'})\n",
    "groupby_pcts = groupby_df.groupby(level=0).apply(lambda x:round(100 * x / x.sum(),2))\n",
    "groupby_df,groupby_pcts"
   ]
  },
  {
   "cell_type": "code",
   "execution_count": 29,
   "metadata": {},
   "outputs": [
    {
     "data": {
      "text/plain": [
       "<matplotlib.axes._subplots.AxesSubplot at 0x7ff3423f1ad0>"
      ]
     },
     "execution_count": 29,
     "metadata": {},
     "output_type": "execute_result"
    },
    {
     "data": {
      "image/png": "[encoded data removed]",
      "text/plain": [
       "<Figure size 720x432 with 1 Axes>"
      ]
     },
     "metadata": {},
     "output_type": "display_data"
    }
   ],
   "source": [
    "#Family_Size\n",
    "sns.countplot(all['Family_Size'],hue=all['Segmentation'])"
   ]
  },
  {
   "cell_type": "code",
   "execution_count": 30,
   "metadata": {},
   "outputs": [
    {
     "data": {
      "text/plain": [
       "<matplotlib.axes._subplots.AxesSubplot at 0x7ff3422be110>"
      ]
     },
     "execution_count": 30,
     "metadata": {},
     "output_type": "execute_result"
    },
    {
     "data": {
      "image/png": "[encoded data removed]",
      "text/plain": [
       "<Figure size 720x432 with 1 Axes>"
      ]
     },
     "metadata": {},
     "output_type": "display_data"
    }
   ],
   "source": [
    "#Var_1\n",
    "sns.countplot(all['Var_1'],hue=all['Segmentation'])"
   ]
  },
  {
   "cell_type": "markdown",
   "metadata": {},
   "source": [
    "#### Bivariate Analysis"
   ]
  },
  {
   "cell_type": "code",
   "execution_count": 31,
   "metadata": {},
   "outputs": [
    {
     "data": {
      "text/plain": [
       "ID                   int64\n",
       "Gender              object\n",
       "Ever_Married        object\n",
       "Age                  int64\n",
       "Graduated           object\n",
       "Profession          object\n",
       "Work_Experience    float64\n",
       "Spending_Score      object\n",
       "Family_Size        float64\n",
       "Var_1               object\n",
       "Segmentation        object\n",
       "train_y_n            int64\n",
       "dtype: object"
      ]
     },
     "execution_count": 31,
     "metadata": {},
     "output_type": "execute_result"
    }
   ],
   "source": [
    "all.dtypes"
   ]
  },
  {
   "cell_type": "code",
   "execution_count": 32,
   "metadata": {},
   "outputs": [
    {
     "data": {
      "text/plain": [
       "<matplotlib.axes._subplots.AxesSubplot at 0x7ff3421f7490>"
      ]
     },
     "execution_count": 32,
     "metadata": {},
     "output_type": "execute_result"
    },
    {
     "data": {
      "image/png": "[encoded data removed]",
      "text/plain": [
       "<Figure size 720x432 with 2 Axes>"
      ]
     },
     "metadata": {},
     "output_type": "display_data"
    }
   ],
   "source": [
    "sns.heatmap(all.corr(),annot=True)"
   ]
  },
  {
   "cell_type": "markdown",
   "metadata": {},
   "source": [
    "#### Feature Engineering & Missing Value Treatment"
   ]
  },
  {
   "cell_type": "code",
   "execution_count": 33,
   "metadata": {},
   "outputs": [
    {
     "name": "stdout",
     "output_type": "stream",
     "text": [
      "['Gender', 'Ever_Married', 'Age', 'Graduated', 'Profession', 'Work_Experience', 'Spending_Score', 'Family_Size', 'Var_1']\n"
     ]
    }
   ],
   "source": [
    "feature_cols = all.columns.tolist()\n",
    "feature_cols.remove('ID')\n",
    "feature_cols.remove('Segmentation')\n",
    "feature_cols.remove('train_y_n')\n",
    "label_col = 'Segmentation'\n",
    "print(feature_cols)"
   ]
  },
  {
   "cell_type": "code",
   "execution_count": 34,
   "metadata": {},
   "outputs": [
    {
     "data": {
      "text/plain": [
       "ID                    0\n",
       "Gender                0\n",
       "Ever_Married        190\n",
       "Age                   0\n",
       "Graduated           102\n",
       "Profession          162\n",
       "Work_Experience    1098\n",
       "Spending_Score        0\n",
       "Family_Size         448\n",
       "Var_1               108\n",
       "Segmentation       2627\n",
       "train_y_n             0\n",
       "dtype: int64"
      ]
     },
     "execution_count": 34,
     "metadata": {},
     "output_type": "execute_result"
    }
   ],
   "source": [
    "all.isnull().sum()"
   ]
  },
  {
   "cell_type": "code",
   "execution_count": 35,
   "metadata": {},
   "outputs": [],
   "source": [
    "#Gender\n",
    "all=pd.get_dummies(all,prefix='Gender',columns=['Gender'],drop_first=True)"
   ]
  },
  {
   "cell_type": "code",
   "execution_count": 36,
   "metadata": {},
   "outputs": [
    {
     "data": {
      "text/html": [
       "<div>\n",
       "<style scoped>\n",
       "    .dataframe tbody tr th:only-of-type {\n",
       "        vertical-align: middle;\n",
       "    }\n",
       "\n",
       "    .dataframe tbody tr th {\n",
       "        vertical-align: top;\n",
       "    }\n",
       "\n",
       "    .dataframe thead th {\n",
       "        text-align: right;\n",
       "    }\n",
       "</style>\n",
       "<table border=\"1\" class=\"dataframe\">\n",
       "  <thead>\n",
       "    <tr style=\"text-align: right;\">\n",
       "      <th></th>\n",
       "      <th>ID</th>\n",
       "      <th>Ever_Married</th>\n",
       "      <th>Age</th>\n",
       "      <th>Graduated</th>\n",
       "      <th>Profession</th>\n",
       "      <th>Work_Experience</th>\n",
       "      <th>Spending_Score</th>\n",
       "      <th>Family_Size</th>\n",
       "      <th>Var_1</th>\n",
       "      <th>Segmentation</th>\n",
       "      <th>train_y_n</th>\n",
       "      <th>Gender_Male</th>\n",
       "    </tr>\n",
       "  </thead>\n",
       "  <tbody>\n",
       "    <tr>\n",
       "      <th>0</th>\n",
       "      <td>462809</td>\n",
       "      <td>No</td>\n",
       "      <td>22</td>\n",
       "      <td>No</td>\n",
       "      <td>Healthcare</td>\n",
       "      <td>1.0</td>\n",
       "      <td>Low</td>\n",
       "      <td>4.0</td>\n",
       "      <td>Cat_4</td>\n",
       "      <td>D</td>\n",
       "      <td>1</td>\n",
       "      <td>1</td>\n",
       "    </tr>\n",
       "    <tr>\n",
       "      <th>1</th>\n",
       "      <td>462643</td>\n",
       "      <td>Yes</td>\n",
       "      <td>38</td>\n",
       "      <td>Yes</td>\n",
       "      <td>Engineer</td>\n",
       "      <td>NaN</td>\n",
       "      <td>Average</td>\n",
       "      <td>3.0</td>\n",
       "      <td>Cat_4</td>\n",
       "      <td>A</td>\n",
       "      <td>1</td>\n",
       "      <td>0</td>\n",
       "    </tr>\n",
       "  </tbody>\n",
       "</table>\n",
       "</div>"
      ],
      "text/plain": [
       "       ID Ever_Married  Age Graduated  Profession  Work_Experience  \\\n",
       "0  462809           No   22        No  Healthcare              1.0   \n",
       "1  462643          Yes   38       Yes    Engineer              NaN   \n",
       "\n",
       "  Spending_Score  Family_Size  Var_1 Segmentation  train_y_n  Gender_Male  \n",
       "0            Low          4.0  Cat_4            D          1            1  \n",
       "1        Average          3.0  Cat_4            A          1            0  "
      ]
     },
     "execution_count": 36,
     "metadata": {},
     "output_type": "execute_result"
    }
   ],
   "source": [
    "all.head(2)"
   ]
  },
  {
   "cell_type": "code",
   "execution_count": 37,
   "metadata": {},
   "outputs": [
    {
     "data": {
      "text/plain": [
       "<matplotlib.axes._subplots.AxesSubplot at 0x7ff3420ecd90>"
      ]
     },
     "execution_count": 37,
     "metadata": {},
     "output_type": "execute_result"
    },
    {
     "data": {
      "image/png": "[encoded data removed]",
      "text/plain": [
       "<Figure size 720x432 with 1 Axes>"
      ]
     },
     "metadata": {},
     "output_type": "display_data"
    }
   ],
   "source": [
    "#Ever_Married\n",
    "sns.countplot(all['Ever_Married'],hue=all['Family_Size'])"
   ]
  },
  {
   "cell_type": "code",
   "execution_count": 38,
   "metadata": {},
   "outputs": [
    {
     "data": {
      "text/plain": [
       "3.0    45\n",
       "2.0    40\n",
       "1.0    34\n",
       "4.0    32\n",
       "5.0    17\n",
       "6.0     5\n",
       "8.0     2\n",
       "7.0     1\n",
       "Name: Family_Size, dtype: int64"
      ]
     },
     "execution_count": 38,
     "metadata": {},
     "output_type": "execute_result"
    }
   ],
   "source": [
    "all[all['Ever_Married'].isnull()]['Family_Size'].value_counts()"
   ]
  },
  {
   "cell_type": "code",
   "execution_count": 39,
   "metadata": {},
   "outputs": [],
   "source": [
    "all['Ever_Married']=all['Ever_Married'].fillna('Yes')"
   ]
  },
  {
   "cell_type": "code",
   "execution_count": 40,
   "metadata": {},
   "outputs": [],
   "source": [
    "all=pd.get_dummies(all,prefix='Married',columns=['Ever_Married'],drop_first=True)"
   ]
  },
  {
   "cell_type": "code",
   "execution_count": 41,
   "metadata": {},
   "outputs": [
    {
     "data": {
      "text/html": [
       "<div>\n",
       "<style scoped>\n",
       "    .dataframe tbody tr th:only-of-type {\n",
       "        vertical-align: middle;\n",
       "    }\n",
       "\n",
       "    .dataframe tbody tr th {\n",
       "        vertical-align: top;\n",
       "    }\n",
       "\n",
       "    .dataframe thead th {\n",
       "        text-align: right;\n",
       "    }\n",
       "</style>\n",
       "<table border=\"1\" class=\"dataframe\">\n",
       "  <thead>\n",
       "    <tr style=\"text-align: right;\">\n",
       "      <th></th>\n",
       "      <th>ID</th>\n",
       "      <th>Age</th>\n",
       "      <th>Graduated</th>\n",
       "      <th>Profession</th>\n",
       "      <th>Work_Experience</th>\n",
       "      <th>Spending_Score</th>\n",
       "      <th>Family_Size</th>\n",
       "      <th>Var_1</th>\n",
       "      <th>Segmentation</th>\n",
       "      <th>train_y_n</th>\n",
       "      <th>Gender_Male</th>\n",
       "      <th>Married_Yes</th>\n",
       "    </tr>\n",
       "  </thead>\n",
       "  <tbody>\n",
       "    <tr>\n",
       "      <th>0</th>\n",
       "      <td>462809</td>\n",
       "      <td>22</td>\n",
       "      <td>No</td>\n",
       "      <td>Healthcare</td>\n",
       "      <td>1.0</td>\n",
       "      <td>Low</td>\n",
       "      <td>4.0</td>\n",
       "      <td>Cat_4</td>\n",
       "      <td>D</td>\n",
       "      <td>1</td>\n",
       "      <td>1</td>\n",
       "      <td>0</td>\n",
       "    </tr>\n",
       "    <tr>\n",
       "      <th>1</th>\n",
       "      <td>462643</td>\n",
       "      <td>38</td>\n",
       "      <td>Yes</td>\n",
       "      <td>Engineer</td>\n",
       "      <td>NaN</td>\n",
       "      <td>Average</td>\n",
       "      <td>3.0</td>\n",
       "      <td>Cat_4</td>\n",
       "      <td>A</td>\n",
       "      <td>1</td>\n",
       "      <td>0</td>\n",
       "      <td>1</td>\n",
       "    </tr>\n",
       "  </tbody>\n",
       "</table>\n",
       "</div>"
      ],
      "text/plain": [
       "       ID  Age Graduated  Profession  Work_Experience Spending_Score  \\\n",
       "0  462809   22        No  Healthcare              1.0            Low   \n",
       "1  462643   38       Yes    Engineer              NaN        Average   \n",
       "\n",
       "   Family_Size  Var_1 Segmentation  train_y_n  Gender_Male  Married_Yes  \n",
       "0          4.0  Cat_4            D          1            1            0  \n",
       "1          3.0  Cat_4            A          1            0            1  "
      ]
     },
     "execution_count": 41,
     "metadata": {},
     "output_type": "execute_result"
    }
   ],
   "source": [
    "all.head(2)"
   ]
  },
  {
   "cell_type": "code",
   "execution_count": 42,
   "metadata": {},
   "outputs": [
    {
     "data": {
      "text/plain": [
       "<matplotlib.axes._subplots.AxesSubplot at 0x7ff3420a93d0>"
      ]
     },
     "execution_count": 42,
     "metadata": {},
     "output_type": "execute_result"
    },
    {
     "data": {
      "image/png": "[encoded data removed]",
      "text/plain": [
       "<Figure size 720x432 with 1 Axes>"
      ]
     },
     "metadata": {},
     "output_type": "display_data"
    }
   ],
   "source": [
    "#Graduated\n",
    "sns.countplot(all['Graduated'])"
   ]
  },
  {
   "cell_type": "code",
   "execution_count": 43,
   "metadata": {},
   "outputs": [],
   "source": [
    "all['Graduated']=all['Graduated'].fillna('Yes')"
   ]
  },
  {
   "cell_type": "code",
   "execution_count": 44,
   "metadata": {},
   "outputs": [
    {
     "data": {
      "text/html": [
       "<div>\n",
       "<style scoped>\n",
       "    .dataframe tbody tr th:only-of-type {\n",
       "        vertical-align: middle;\n",
       "    }\n",
       "\n",
       "    .dataframe tbody tr th {\n",
       "        vertical-align: top;\n",
       "    }\n",
       "\n",
       "    .dataframe thead th {\n",
       "        text-align: right;\n",
       "    }\n",
       "</style>\n",
       "<table border=\"1\" class=\"dataframe\">\n",
       "  <thead>\n",
       "    <tr style=\"text-align: right;\">\n",
       "      <th></th>\n",
       "      <th>ID</th>\n",
       "      <th>Age</th>\n",
       "      <th>Profession</th>\n",
       "      <th>Work_Experience</th>\n",
       "      <th>Spending_Score</th>\n",
       "      <th>Family_Size</th>\n",
       "      <th>Var_1</th>\n",
       "      <th>Segmentation</th>\n",
       "      <th>train_y_n</th>\n",
       "      <th>Gender_Male</th>\n",
       "      <th>Married_Yes</th>\n",
       "      <th>Graduated_Yes</th>\n",
       "    </tr>\n",
       "  </thead>\n",
       "  <tbody>\n",
       "    <tr>\n",
       "      <th>0</th>\n",
       "      <td>462809</td>\n",
       "      <td>22</td>\n",
       "      <td>Healthcare</td>\n",
       "      <td>1.0</td>\n",
       "      <td>Low</td>\n",
       "      <td>4.0</td>\n",
       "      <td>Cat_4</td>\n",
       "      <td>D</td>\n",
       "      <td>1</td>\n",
       "      <td>1</td>\n",
       "      <td>0</td>\n",
       "      <td>0</td>\n",
       "    </tr>\n",
       "    <tr>\n",
       "      <th>1</th>\n",
       "      <td>462643</td>\n",
       "      <td>38</td>\n",
       "      <td>Engineer</td>\n",
       "      <td>NaN</td>\n",
       "      <td>Average</td>\n",
       "      <td>3.0</td>\n",
       "      <td>Cat_4</td>\n",
       "      <td>A</td>\n",
       "      <td>1</td>\n",
       "      <td>0</td>\n",
       "      <td>1</td>\n",
       "      <td>1</td>\n",
       "    </tr>\n",
       "  </tbody>\n",
       "</table>\n",
       "</div>"
      ],
      "text/plain": [
       "       ID  Age  Profession  Work_Experience Spending_Score  Family_Size  \\\n",
       "0  462809   22  Healthcare              1.0            Low          4.0   \n",
       "1  462643   38    Engineer              NaN        Average          3.0   \n",
       "\n",
       "   Var_1 Segmentation  train_y_n  Gender_Male  Married_Yes  Graduated_Yes  \n",
       "0  Cat_4            D          1            1            0              0  \n",
       "1  Cat_4            A          1            0            1              1  "
      ]
     },
     "execution_count": 44,
     "metadata": {},
     "output_type": "execute_result"
    }
   ],
   "source": [
    "all=pd.get_dummies(all,prefix='Graduated',columns=['Graduated'],drop_first=True)\n",
    "all.head(2)"
   ]
  },
  {
   "cell_type": "code",
   "execution_count": 45,
   "metadata": {},
   "outputs": [],
   "source": [
    "#Profession\n",
    "all['Profession'].fillna('Unknown',inplace=True)"
   ]
  },
  {
   "cell_type": "code",
   "execution_count": 46,
   "metadata": {},
   "outputs": [],
   "source": [
    "all['Profession']=all['Profession'].astype('str')"
   ]
  },
  {
   "cell_type": "code",
   "execution_count": 47,
   "metadata": {},
   "outputs": [],
   "source": [
    "from sklearn import preprocessing\n",
    "le = preprocessing.LabelEncoder()\n",
    "all['Profession_en']=le.fit_transform(all['Profession'])"
   ]
  },
  {
   "cell_type": "code",
   "execution_count": 48,
   "metadata": {},
   "outputs": [
    {
     "data": {
      "text/plain": [
       "<matplotlib.axes._subplots.AxesSubplot at 0x7ff346493150>"
      ]
     },
     "execution_count": 48,
     "metadata": {},
     "output_type": "execute_result"
    },
    {
     "data": {
      "image/png": "[encoded data removed]",
      "text/plain": [
       "<Figure size 720x432 with 1 Axes>"
      ]
     },
     "metadata": {},
     "output_type": "display_data"
    }
   ],
   "source": [
    "sns.countplot(all['Profession_en'],hue=all['Profession'])"
   ]
  },
  {
   "cell_type": "code",
   "execution_count": 49,
   "metadata": {},
   "outputs": [
    {
     "data": {
      "text/plain": [
       "0    3318\n",
       "5    1750\n",
       "3    1250\n",
       "2     935\n",
       "1     930\n",
       "7     844\n",
       "4     775\n",
       "8     403\n",
       "6     328\n",
       "9     162\n",
       "Name: Profession_en, dtype: int64"
      ]
     },
     "execution_count": 49,
     "metadata": {},
     "output_type": "execute_result"
    }
   ],
   "source": [
    "all['Profession_en'].value_counts()"
   ]
  },
  {
   "cell_type": "code",
   "execution_count": 50,
   "metadata": {},
   "outputs": [],
   "source": [
    "all.drop('Profession',axis=1,inplace=True)"
   ]
  },
  {
   "cell_type": "code",
   "execution_count": 51,
   "metadata": {},
   "outputs": [],
   "source": [
    "#Work_Experience\n",
    "all['Work_Experience'].fillna(all['Work_Experience'].mean(),inplace=True)"
   ]
  },
  {
   "cell_type": "code",
   "execution_count": 52,
   "metadata": {},
   "outputs": [],
   "source": [
    "#Spending_Score\n",
    "all.loc[all['Spending_Score']=='Low','Spending_Score']=1\n",
    "all.loc[all['Spending_Score']=='Average','Spending_Score']=2\n",
    "all.loc[all['Spending_Score']=='High','Spending_Score']=3\n",
    "all['Spending_Score']=all['Spending_Score'].astype('int')"
   ]
  },
  {
   "cell_type": "code",
   "execution_count": 53,
   "metadata": {},
   "outputs": [],
   "source": [
    "#Family_Size\n",
    "all['Family_Size'].fillna(round(all['Family_Size'].mean()),inplace=True)"
   ]
  },
  {
   "cell_type": "code",
   "execution_count": 54,
   "metadata": {},
   "outputs": [],
   "source": [
    "#Var_1\n",
    "all['Var_1'].fillna('Cat_6',inplace=True)\n",
    "all['Var_1']=all['Var_1'].apply(lambda x:x[-1])\n",
    "all['Var_1']=all['Var_1'].astype('int')"
   ]
  },
  {
   "cell_type": "code",
   "execution_count": 55,
   "metadata": {},
   "outputs": [],
   "source": [
    "#Train & Test Split\n",
    "from sklearn.model_selection import train_test_split\n",
    "df_train, df_eval = train_test_split(all[all['train_y_n']==1], test_size=0.40, random_state=101, shuffle=True, stratify=all[all['train_y_n']==1][label_col])"
   ]
  },
  {
   "cell_type": "code",
   "execution_count": 56,
   "metadata": {},
   "outputs": [],
   "source": [
    "le = preprocessing.LabelEncoder()\n",
    "df_train['Segmentation']=le.fit_transform(df_train['Segmentation'])\n",
    "df_eval['Segmentation']=le.fit_transform(df_eval['Segmentation'])"
   ]
  },
  {
   "cell_type": "code",
   "execution_count": 57,
   "metadata": {},
   "outputs": [
    {
     "name": "stdout",
     "output_type": "stream",
     "text": [
      "<class 'pandas.core.frame.DataFrame'>\n",
      "Int64Index: 4840 entries, 6452 to 4455\n",
      "Data columns (total 12 columns):\n",
      " #   Column           Non-Null Count  Dtype  \n",
      "---  ------           --------------  -----  \n",
      " 0   ID               4840 non-null   int64  \n",
      " 1   Age              4840 non-null   int64  \n",
      " 2   Work_Experience  4840 non-null   float64\n",
      " 3   Spending_Score   4840 non-null   int64  \n",
      " 4   Family_Size      4840 non-null   float64\n",
      " 5   Var_1            4840 non-null   int64  \n",
      " 6   Segmentation     4840 non-null   int64  \n",
      " 7   train_y_n        4840 non-null   int64  \n",
      " 8   Gender_Male      4840 non-null   uint8  \n",
      " 9   Married_Yes      4840 non-null   uint8  \n",
      " 10  Graduated_Yes    4840 non-null   uint8  \n",
      " 11  Profession_en    4840 non-null   int64  \n",
      "dtypes: float64(2), int64(7), uint8(3)\n",
      "memory usage: 392.3 KB\n"
     ]
    }
   ],
   "source": [
    "df_train.info()"
   ]
  },
  {
   "cell_type": "code",
   "execution_count": 58,
   "metadata": {},
   "outputs": [
    {
     "name": "stdout",
     "output_type": "stream",
     "text": [
      "<class 'pandas.core.frame.DataFrame'>\n",
      "Int64Index: 3228 entries, 6457 to 1140\n",
      "Data columns (total 12 columns):\n",
      " #   Column           Non-Null Count  Dtype  \n",
      "---  ------           --------------  -----  \n",
      " 0   ID               3228 non-null   int64  \n",
      " 1   Age              3228 non-null   int64  \n",
      " 2   Work_Experience  3228 non-null   float64\n",
      " 3   Spending_Score   3228 non-null   int64  \n",
      " 4   Family_Size      3228 non-null   float64\n",
      " 5   Var_1            3228 non-null   int64  \n",
      " 6   Segmentation     3228 non-null   int64  \n",
      " 7   train_y_n        3228 non-null   int64  \n",
      " 8   Gender_Male      3228 non-null   uint8  \n",
      " 9   Married_Yes      3228 non-null   uint8  \n",
      " 10  Graduated_Yes    3228 non-null   uint8  \n",
      " 11  Profession_en    3228 non-null   int64  \n",
      "dtypes: float64(2), int64(7), uint8(3)\n",
      "memory usage: 261.6 KB\n"
     ]
    }
   ],
   "source": [
    "df_eval.info()"
   ]
  },
  {
   "cell_type": "markdown",
   "metadata": {},
   "source": [
    "### Model Building"
   ]
  },
  {
   "cell_type": "code",
   "execution_count": 59,
   "metadata": {},
   "outputs": [],
   "source": [
    "import lightgbm as lgb\n",
    "from sklearn import preprocessing\n",
    "from sklearn.metrics import mean_squared_log_error, mean_squared_error\n",
    "from sklearn.model_selection import train_test_split\n",
    "from sklearn.metrics import roc_auc_score\n",
    "from sklearn.metrics import accuracy_score\n",
    "from sklearn.metrics import log_loss\n",
    "from sklearn.metrics import classification_report\n",
    "import seaborn as sns\n",
    "from collections import Counter\n",
    "sns.set_style('whitegrid')\n",
    "#plt.rcParams['figure.figsize'] = (12, 10)\n",
    "# https://stackoverflow.com/questions/4150171/how-to-create-a-density-plot-in-matplotlib"
   ]
  },
  {
   "cell_type": "code",
   "execution_count": 60,
   "metadata": {},
   "outputs": [],
   "source": [
    "params = {}\n",
    "params['learning_rate'] = 0.04\n",
    "params['max_depth'] = 18\n",
    "params['n_estimators'] = 3000\n",
    "params['objective'] = 'multiclass'\n",
    "params['boosting_type'] = 'gbdt'\n",
    "params['subsample'] = 0.7\n",
    "params['random_state'] = 42\n",
    "params['colsample_bytree']=0.7\n",
    "params['min_data_in_leaf'] = 55\n",
    "params['reg_alpha'] = 1.7\n",
    "params['reg_lambda'] = 1.11\n",
    "#params['class_weight']: {0: 0.44, 1: 0.4, 2: 0.37}"
   ]
  },
  {
   "cell_type": "code",
   "execution_count": 61,
   "metadata": {},
   "outputs": [
    {
     "name": "stdout",
     "output_type": "stream",
     "text": [
      "['Age', 'Work_Experience', 'Spending_Score', 'Family_Size', 'Var_1', 'Gender_Male', 'Married_Yes', 'Graduated_Yes', 'Profession_en']\n"
     ]
    }
   ],
   "source": [
    "feature_cols = df_train.columns.tolist()\n",
    "feature_cols.remove('ID')\n",
    "feature_cols.remove('Segmentation')\n",
    "feature_cols.remove('train_y_n')\n",
    "label_col = 'Segmentation'\n",
    "print(feature_cols)"
   ]
  },
  {
   "cell_type": "code",
   "execution_count": 62,
   "metadata": {},
   "outputs": [],
   "source": [
    "cat_cols=['Spending_Score','Family_Size','Var_1','Gender_Male','Married_Yes','Graduated_Yes','Profession_en']"
   ]
  },
  {
   "cell_type": "code",
   "execution_count": 63,
   "metadata": {},
   "outputs": [
    {
     "name": "stdout",
     "output_type": "stream",
     "text": [
      "[1]\tvalid_0's multi_error: 0.719008\tvalid_0's multi_logloss: 1.36928\tvalid_1's multi_error: 0.718711\tvalid_1's multi_logloss: 1.36994\n",
      "Training until validation scores don't improve for 100 rounds\n",
      "[2]\tvalid_0's multi_error: 0.692562\tvalid_0's multi_logloss: 1.35576\tvalid_1's multi_error: 0.696097\tvalid_1's multi_logloss: 1.35788\n",
      "[3]\tvalid_0's multi_error: 0.625207\tvalid_0's multi_logloss: 1.34239\tvalid_1's multi_error: 0.630731\tvalid_1's multi_logloss: 1.34583\n",
      "[4]\tvalid_0's multi_error: 0.591942\tvalid_0's multi_logloss: 1.3287\tvalid_1's multi_error: 0.598823\tvalid_1's multi_logloss: 1.33322\n",
      "[5]\tvalid_0's multi_error: 0.560331\tvalid_0's multi_logloss: 1.31858\tvalid_1's multi_error: 0.574969\tvalid_1's multi_logloss: 1.32373\n",
      "[6]\tvalid_0's multi_error: 0.528306\tvalid_0's multi_logloss: 1.30797\tvalid_1's multi_error: 0.54368\tvalid_1's multi_logloss: 1.31407\n",
      "[7]\tvalid_0's multi_error: 0.498347\tvalid_0's multi_logloss: 1.29648\tvalid_1's multi_error: 0.523854\tvalid_1's multi_logloss: 1.30353\n",
      "[8]\tvalid_0's multi_error: 0.48843\tvalid_0's multi_logloss: 1.28671\tvalid_1's multi_error: 0.512701\tvalid_1's multi_logloss: 1.29457\n",
      "[9]\tvalid_0's multi_error: 0.472934\tvalid_0's multi_logloss: 1.27653\tvalid_1's multi_error: 0.495973\tvalid_1's multi_logloss: 1.2855\n",
      "[10]\tvalid_0's multi_error: 0.459917\tvalid_0's multi_logloss: 1.26658\tvalid_1's multi_error: 0.488228\tvalid_1's multi_logloss: 1.27634\n",
      "[11]\tvalid_0's multi_error: 0.456198\tvalid_0's multi_logloss: 1.25777\tvalid_1's multi_error: 0.484201\tvalid_1's multi_logloss: 1.26836\n",
      "[12]\tvalid_0's multi_error: 0.45124\tvalid_0's multi_logloss: 1.24904\tvalid_1's multi_error: 0.480793\tvalid_1's multi_logloss: 1.26035\n",
      "[13]\tvalid_0's multi_error: 0.443802\tvalid_0's multi_logloss: 1.24092\tvalid_1's multi_error: 0.475836\tvalid_1's multi_logloss: 1.25322\n",
      "[14]\tvalid_0's multi_error: 0.440702\tvalid_0's multi_logloss: 1.23224\tvalid_1's multi_error: 0.468711\tvalid_1's multi_logloss: 1.24535\n",
      "[15]\tvalid_0's multi_error: 0.438636\tvalid_0's multi_logloss: 1.22429\tvalid_1's multi_error: 0.46995\tvalid_1's multi_logloss: 1.23849\n",
      "[16]\tvalid_0's multi_error: 0.438636\tvalid_0's multi_logloss: 1.21672\tvalid_1's multi_error: 0.47088\tvalid_1's multi_logloss: 1.23182\n",
      "[17]\tvalid_0's multi_error: 0.436364\tvalid_0's multi_logloss: 1.20918\tvalid_1's multi_error: 0.47057\tvalid_1's multi_logloss: 1.22543\n",
      "[18]\tvalid_0's multi_error: 0.438223\tvalid_0's multi_logloss: 1.20215\tvalid_1's multi_error: 0.469331\tvalid_1's multi_logloss: 1.21933\n",
      "[19]\tvalid_0's multi_error: 0.437397\tvalid_0's multi_logloss: 1.19602\tvalid_1's multi_error: 0.47026\tvalid_1's multi_logloss: 1.2141\n",
      "[20]\tvalid_0's multi_error: 0.436157\tvalid_0's multi_logloss: 1.18889\tvalid_1's multi_error: 0.469021\tvalid_1's multi_logloss: 1.20791\n",
      "[21]\tvalid_0's multi_error: 0.434917\tvalid_0's multi_logloss: 1.18357\tvalid_1's multi_error: 0.473048\tvalid_1's multi_logloss: 1.20352\n",
      "[22]\tvalid_0's multi_error: 0.433678\tvalid_0's multi_logloss: 1.17756\tvalid_1's multi_error: 0.472429\tvalid_1's multi_logloss: 1.19847\n",
      "[23]\tvalid_0's multi_error: 0.432025\tvalid_0's multi_logloss: 1.17175\tvalid_1's multi_error: 0.472119\tvalid_1's multi_logloss: 1.19379\n",
      "[24]\tvalid_0's multi_error: 0.429339\tvalid_0's multi_logloss: 1.16658\tvalid_1's multi_error: 0.474287\tvalid_1's multi_logloss: 1.18925\n",
      "[25]\tvalid_0's multi_error: 0.430372\tvalid_0's multi_logloss: 1.16107\tvalid_1's multi_error: 0.473978\tvalid_1's multi_logloss: 1.18476\n",
      "[26]\tvalid_0's multi_error: 0.429959\tvalid_0's multi_logloss: 1.15595\tvalid_1's multi_error: 0.475527\tvalid_1's multi_logloss: 1.18039\n",
      "[27]\tvalid_0's multi_error: 0.428099\tvalid_0's multi_logloss: 1.15075\tvalid_1's multi_error: 0.477385\tvalid_1's multi_logloss: 1.17636\n",
      "[28]\tvalid_0's multi_error: 0.427686\tvalid_0's multi_logloss: 1.14532\tvalid_1's multi_error: 0.476766\tvalid_1's multi_logloss: 1.17213\n",
      "[29]\tvalid_0's multi_error: 0.426446\tvalid_0's multi_logloss: 1.14024\tvalid_1's multi_error: 0.474287\tvalid_1's multi_logloss: 1.16814\n",
      "[30]\tvalid_0's multi_error: 0.42624\tvalid_0's multi_logloss: 1.13522\tvalid_1's multi_error: 0.473358\tvalid_1's multi_logloss: 1.16404\n",
      "[31]\tvalid_0's multi_error: 0.42438\tvalid_0's multi_logloss: 1.13029\tvalid_1's multi_error: 0.473978\tvalid_1's multi_logloss: 1.16026\n",
      "[32]\tvalid_0's multi_error: 0.425826\tvalid_0's multi_logloss: 1.12588\tvalid_1's multi_error: 0.472119\tvalid_1's multi_logloss: 1.15662\n",
      "[33]\tvalid_0's multi_error: 0.423554\tvalid_0's multi_logloss: 1.12139\tvalid_1's multi_error: 0.471499\tvalid_1's multi_logloss: 1.15298\n",
      "[34]\tvalid_0's multi_error: 0.422521\tvalid_0's multi_logloss: 1.11744\tvalid_1's multi_error: 0.469641\tvalid_1's multi_logloss: 1.15\n",
      "[35]\tvalid_0's multi_error: 0.425207\tvalid_0's multi_logloss: 1.11374\tvalid_1's multi_error: 0.47026\tvalid_1's multi_logloss: 1.14677\n",
      "[36]\tvalid_0's multi_error: 0.42562\tvalid_0's multi_logloss: 1.11\tvalid_1's multi_error: 0.465613\tvalid_1's multi_logloss: 1.14375\n",
      "[37]\tvalid_0's multi_error: 0.425\tvalid_0's multi_logloss: 1.10633\tvalid_1's multi_error: 0.468401\tvalid_1's multi_logloss: 1.14107\n",
      "[38]\tvalid_0's multi_error: 0.423554\tvalid_0's multi_logloss: 1.10256\tvalid_1's multi_error: 0.469021\tvalid_1's multi_logloss: 1.13821\n",
      "[39]\tvalid_0's multi_error: 0.42314\tvalid_0's multi_logloss: 1.09912\tvalid_1's multi_error: 0.468401\tvalid_1's multi_logloss: 1.13583\n",
      "[40]\tvalid_0's multi_error: 0.422727\tvalid_0's multi_logloss: 1.09596\tvalid_1's multi_error: 0.467472\tvalid_1's multi_logloss: 1.13343\n",
      "[41]\tvalid_0's multi_error: 0.422107\tvalid_0's multi_logloss: 1.09208\tvalid_1's multi_error: 0.468711\tvalid_1's multi_logloss: 1.13056\n",
      "[42]\tvalid_0's multi_error: 0.422107\tvalid_0's multi_logloss: 1.08897\tvalid_1's multi_error: 0.47057\tvalid_1's multi_logloss: 1.12831\n",
      "[43]\tvalid_0's multi_error: 0.42314\tvalid_0's multi_logloss: 1.08621\tvalid_1's multi_error: 0.473048\tvalid_1's multi_logloss: 1.12638\n",
      "[44]\tvalid_0's multi_error: 0.421074\tvalid_0's multi_logloss: 1.08323\tvalid_1's multi_error: 0.472739\tvalid_1's multi_logloss: 1.12452\n",
      "[45]\tvalid_0's multi_error: 0.421074\tvalid_0's multi_logloss: 1.07986\tvalid_1's multi_error: 0.472429\tvalid_1's multi_logloss: 1.12207\n",
      "[46]\tvalid_0's multi_error: 0.420041\tvalid_0's multi_logloss: 1.07763\tvalid_1's multi_error: 0.473048\tvalid_1's multi_logloss: 1.12063\n",
      "[47]\tvalid_0's multi_error: 0.420248\tvalid_0's multi_logloss: 1.07509\tvalid_1's multi_error: 0.473048\tvalid_1's multi_logloss: 1.11917\n",
      "[48]\tvalid_0's multi_error: 0.419628\tvalid_0's multi_logloss: 1.07251\tvalid_1's multi_error: 0.471809\tvalid_1's multi_logloss: 1.11748\n",
      "[49]\tvalid_0's multi_error: 0.418388\tvalid_0's multi_logloss: 1.06991\tvalid_1's multi_error: 0.473358\tvalid_1's multi_logloss: 1.11578\n",
      "[50]\tvalid_0's multi_error: 0.418182\tvalid_0's multi_logloss: 1.0668\tvalid_1's multi_error: 0.472739\tvalid_1's multi_logloss: 1.11369\n",
      "[51]\tvalid_0's multi_error: 0.417769\tvalid_0's multi_logloss: 1.06412\tvalid_1's multi_error: 0.472119\tvalid_1's multi_logloss: 1.11178\n",
      "[52]\tvalid_0's multi_error: 0.417562\tvalid_0's multi_logloss: 1.06107\tvalid_1's multi_error: 0.471809\tvalid_1's multi_logloss: 1.10959\n",
      "[53]\tvalid_0's multi_error: 0.417769\tvalid_0's multi_logloss: 1.05856\tvalid_1's multi_error: 0.471809\tvalid_1's multi_logloss: 1.108\n",
      "[54]\tvalid_0's multi_error: 0.417149\tvalid_0's multi_logloss: 1.0557\tvalid_1's multi_error: 0.469331\tvalid_1's multi_logloss: 1.10604\n",
      "[55]\tvalid_0's multi_error: 0.416529\tvalid_0's multi_logloss: 1.05323\tvalid_1's multi_error: 0.468401\tvalid_1's multi_logloss: 1.10441\n",
      "[56]\tvalid_0's multi_error: 0.416116\tvalid_0's multi_logloss: 1.05121\tvalid_1's multi_error: 0.466853\tvalid_1's multi_logloss: 1.10321\n",
      "[57]\tvalid_0's multi_error: 0.414876\tvalid_0's multi_logloss: 1.04893\tvalid_1's multi_error: 0.467162\tvalid_1's multi_logloss: 1.10201\n",
      "[58]\tvalid_0's multi_error: 0.414463\tvalid_0's multi_logloss: 1.04682\tvalid_1's multi_error: 0.468401\tvalid_1's multi_logloss: 1.1007\n",
      "[59]\tvalid_0's multi_error: 0.414463\tvalid_0's multi_logloss: 1.0445\tvalid_1's multi_error: 0.467162\tvalid_1's multi_logloss: 1.09907\n",
      "[60]\tvalid_0's multi_error: 0.413843\tvalid_0's multi_logloss: 1.04238\tvalid_1's multi_error: 0.467472\tvalid_1's multi_logloss: 1.09802\n",
      "[61]\tvalid_0's multi_error: 0.413843\tvalid_0's multi_logloss: 1.04052\tvalid_1's multi_error: 0.468092\tvalid_1's multi_logloss: 1.09672\n",
      "[62]\tvalid_0's multi_error: 0.413636\tvalid_0's multi_logloss: 1.03856\tvalid_1's multi_error: 0.467162\tvalid_1's multi_logloss: 1.0955\n",
      "[63]\tvalid_0's multi_error: 0.41281\tvalid_0's multi_logloss: 1.03647\tvalid_1's multi_error: 0.466233\tvalid_1's multi_logloss: 1.09429\n",
      "[64]\tvalid_0's multi_error: 0.413223\tvalid_0's multi_logloss: 1.03456\tvalid_1's multi_error: 0.465613\tvalid_1's multi_logloss: 1.09318\n",
      "[65]\tvalid_0's multi_error: 0.41157\tvalid_0's multi_logloss: 1.03267\tvalid_1's multi_error: 0.466543\tvalid_1's multi_logloss: 1.09215\n",
      "[66]\tvalid_0's multi_error: 0.41157\tvalid_0's multi_logloss: 1.0307\tvalid_1's multi_error: 0.466543\tvalid_1's multi_logloss: 1.09101\n",
      "[67]\tvalid_0's multi_error: 0.411777\tvalid_0's multi_logloss: 1.02905\tvalid_1's multi_error: 0.467162\tvalid_1's multi_logloss: 1.09\n",
      "[68]\tvalid_0's multi_error: 0.41095\tvalid_0's multi_logloss: 1.02689\tvalid_1's multi_error: 0.466853\tvalid_1's multi_logloss: 1.08867\n",
      "[69]\tvalid_0's multi_error: 0.411364\tvalid_0's multi_logloss: 1.025\tvalid_1's multi_error: 0.467782\tvalid_1's multi_logloss: 1.08743\n",
      "[70]\tvalid_0's multi_error: 0.41219\tvalid_0's multi_logloss: 1.02311\tvalid_1's multi_error: 0.465613\tvalid_1's multi_logloss: 1.08631\n"
     ]
    },
    {
     "name": "stdout",
     "output_type": "stream",
     "text": [
      "[71]\tvalid_0's multi_error: 0.412397\tvalid_0's multi_logloss: 1.02111\tvalid_1's multi_error: 0.466233\tvalid_1's multi_logloss: 1.08516\n",
      "[72]\tvalid_0's multi_error: 0.412397\tvalid_0's multi_logloss: 1.01937\tvalid_1's multi_error: 0.466233\tvalid_1's multi_logloss: 1.08423\n",
      "[73]\tvalid_0's multi_error: 0.411983\tvalid_0's multi_logloss: 1.01786\tvalid_1's multi_error: 0.466543\tvalid_1's multi_logloss: 1.0833\n",
      "[74]\tvalid_0's multi_error: 0.412397\tvalid_0's multi_logloss: 1.01617\tvalid_1's multi_error: 0.467782\tvalid_1's multi_logloss: 1.08229\n",
      "[75]\tvalid_0's multi_error: 0.412397\tvalid_0's multi_logloss: 1.01456\tvalid_1's multi_error: 0.466853\tvalid_1's multi_logloss: 1.0813\n",
      "[76]\tvalid_0's multi_error: 0.41219\tvalid_0's multi_logloss: 1.01338\tvalid_1's multi_error: 0.466543\tvalid_1's multi_logloss: 1.08077\n",
      "[77]\tvalid_0's multi_error: 0.410537\tvalid_0's multi_logloss: 1.01198\tvalid_1's multi_error: 0.468092\tvalid_1's multi_logloss: 1.07995\n",
      "[78]\tvalid_0's multi_error: 0.411364\tvalid_0's multi_logloss: 1.01066\tvalid_1's multi_error: 0.467782\tvalid_1's multi_logloss: 1.0792\n",
      "[79]\tvalid_0's multi_error: 0.412397\tvalid_0's multi_logloss: 1.00931\tvalid_1's multi_error: 0.468092\tvalid_1's multi_logloss: 1.07849\n",
      "[80]\tvalid_0's multi_error: 0.41219\tvalid_0's multi_logloss: 1.00799\tvalid_1's multi_error: 0.468092\tvalid_1's multi_logloss: 1.07771\n",
      "[81]\tvalid_0's multi_error: 0.41219\tvalid_0's multi_logloss: 1.0064\tvalid_1's multi_error: 0.465613\tvalid_1's multi_logloss: 1.07669\n",
      "[82]\tvalid_0's multi_error: 0.411157\tvalid_0's multi_logloss: 1.005\tvalid_1's multi_error: 0.463445\tvalid_1's multi_logloss: 1.07606\n",
      "[83]\tvalid_0's multi_error: 0.408678\tvalid_0's multi_logloss: 1.00366\tvalid_1's multi_error: 0.463755\tvalid_1's multi_logloss: 1.07547\n",
      "[84]\tvalid_0's multi_error: 0.408264\tvalid_0's multi_logloss: 1.00253\tvalid_1's multi_error: 0.464374\tvalid_1's multi_logloss: 1.07493\n",
      "[85]\tvalid_0's multi_error: 0.408678\tvalid_0's multi_logloss: 1.00118\tvalid_1's multi_error: 0.463755\tvalid_1's multi_logloss: 1.0745\n",
      "[86]\tvalid_0's multi_error: 0.408678\tvalid_0's multi_logloss: 0.999776\tvalid_1's multi_error: 0.463755\tvalid_1's multi_logloss: 1.07367\n",
      "[87]\tvalid_0's multi_error: 0.408884\tvalid_0's multi_logloss: 0.998573\tvalid_1's multi_error: 0.464374\tvalid_1's multi_logloss: 1.07326\n",
      "[88]\tvalid_0's multi_error: 0.408058\tvalid_0's multi_logloss: 0.997067\tvalid_1's multi_error: 0.464684\tvalid_1's multi_logloss: 1.07256\n",
      "[89]\tvalid_0's multi_error: 0.407645\tvalid_0's multi_logloss: 0.996021\tvalid_1's multi_error: 0.464994\tvalid_1's multi_logloss: 1.0722\n",
      "[90]\tvalid_0's multi_error: 0.408471\tvalid_0's multi_logloss: 0.994814\tvalid_1's multi_error: 0.464684\tvalid_1's multi_logloss: 1.07182\n",
      "[91]\tvalid_0's multi_error: 0.408471\tvalid_0's multi_logloss: 0.993461\tvalid_1's multi_error: 0.465923\tvalid_1's multi_logloss: 1.07129\n",
      "[92]\tvalid_0's multi_error: 0.407438\tvalid_0's multi_logloss: 0.992146\tvalid_1's multi_error: 0.465304\tvalid_1's multi_logloss: 1.07086\n",
      "[93]\tvalid_0's multi_error: 0.407438\tvalid_0's multi_logloss: 0.990812\tvalid_1's multi_error: 0.465304\tvalid_1's multi_logloss: 1.07009\n",
      "[94]\tvalid_0's multi_error: 0.406818\tvalid_0's multi_logloss: 0.989514\tvalid_1's multi_error: 0.464684\tvalid_1's multi_logloss: 1.06976\n",
      "[95]\tvalid_0's multi_error: 0.405785\tvalid_0's multi_logloss: 0.988375\tvalid_1's multi_error: 0.464064\tvalid_1's multi_logloss: 1.06935\n",
      "[96]\tvalid_0's multi_error: 0.405579\tvalid_0's multi_logloss: 0.987148\tvalid_1's multi_error: 0.464064\tvalid_1's multi_logloss: 1.06884\n",
      "[97]\tvalid_0's multi_error: 0.404959\tvalid_0's multi_logloss: 0.985757\tvalid_1's multi_error: 0.464374\tvalid_1's multi_logloss: 1.06836\n",
      "[98]\tvalid_0's multi_error: 0.404959\tvalid_0's multi_logloss: 0.984767\tvalid_1's multi_error: 0.464064\tvalid_1's multi_logloss: 1.06803\n",
      "[99]\tvalid_0's multi_error: 0.404752\tvalid_0's multi_logloss: 0.983628\tvalid_1's multi_error: 0.463755\tvalid_1's multi_logloss: 1.06778\n",
      "[100]\tvalid_0's multi_error: 0.404752\tvalid_0's multi_logloss: 0.982378\tvalid_1's multi_error: 0.464064\tvalid_1's multi_logloss: 1.06735\n",
      "[101]\tvalid_0's multi_error: 0.403306\tvalid_0's multi_logloss: 0.981271\tvalid_1's multi_error: 0.463755\tvalid_1's multi_logloss: 1.06696\n",
      "[102]\tvalid_0's multi_error: 0.402273\tvalid_0's multi_logloss: 0.980266\tvalid_1's multi_error: 0.464374\tvalid_1's multi_logloss: 1.06671\n",
      "[103]\tvalid_0's multi_error: 0.40186\tvalid_0's multi_logloss: 0.97922\tvalid_1's multi_error: 0.465304\tvalid_1's multi_logloss: 1.06649\n",
      "[104]\tvalid_0's multi_error: 0.40124\tvalid_0's multi_logloss: 0.978077\tvalid_1's multi_error: 0.466543\tvalid_1's multi_logloss: 1.06635\n",
      "[105]\tvalid_0's multi_error: 0.40124\tvalid_0's multi_logloss: 0.977037\tvalid_1's multi_error: 0.465613\tvalid_1's multi_logloss: 1.06612\n",
      "[106]\tvalid_0's multi_error: 0.401033\tvalid_0's multi_logloss: 0.976006\tvalid_1's multi_error: 0.467782\tvalid_1's multi_logloss: 1.06583\n",
      "[107]\tvalid_0's multi_error: 0.401033\tvalid_0's multi_logloss: 0.975185\tvalid_1's multi_error: 0.467162\tvalid_1's multi_logloss: 1.06568\n",
      "[108]\tvalid_0's multi_error: 0.39938\tvalid_0's multi_logloss: 0.974056\tvalid_1's multi_error: 0.467782\tvalid_1's multi_logloss: 1.06531\n",
      "[109]\tvalid_0's multi_error: 0.39876\tvalid_0's multi_logloss: 0.973079\tvalid_1's multi_error: 0.467782\tvalid_1's multi_logloss: 1.06502\n",
      "[110]\tvalid_0's multi_error: 0.39814\tvalid_0's multi_logloss: 0.97225\tvalid_1's multi_error: 0.467472\tvalid_1's multi_logloss: 1.06472\n",
      "[111]\tvalid_0's multi_error: 0.397521\tvalid_0's multi_logloss: 0.97122\tvalid_1's multi_error: 0.467162\tvalid_1's multi_logloss: 1.06447\n",
      "[112]\tvalid_0's multi_error: 0.396488\tvalid_0's multi_logloss: 0.970234\tvalid_1's multi_error: 0.465304\tvalid_1's multi_logloss: 1.06425\n",
      "[113]\tvalid_0's multi_error: 0.395455\tvalid_0's multi_logloss: 0.969296\tvalid_1's multi_error: 0.466233\tvalid_1's multi_logloss: 1.06407\n",
      "[114]\tvalid_0's multi_error: 0.395661\tvalid_0's multi_logloss: 0.96822\tvalid_1's multi_error: 0.466853\tvalid_1's multi_logloss: 1.06379\n",
      "[115]\tvalid_0's multi_error: 0.394835\tvalid_0's multi_logloss: 0.967304\tvalid_1's multi_error: 0.464684\tvalid_1's multi_logloss: 1.06348\n",
      "[116]\tvalid_0's multi_error: 0.395455\tvalid_0's multi_logloss: 0.966506\tvalid_1's multi_error: 0.465923\tvalid_1's multi_logloss: 1.06329\n",
      "[117]\tvalid_0's multi_error: 0.394835\tvalid_0's multi_logloss: 0.965473\tvalid_1's multi_error: 0.465613\tvalid_1's multi_logloss: 1.06309\n",
      "[118]\tvalid_0's multi_error: 0.394215\tvalid_0's multi_logloss: 0.964716\tvalid_1's multi_error: 0.464684\tvalid_1's multi_logloss: 1.06296\n",
      "[119]\tvalid_0's multi_error: 0.394835\tvalid_0's multi_logloss: 0.963647\tvalid_1's multi_error: 0.465613\tvalid_1's multi_logloss: 1.06269\n",
      "[120]\tvalid_0's multi_error: 0.394215\tvalid_0's multi_logloss: 0.962666\tvalid_1's multi_error: 0.464994\tvalid_1's multi_logloss: 1.06238\n",
      "[121]\tvalid_0's multi_error: 0.392769\tvalid_0's multi_logloss: 0.96165\tvalid_1's multi_error: 0.464684\tvalid_1's multi_logloss: 1.06215\n",
      "[122]\tvalid_0's multi_error: 0.393802\tvalid_0's multi_logloss: 0.960898\tvalid_1's multi_error: 0.465613\tvalid_1's multi_logloss: 1.06203\n",
      "[123]\tvalid_0's multi_error: 0.393595\tvalid_0's multi_logloss: 0.959963\tvalid_1's multi_error: 0.464994\tvalid_1's multi_logloss: 1.06186\n",
      "[124]\tvalid_0's multi_error: 0.393595\tvalid_0's multi_logloss: 0.959167\tvalid_1's multi_error: 0.464374\tvalid_1's multi_logloss: 1.06172\n",
      "[125]\tvalid_0's multi_error: 0.392769\tvalid_0's multi_logloss: 0.958018\tvalid_1's multi_error: 0.464064\tvalid_1's multi_logloss: 1.06154\n",
      "[126]\tvalid_0's multi_error: 0.392769\tvalid_0's multi_logloss: 0.957283\tvalid_1's multi_error: 0.464374\tvalid_1's multi_logloss: 1.06136\n",
      "[127]\tvalid_0's multi_error: 0.392562\tvalid_0's multi_logloss: 0.956354\tvalid_1's multi_error: 0.462825\tvalid_1's multi_logloss: 1.0612\n",
      "[128]\tvalid_0's multi_error: 0.391942\tvalid_0's multi_logloss: 0.955419\tvalid_1's multi_error: 0.463445\tvalid_1's multi_logloss: 1.06102\n",
      "[129]\tvalid_0's multi_error: 0.392149\tvalid_0's multi_logloss: 0.95458\tvalid_1's multi_error: 0.463445\tvalid_1's multi_logloss: 1.06073\n",
      "[130]\tvalid_0's multi_error: 0.392562\tvalid_0's multi_logloss: 0.95379\tvalid_1's multi_error: 0.464374\tvalid_1's multi_logloss: 1.06059\n",
      "[131]\tvalid_0's multi_error: 0.391529\tvalid_0's multi_logloss: 0.952758\tvalid_1's multi_error: 0.464994\tvalid_1's multi_logloss: 1.06036\n",
      "[132]\tvalid_0's multi_error: 0.390702\tvalid_0's multi_logloss: 0.951707\tvalid_1's multi_error: 0.464374\tvalid_1's multi_logloss: 1.06025\n",
      "[133]\tvalid_0's multi_error: 0.390289\tvalid_0's multi_logloss: 0.950874\tvalid_1's multi_error: 0.464684\tvalid_1's multi_logloss: 1.06009\n",
      "[134]\tvalid_0's multi_error: 0.389463\tvalid_0's multi_logloss: 0.950061\tvalid_1's multi_error: 0.464064\tvalid_1's multi_logloss: 1.05984\n",
      "[135]\tvalid_0's multi_error: 0.38905\tvalid_0's multi_logloss: 0.94919\tvalid_1's multi_error: 0.464374\tvalid_1's multi_logloss: 1.05968\n",
      "[136]\tvalid_0's multi_error: 0.389876\tvalid_0's multi_logloss: 0.948295\tvalid_1's multi_error: 0.463445\tvalid_1's multi_logloss: 1.05958\n",
      "[137]\tvalid_0's multi_error: 0.38781\tvalid_0's multi_logloss: 0.947376\tvalid_1's multi_error: 0.463445\tvalid_1's multi_logloss: 1.05956\n",
      "[138]\tvalid_0's multi_error: 0.38719\tvalid_0's multi_logloss: 0.946607\tvalid_1's multi_error: 0.464994\tvalid_1's multi_logloss: 1.05946\n",
      "[139]\tvalid_0's multi_error: 0.386777\tvalid_0's multi_logloss: 0.945936\tvalid_1's multi_error: 0.464374\tvalid_1's multi_logloss: 1.05947\n",
      "[140]\tvalid_0's multi_error: 0.386364\tvalid_0's multi_logloss: 0.944994\tvalid_1's multi_error: 0.463445\tvalid_1's multi_logloss: 1.05929\n",
      "[141]\tvalid_0's multi_error: 0.385537\tvalid_0's multi_logloss: 0.944263\tvalid_1's multi_error: 0.464064\tvalid_1's multi_logloss: 1.05919\n",
      "[142]\tvalid_0's multi_error: 0.385537\tvalid_0's multi_logloss: 0.943471\tvalid_1's multi_error: 0.464064\tvalid_1's multi_logloss: 1.0591\n",
      "[143]\tvalid_0's multi_error: 0.385744\tvalid_0's multi_logloss: 0.942743\tvalid_1's multi_error: 0.462515\tvalid_1's multi_logloss: 1.05909\n",
      "[144]\tvalid_0's multi_error: 0.385744\tvalid_0's multi_logloss: 0.941877\tvalid_1's multi_error: 0.462825\tvalid_1's multi_logloss: 1.059\n",
      "[145]\tvalid_0's multi_error: 0.385537\tvalid_0's multi_logloss: 0.941205\tvalid_1's multi_error: 0.463135\tvalid_1's multi_logloss: 1.05895\n",
      "[146]\tvalid_0's multi_error: 0.385537\tvalid_0's multi_logloss: 0.940533\tvalid_1's multi_error: 0.463445\tvalid_1's multi_logloss: 1.05881\n",
      "[147]\tvalid_0's multi_error: 0.384504\tvalid_0's multi_logloss: 0.939745\tvalid_1's multi_error: 0.463445\tvalid_1's multi_logloss: 1.05878\n",
      "[148]\tvalid_0's multi_error: 0.385124\tvalid_0's multi_logloss: 0.938988\tvalid_1's multi_error: 0.463445\tvalid_1's multi_logloss: 1.05877\n",
      "[149]\tvalid_0's multi_error: 0.384917\tvalid_0's multi_logloss: 0.938311\tvalid_1's multi_error: 0.463135\tvalid_1's multi_logloss: 1.05865\n",
      "[150]\tvalid_0's multi_error: 0.383678\tvalid_0's multi_logloss: 0.937612\tvalid_1's multi_error: 0.462515\tvalid_1's multi_logloss: 1.05864\n",
      "[151]\tvalid_0's multi_error: 0.383058\tvalid_0's multi_logloss: 0.936875\tvalid_1's multi_error: 0.461896\tvalid_1's multi_logloss: 1.05859\n",
      "[152]\tvalid_0's multi_error: 0.383058\tvalid_0's multi_logloss: 0.936096\tvalid_1's multi_error: 0.463445\tvalid_1's multi_logloss: 1.05865\n",
      "[153]\tvalid_0's multi_error: 0.383264\tvalid_0's multi_logloss: 0.935374\tvalid_1's multi_error: 0.463755\tvalid_1's multi_logloss: 1.05853\n",
      "[154]\tvalid_0's multi_error: 0.382645\tvalid_0's multi_logloss: 0.934776\tvalid_1's multi_error: 0.462825\tvalid_1's multi_logloss: 1.0585\n",
      "[155]\tvalid_0's multi_error: 0.382645\tvalid_0's multi_logloss: 0.933982\tvalid_1's multi_error: 0.463135\tvalid_1's multi_logloss: 1.05846\n",
      "[156]\tvalid_0's multi_error: 0.382025\tvalid_0's multi_logloss: 0.933203\tvalid_1's multi_error: 0.464374\tvalid_1's multi_logloss: 1.05842\n",
      "[157]\tvalid_0's multi_error: 0.381405\tvalid_0's multi_logloss: 0.932372\tvalid_1's multi_error: 0.464684\tvalid_1's multi_logloss: 1.05839\n",
      "[158]\tvalid_0's multi_error: 0.381612\tvalid_0's multi_logloss: 0.931663\tvalid_1's multi_error: 0.464374\tvalid_1's multi_logloss: 1.0584\n",
      "[159]\tvalid_0's multi_error: 0.379752\tvalid_0's multi_logloss: 0.930826\tvalid_1's multi_error: 0.465304\tvalid_1's multi_logloss: 1.05834\n",
      "[160]\tvalid_0's multi_error: 0.379752\tvalid_0's multi_logloss: 0.930116\tvalid_1's multi_error: 0.464994\tvalid_1's multi_logloss: 1.05832\n",
      "[161]\tvalid_0's multi_error: 0.379752\tvalid_0's multi_logloss: 0.929379\tvalid_1's multi_error: 0.465613\tvalid_1's multi_logloss: 1.0583\n"
     ]
    },
    {
     "name": "stdout",
     "output_type": "stream",
     "text": [
      "[162]\tvalid_0's multi_error: 0.379545\tvalid_0's multi_logloss: 0.928702\tvalid_1's multi_error: 0.465304\tvalid_1's multi_logloss: 1.05837\n",
      "[163]\tvalid_0's multi_error: 0.379339\tvalid_0's multi_logloss: 0.928012\tvalid_1's multi_error: 0.465304\tvalid_1's multi_logloss: 1.05835\n",
      "[164]\tvalid_0's multi_error: 0.379545\tvalid_0's multi_logloss: 0.927331\tvalid_1's multi_error: 0.465304\tvalid_1's multi_logloss: 1.05828\n",
      "[165]\tvalid_0's multi_error: 0.377686\tvalid_0's multi_logloss: 0.926587\tvalid_1's multi_error: 0.464374\tvalid_1's multi_logloss: 1.05832\n",
      "[166]\tvalid_0's multi_error: 0.378306\tvalid_0's multi_logloss: 0.925807\tvalid_1's multi_error: 0.463755\tvalid_1's multi_logloss: 1.05833\n",
      "[167]\tvalid_0's multi_error: 0.377479\tvalid_0's multi_logloss: 0.925134\tvalid_1's multi_error: 0.463445\tvalid_1's multi_logloss: 1.05828\n",
      "[168]\tvalid_0's multi_error: 0.376446\tvalid_0's multi_logloss: 0.924411\tvalid_1's multi_error: 0.464064\tvalid_1's multi_logloss: 1.05831\n",
      "[169]\tvalid_0's multi_error: 0.375826\tvalid_0's multi_logloss: 0.923665\tvalid_1's multi_error: 0.464064\tvalid_1's multi_logloss: 1.05843\n",
      "[170]\tvalid_0's multi_error: 0.376033\tvalid_0's multi_logloss: 0.922955\tvalid_1's multi_error: 0.464064\tvalid_1's multi_logloss: 1.05839\n",
      "[171]\tvalid_0's multi_error: 0.374587\tvalid_0's multi_logloss: 0.92229\tvalid_1's multi_error: 0.464374\tvalid_1's multi_logloss: 1.05838\n",
      "[172]\tvalid_0's multi_error: 0.373967\tvalid_0's multi_logloss: 0.921455\tvalid_1's multi_error: 0.463755\tvalid_1's multi_logloss: 1.05838\n",
      "[173]\tvalid_0's multi_error: 0.37314\tvalid_0's multi_logloss: 0.920782\tvalid_1's multi_error: 0.463755\tvalid_1's multi_logloss: 1.05833\n",
      "[174]\tvalid_0's multi_error: 0.372934\tvalid_0's multi_logloss: 0.920118\tvalid_1's multi_error: 0.463755\tvalid_1's multi_logloss: 1.05823\n",
      "[175]\tvalid_0's multi_error: 0.373554\tvalid_0's multi_logloss: 0.919499\tvalid_1's multi_error: 0.464374\tvalid_1's multi_logloss: 1.05824\n",
      "[176]\tvalid_0's multi_error: 0.373554\tvalid_0's multi_logloss: 0.918754\tvalid_1's multi_error: 0.464064\tvalid_1's multi_logloss: 1.05825\n",
      "[177]\tvalid_0's multi_error: 0.37314\tvalid_0's multi_logloss: 0.917947\tvalid_1's multi_error: 0.464684\tvalid_1's multi_logloss: 1.05826\n",
      "[178]\tvalid_0's multi_error: 0.372314\tvalid_0's multi_logloss: 0.917271\tvalid_1's multi_error: 0.464684\tvalid_1's multi_logloss: 1.05837\n",
      "[179]\tvalid_0's multi_error: 0.371901\tvalid_0's multi_logloss: 0.916609\tvalid_1's multi_error: 0.465923\tvalid_1's multi_logloss: 1.05831\n",
      "[180]\tvalid_0's multi_error: 0.371488\tvalid_0's multi_logloss: 0.915969\tvalid_1's multi_error: 0.465304\tvalid_1's multi_logloss: 1.05829\n",
      "[181]\tvalid_0's multi_error: 0.371281\tvalid_0's multi_logloss: 0.915299\tvalid_1's multi_error: 0.466853\tvalid_1's multi_logloss: 1.0584\n",
      "[182]\tvalid_0's multi_error: 0.370661\tvalid_0's multi_logloss: 0.91459\tvalid_1's multi_error: 0.465923\tvalid_1's multi_logloss: 1.05837\n",
      "[183]\tvalid_0's multi_error: 0.370868\tvalid_0's multi_logloss: 0.913949\tvalid_1's multi_error: 0.465923\tvalid_1's multi_logloss: 1.05836\n",
      "[184]\tvalid_0's multi_error: 0.370041\tvalid_0's multi_logloss: 0.913271\tvalid_1's multi_error: 0.465613\tvalid_1's multi_logloss: 1.0583\n",
      "[185]\tvalid_0's multi_error: 0.370041\tvalid_0's multi_logloss: 0.912634\tvalid_1's multi_error: 0.466543\tvalid_1's multi_logloss: 1.05822\n",
      "[186]\tvalid_0's multi_error: 0.369835\tvalid_0's multi_logloss: 0.912125\tvalid_1's multi_error: 0.466543\tvalid_1's multi_logloss: 1.05814\n",
      "[187]\tvalid_0's multi_error: 0.369628\tvalid_0's multi_logloss: 0.911424\tvalid_1's multi_error: 0.466233\tvalid_1's multi_logloss: 1.05824\n",
      "[188]\tvalid_0's multi_error: 0.369008\tvalid_0's multi_logloss: 0.910793\tvalid_1's multi_error: 0.465923\tvalid_1's multi_logloss: 1.0583\n",
      "[189]\tvalid_0's multi_error: 0.368595\tvalid_0's multi_logloss: 0.91018\tvalid_1's multi_error: 0.465613\tvalid_1's multi_logloss: 1.05839\n",
      "[190]\tvalid_0's multi_error: 0.368802\tvalid_0's multi_logloss: 0.909499\tvalid_1's multi_error: 0.466543\tvalid_1's multi_logloss: 1.05849\n",
      "[191]\tvalid_0's multi_error: 0.368595\tvalid_0's multi_logloss: 0.90903\tvalid_1's multi_error: 0.466233\tvalid_1's multi_logloss: 1.0585\n",
      "[192]\tvalid_0's multi_error: 0.369008\tvalid_0's multi_logloss: 0.908515\tvalid_1's multi_error: 0.466543\tvalid_1's multi_logloss: 1.05847\n",
      "[193]\tvalid_0's multi_error: 0.368595\tvalid_0's multi_logloss: 0.90791\tvalid_1's multi_error: 0.464994\tvalid_1's multi_logloss: 1.0585\n",
      "[194]\tvalid_0's multi_error: 0.366942\tvalid_0's multi_logloss: 0.907224\tvalid_1's multi_error: 0.464994\tvalid_1's multi_logloss: 1.05838\n",
      "[195]\tvalid_0's multi_error: 0.365909\tvalid_0's multi_logloss: 0.906662\tvalid_1's multi_error: 0.464374\tvalid_1's multi_logloss: 1.05842\n",
      "[196]\tvalid_0's multi_error: 0.366116\tvalid_0's multi_logloss: 0.906112\tvalid_1's multi_error: 0.465304\tvalid_1's multi_logloss: 1.05848\n",
      "[197]\tvalid_0's multi_error: 0.366116\tvalid_0's multi_logloss: 0.905457\tvalid_1's multi_error: 0.466233\tvalid_1's multi_logloss: 1.05841\n",
      "[198]\tvalid_0's multi_error: 0.366116\tvalid_0's multi_logloss: 0.904956\tvalid_1's multi_error: 0.466543\tvalid_1's multi_logloss: 1.05851\n",
      "[199]\tvalid_0's multi_error: 0.365702\tvalid_0's multi_logloss: 0.904343\tvalid_1's multi_error: 0.465613\tvalid_1's multi_logloss: 1.0586\n",
      "[200]\tvalid_0's multi_error: 0.365083\tvalid_0's multi_logloss: 0.903657\tvalid_1's multi_error: 0.465613\tvalid_1's multi_logloss: 1.05855\n",
      "[201]\tvalid_0's multi_error: 0.365289\tvalid_0's multi_logloss: 0.903181\tvalid_1's multi_error: 0.465923\tvalid_1's multi_logloss: 1.05861\n",
      "[202]\tvalid_0's multi_error: 0.364876\tvalid_0's multi_logloss: 0.90261\tvalid_1's multi_error: 0.466853\tvalid_1's multi_logloss: 1.05852\n",
      "[203]\tvalid_0's multi_error: 0.364669\tvalid_0's multi_logloss: 0.902062\tvalid_1's multi_error: 0.465613\tvalid_1's multi_logloss: 1.05854\n",
      "[204]\tvalid_0's multi_error: 0.364256\tvalid_0's multi_logloss: 0.901504\tvalid_1's multi_error: 0.465923\tvalid_1's multi_logloss: 1.05875\n",
      "[205]\tvalid_0's multi_error: 0.36343\tvalid_0's multi_logloss: 0.900955\tvalid_1's multi_error: 0.466543\tvalid_1's multi_logloss: 1.05886\n",
      "[206]\tvalid_0's multi_error: 0.36281\tvalid_0's multi_logloss: 0.900316\tvalid_1's multi_error: 0.466233\tvalid_1's multi_logloss: 1.05898\n",
      "[207]\tvalid_0's multi_error: 0.362603\tvalid_0's multi_logloss: 0.899726\tvalid_1's multi_error: 0.465304\tvalid_1's multi_logloss: 1.05909\n",
      "[208]\tvalid_0's multi_error: 0.361364\tvalid_0's multi_logloss: 0.899057\tvalid_1's multi_error: 0.465613\tvalid_1's multi_logloss: 1.05923\n",
      "[209]\tvalid_0's multi_error: 0.36095\tvalid_0's multi_logloss: 0.898378\tvalid_1's multi_error: 0.465923\tvalid_1's multi_logloss: 1.05921\n",
      "[210]\tvalid_0's multi_error: 0.359711\tvalid_0's multi_logloss: 0.89761\tvalid_1's multi_error: 0.466233\tvalid_1's multi_logloss: 1.0591\n",
      "[211]\tvalid_0's multi_error: 0.359917\tvalid_0's multi_logloss: 0.897025\tvalid_1's multi_error: 0.465923\tvalid_1's multi_logloss: 1.0591\n",
      "[212]\tvalid_0's multi_error: 0.359711\tvalid_0's multi_logloss: 0.896369\tvalid_1's multi_error: 0.466233\tvalid_1's multi_logloss: 1.05919\n",
      "[213]\tvalid_0's multi_error: 0.359504\tvalid_0's multi_logloss: 0.895777\tvalid_1's multi_error: 0.466233\tvalid_1's multi_logloss: 1.05925\n",
      "[214]\tvalid_0's multi_error: 0.359504\tvalid_0's multi_logloss: 0.895129\tvalid_1's multi_error: 0.466233\tvalid_1's multi_logloss: 1.05933\n",
      "[215]\tvalid_0's multi_error: 0.358678\tvalid_0's multi_logloss: 0.894634\tvalid_1's multi_error: 0.466853\tvalid_1's multi_logloss: 1.0594\n",
      "[216]\tvalid_0's multi_error: 0.358884\tvalid_0's multi_logloss: 0.894045\tvalid_1's multi_error: 0.467782\tvalid_1's multi_logloss: 1.0594\n",
      "[217]\tvalid_0's multi_error: 0.358471\tvalid_0's multi_logloss: 0.893483\tvalid_1's multi_error: 0.467782\tvalid_1's multi_logloss: 1.05941\n",
      "[218]\tvalid_0's multi_error: 0.358264\tvalid_0's multi_logloss: 0.89293\tvalid_1's multi_error: 0.467472\tvalid_1's multi_logloss: 1.05935\n",
      "[219]\tvalid_0's multi_error: 0.358058\tvalid_0's multi_logloss: 0.892466\tvalid_1's multi_error: 0.467162\tvalid_1's multi_logloss: 1.05944\n",
      "[220]\tvalid_0's multi_error: 0.357645\tvalid_0's multi_logloss: 0.891846\tvalid_1's multi_error: 0.466853\tvalid_1's multi_logloss: 1.05955\n",
      "[221]\tvalid_0's multi_error: 0.357645\tvalid_0's multi_logloss: 0.891371\tvalid_1's multi_error: 0.466543\tvalid_1's multi_logloss: 1.05952\n",
      "[222]\tvalid_0's multi_error: 0.357438\tvalid_0's multi_logloss: 0.890796\tvalid_1's multi_error: 0.466233\tvalid_1's multi_logloss: 1.05944\n",
      "[223]\tvalid_0's multi_error: 0.357231\tvalid_0's multi_logloss: 0.890238\tvalid_1's multi_error: 0.465923\tvalid_1's multi_logloss: 1.0595\n",
      "[224]\tvalid_0's multi_error: 0.357025\tvalid_0's multi_logloss: 0.889723\tvalid_1's multi_error: 0.466233\tvalid_1's multi_logloss: 1.05955\n",
      "[225]\tvalid_0's multi_error: 0.356198\tvalid_0's multi_logloss: 0.889195\tvalid_1's multi_error: 0.465923\tvalid_1's multi_logloss: 1.05966\n",
      "[226]\tvalid_0's multi_error: 0.356818\tvalid_0's multi_logloss: 0.888587\tvalid_1's multi_error: 0.466233\tvalid_1's multi_logloss: 1.05968\n",
      "[227]\tvalid_0's multi_error: 0.357025\tvalid_0's multi_logloss: 0.887963\tvalid_1's multi_error: 0.467472\tvalid_1's multi_logloss: 1.05977\n",
      "[228]\tvalid_0's multi_error: 0.356198\tvalid_0's multi_logloss: 0.887419\tvalid_1's multi_error: 0.466853\tvalid_1's multi_logloss: 1.05984\n",
      "[229]\tvalid_0's multi_error: 0.356818\tvalid_0's multi_logloss: 0.886848\tvalid_1's multi_error: 0.467472\tvalid_1's multi_logloss: 1.05991\n",
      "[230]\tvalid_0's multi_error: 0.356612\tvalid_0's multi_logloss: 0.886327\tvalid_1's multi_error: 0.467782\tvalid_1's multi_logloss: 1.05998\n",
      "[231]\tvalid_0's multi_error: 0.356405\tvalid_0's multi_logloss: 0.885781\tvalid_1's multi_error: 0.468092\tvalid_1's multi_logloss: 1.05997\n",
      "[232]\tvalid_0's multi_error: 0.355372\tvalid_0's multi_logloss: 0.885394\tvalid_1's multi_error: 0.469021\tvalid_1's multi_logloss: 1.06004\n",
      "[233]\tvalid_0's multi_error: 0.355372\tvalid_0's multi_logloss: 0.884834\tvalid_1's multi_error: 0.468711\tvalid_1's multi_logloss: 1.06009\n"
     ]
    },
    {
     "name": "stdout",
     "output_type": "stream",
     "text": [
      "[234]\tvalid_0's multi_error: 0.354339\tvalid_0's multi_logloss: 0.884334\tvalid_1's multi_error: 0.469641\tvalid_1's multi_logloss: 1.06029\n",
      "[235]\tvalid_0's multi_error: 0.354545\tvalid_0's multi_logloss: 0.88376\tvalid_1's multi_error: 0.46995\tvalid_1's multi_logloss: 1.06037\n",
      "[236]\tvalid_0's multi_error: 0.354339\tvalid_0's multi_logloss: 0.883173\tvalid_1's multi_error: 0.469021\tvalid_1's multi_logloss: 1.06047\n",
      "[237]\tvalid_0's multi_error: 0.354959\tvalid_0's multi_logloss: 0.882697\tvalid_1's multi_error: 0.469331\tvalid_1's multi_logloss: 1.06057\n",
      "[238]\tvalid_0's multi_error: 0.353926\tvalid_0's multi_logloss: 0.882159\tvalid_1's multi_error: 0.47026\tvalid_1's multi_logloss: 1.0607\n",
      "[239]\tvalid_0's multi_error: 0.353512\tvalid_0's multi_logloss: 0.881655\tvalid_1's multi_error: 0.46995\tvalid_1's multi_logloss: 1.0608\n",
      "[240]\tvalid_0's multi_error: 0.352893\tvalid_0's multi_logloss: 0.881135\tvalid_1's multi_error: 0.46995\tvalid_1's multi_logloss: 1.06082\n",
      "[241]\tvalid_0's multi_error: 0.352893\tvalid_0's multi_logloss: 0.880705\tvalid_1's multi_error: 0.469641\tvalid_1's multi_logloss: 1.06097\n",
      "[242]\tvalid_0's multi_error: 0.352686\tvalid_0's multi_logloss: 0.880231\tvalid_1's multi_error: 0.47026\tvalid_1's multi_logloss: 1.06104\n",
      "[243]\tvalid_0's multi_error: 0.353099\tvalid_0's multi_logloss: 0.879876\tvalid_1's multi_error: 0.47026\tvalid_1's multi_logloss: 1.06113\n",
      "[244]\tvalid_0's multi_error: 0.353512\tvalid_0's multi_logloss: 0.879253\tvalid_1's multi_error: 0.47057\tvalid_1's multi_logloss: 1.06111\n",
      "[245]\tvalid_0's multi_error: 0.353719\tvalid_0's multi_logloss: 0.878817\tvalid_1's multi_error: 0.47026\tvalid_1's multi_logloss: 1.06111\n",
      "[246]\tvalid_0's multi_error: 0.353099\tvalid_0's multi_logloss: 0.878272\tvalid_1's multi_error: 0.47057\tvalid_1's multi_logloss: 1.06113\n",
      "[247]\tvalid_0's multi_error: 0.353099\tvalid_0's multi_logloss: 0.877784\tvalid_1's multi_error: 0.47088\tvalid_1's multi_logloss: 1.06119\n",
      "[248]\tvalid_0's multi_error: 0.352479\tvalid_0's multi_logloss: 0.877174\tvalid_1's multi_error: 0.469641\tvalid_1's multi_logloss: 1.06111\n",
      "[249]\tvalid_0's multi_error: 0.351653\tvalid_0's multi_logloss: 0.876649\tvalid_1's multi_error: 0.469641\tvalid_1's multi_logloss: 1.06119\n",
      "[250]\tvalid_0's multi_error: 0.351653\tvalid_0's multi_logloss: 0.876128\tvalid_1's multi_error: 0.46995\tvalid_1's multi_logloss: 1.06125\n",
      "[251]\tvalid_0's multi_error: 0.35124\tvalid_0's multi_logloss: 0.875603\tvalid_1's multi_error: 0.47057\tvalid_1's multi_logloss: 1.06121\n",
      "Early stopping, best iteration is:\n",
      "[151]\tvalid_0's multi_error: 0.383058\tvalid_0's multi_logloss: 0.936875\tvalid_1's multi_error: 0.461896\tvalid_1's multi_logloss: 1.05859\n",
      "Eval ACC: 0.5381040892193308\n"
     ]
    }
   ],
   "source": [
    "clf = lgb.LGBMClassifier(**params)\n",
    "    \n",
    "clf.fit(df_train[feature_cols], df_train[label_col], early_stopping_rounds=100, eval_set=[(df_train[feature_cols], df_train[label_col]), (df_eval[feature_cols], df_eval[label_col])], eval_metric='multi_error', verbose=True, categorical_feature=cat_cols)\n",
    "\n",
    "eval_score = accuracy_score(df_eval[label_col], clf.predict(df_eval[feature_cols]))\n",
    "\n",
    "print('Eval ACC: {}'.format(eval_score))"
   ]
  },
  {
   "cell_type": "code",
   "execution_count": 64,
   "metadata": {},
   "outputs": [],
   "source": [
    "test=all[all['train_y_n']==0]\n",
    "train=all[all['train_y_n']==1]"
   ]
  },
  {
   "cell_type": "code",
   "execution_count": 65,
   "metadata": {},
   "outputs": [],
   "source": [
    "#Since there is big overlap between test and train, using train data for all the overlapping IDs\n",
    "sub=pd.merge(left=test['ID'],right=train[['ID','Segmentation']],how='left',on='ID')"
   ]
  },
  {
   "cell_type": "code",
   "execution_count": 66,
   "metadata": {},
   "outputs": [],
   "source": [
    "actual_test=(test[test['ID'].isin(train['ID'])==False])"
   ]
  },
  {
   "cell_type": "code",
   "execution_count": 67,
   "metadata": {},
   "outputs": [
    {
     "data": {
      "text/plain": [
       "(295, 12)"
      ]
     },
     "execution_count": 67,
     "metadata": {},
     "output_type": "execute_result"
    }
   ],
   "source": [
    "actual_test.shape"
   ]
  },
  {
   "cell_type": "code",
   "execution_count": 68,
   "metadata": {},
   "outputs": [],
   "source": [
    "pred=clf.predict(actual_test[feature_cols])"
   ]
  },
  {
   "cell_type": "code",
   "execution_count": 69,
   "metadata": {},
   "outputs": [],
   "source": [
    "pred=le.inverse_transform(pred)\n",
    "actual_test['Segmentation']=pred"
   ]
  },
  {
   "cell_type": "code",
   "execution_count": 70,
   "metadata": {},
   "outputs": [],
   "source": [
    "l=actual_test[['ID','Segmentation']]\n",
    "r=sub[sub['Segmentation'].isnull()==False]\n",
    "fr=[l,r]\n",
    "sub=pd.concat(fr)"
   ]
  },
  {
   "cell_type": "code",
   "execution_count": 71,
   "metadata": {},
   "outputs": [],
   "source": [
    "sub[['ID','Segmentation']].to_csv('submission.csv',index = False)"
   ]
  }
 ],
 "metadata": {
  "kernelspec": {
   "display_name": "Python 3",
   "language": "python",
   "name": "python3"
  },
  "language_info": {
   "codemirror_mode": {
    "name": "ipython",
    "version": 3
   },
   "file_extension": ".py",
   "mimetype": "text/x-python",
   "name": "python",
   "nbconvert_exporter": "python",
   "pygments_lexer": "ipython3",
   "version": "3.7.6"
  }
 },
 "nbformat": 4,
 "nbformat_minor": 4
}
