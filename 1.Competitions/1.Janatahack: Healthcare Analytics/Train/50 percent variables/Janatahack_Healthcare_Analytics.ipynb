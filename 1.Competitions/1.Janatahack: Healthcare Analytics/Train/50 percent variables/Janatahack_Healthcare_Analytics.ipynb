{
 "cells": [
  {
   "cell_type": "code",
   "execution_count": 1,
   "metadata": {},
   "outputs": [],
   "source": [
    "#importing useful libraries\n",
    "import pandas as pd\n",
    "import numpy as np\n",
    "import seaborn as sns\n",
    "import matplotlib.pyplot as plt\n",
    "from datetime import datetime\n",
    "%matplotlib inline\n",
    "from statsmodels.stats.outliers_influence import variance_inflation_factor"
   ]
  },
  {
   "cell_type": "code",
   "execution_count": 4,
   "metadata": {},
   "outputs": [],
   "source": [
    "#reading csv\n",
    "health_camp_detail=pd.read_csv('../Health_Camp_Detail.csv')\n",
    "patient_profile=pd.read_csv('../Patient_Profile.csv')\n",
    "fhc=pd.read_csv('../First_Health_Camp_Attended.csv')\n",
    "shc=pd.read_csv('../Second_Health_Camp_Attended.csv')\n",
    "thc=pd.read_csv('../Third_Health_Camp_Attended.csv')\n",
    "train=pd.read_csv('../Train.csv')\n",
    "test=pd.read_csv('../../test_l0Auv8Q.csv')"
   ]
  },
  {
   "cell_type": "markdown",
   "metadata": {},
   "source": [
    "## Health Camp Detail"
   ]
  },
  {
   "cell_type": "code",
   "execution_count": 3,
   "metadata": {},
   "outputs": [
    {
     "name": "stdout",
     "output_type": "stream",
     "text": [
      "<class 'pandas.core.frame.DataFrame'>\n",
      "RangeIndex: 65 entries, 0 to 64\n",
      "Data columns (total 6 columns):\n",
      " #   Column           Non-Null Count  Dtype \n",
      "---  ------           --------------  ----- \n",
      " 0   Health_Camp_ID   65 non-null     int64 \n",
      " 1   Camp_Start_Date  65 non-null     object\n",
      " 2   Camp_End_Date    65 non-null     object\n",
      " 3   Category1        65 non-null     object\n",
      " 4   Category2        65 non-null     object\n",
      " 5   Category3        65 non-null     int64 \n",
      "dtypes: int64(2), object(4)\n",
      "memory usage: 3.2+ KB\n"
     ]
    }
   ],
   "source": [
    "health_camp_detail.info()"
   ]
  },
  {
   "cell_type": "code",
   "execution_count": 4,
   "metadata": {},
   "outputs": [
    {
     "data": {
      "text/html": [
       "<div>\n",
       "<style scoped>\n",
       "    .dataframe tbody tr th:only-of-type {\n",
       "        vertical-align: middle;\n",
       "    }\n",
       "\n",
       "    .dataframe tbody tr th {\n",
       "        vertical-align: top;\n",
       "    }\n",
       "\n",
       "    .dataframe thead th {\n",
       "        text-align: right;\n",
       "    }\n",
       "</style>\n",
       "<table border=\"1\" class=\"dataframe\">\n",
       "  <thead>\n",
       "    <tr style=\"text-align: right;\">\n",
       "      <th></th>\n",
       "      <th>Health_Camp_ID</th>\n",
       "      <th>Camp_Start_Date</th>\n",
       "      <th>Camp_End_Date</th>\n",
       "      <th>Category1</th>\n",
       "      <th>Category2</th>\n",
       "      <th>Category3</th>\n",
       "    </tr>\n",
       "  </thead>\n",
       "  <tbody>\n",
       "    <tr>\n",
       "      <th>0</th>\n",
       "      <td>6560</td>\n",
       "      <td>16-Aug-03</td>\n",
       "      <td>20-Aug-03</td>\n",
       "      <td>First</td>\n",
       "      <td>B</td>\n",
       "      <td>2</td>\n",
       "    </tr>\n",
       "    <tr>\n",
       "      <th>1</th>\n",
       "      <td>6530</td>\n",
       "      <td>16-Aug-03</td>\n",
       "      <td>28-Oct-03</td>\n",
       "      <td>First</td>\n",
       "      <td>C</td>\n",
       "      <td>2</td>\n",
       "    </tr>\n",
       "  </tbody>\n",
       "</table>\n",
       "</div>"
      ],
      "text/plain": [
       "   Health_Camp_ID Camp_Start_Date Camp_End_Date Category1 Category2  Category3\n",
       "0            6560       16-Aug-03     20-Aug-03     First         B          2\n",
       "1            6530       16-Aug-03     28-Oct-03     First         C          2"
      ]
     },
     "execution_count": 4,
     "metadata": {},
     "output_type": "execute_result"
    }
   ],
   "source": [
    "health_camp_detail.head(2)"
   ]
  },
  {
   "cell_type": "markdown",
   "metadata": {},
   "source": [
    "#### Data Preprocessing"
   ]
  },
  {
   "cell_type": "code",
   "execution_count": 5,
   "metadata": {},
   "outputs": [],
   "source": [
    "#converting string date to datetime object\n",
    "health_camp_detail['Camp_Start_Date']=health_camp_detail['Camp_Start_Date'].apply(lambda x:datetime.strptime(x,'%d-%b-%y'))\n",
    "health_camp_detail['Camp_End_Date']=health_camp_detail['Camp_End_Date'].apply(lambda x:datetime.strptime(x,'%d-%b-%y'))\n",
    "\n",
    "#adding suffix for easy identification during one-hot encoding\n",
    "health_camp_detail['Category1']=health_camp_detail['Category1']+'_cat1'\n",
    "health_camp_detail['Category2']=health_camp_detail['Category2']+'_cat2'\n",
    "health_camp_detail['Category3']=health_camp_detail['Category3'].apply(lambda x:str(x)+'_cat3')"
   ]
  },
  {
   "cell_type": "code",
   "execution_count": 6,
   "metadata": {},
   "outputs": [
    {
     "name": "stdout",
     "output_type": "stream",
     "text": [
      "<class 'pandas.core.frame.DataFrame'>\n",
      "RangeIndex: 65 entries, 0 to 64\n",
      "Data columns (total 6 columns):\n",
      " #   Column           Non-Null Count  Dtype         \n",
      "---  ------           --------------  -----         \n",
      " 0   Health_Camp_ID   65 non-null     int64         \n",
      " 1   Camp_Start_Date  65 non-null     datetime64[ns]\n",
      " 2   Camp_End_Date    65 non-null     datetime64[ns]\n",
      " 3   Category1        65 non-null     object        \n",
      " 4   Category2        65 non-null     object        \n",
      " 5   Category3        65 non-null     object        \n",
      "dtypes: datetime64[ns](2), int64(1), object(3)\n",
      "memory usage: 3.2+ KB\n"
     ]
    }
   ],
   "source": [
    "health_camp_detail.info()"
   ]
  },
  {
   "cell_type": "code",
   "execution_count": 7,
   "metadata": {},
   "outputs": [
    {
     "data": {
      "text/html": [
       "<div>\n",
       "<style scoped>\n",
       "    .dataframe tbody tr th:only-of-type {\n",
       "        vertical-align: middle;\n",
       "    }\n",
       "\n",
       "    .dataframe tbody tr th {\n",
       "        vertical-align: top;\n",
       "    }\n",
       "\n",
       "    .dataframe thead th {\n",
       "        text-align: right;\n",
       "    }\n",
       "</style>\n",
       "<table border=\"1\" class=\"dataframe\">\n",
       "  <thead>\n",
       "    <tr style=\"text-align: right;\">\n",
       "      <th></th>\n",
       "      <th>Health_Camp_ID</th>\n",
       "      <th>Camp_Start_Date</th>\n",
       "      <th>Camp_End_Date</th>\n",
       "      <th>Category1</th>\n",
       "      <th>Category2</th>\n",
       "      <th>Category3</th>\n",
       "    </tr>\n",
       "  </thead>\n",
       "  <tbody>\n",
       "    <tr>\n",
       "      <th>0</th>\n",
       "      <td>6560</td>\n",
       "      <td>2003-08-16</td>\n",
       "      <td>2003-08-20</td>\n",
       "      <td>First_cat1</td>\n",
       "      <td>B_cat2</td>\n",
       "      <td>2_cat3</td>\n",
       "    </tr>\n",
       "    <tr>\n",
       "      <th>1</th>\n",
       "      <td>6530</td>\n",
       "      <td>2003-08-16</td>\n",
       "      <td>2003-10-28</td>\n",
       "      <td>First_cat1</td>\n",
       "      <td>C_cat2</td>\n",
       "      <td>2_cat3</td>\n",
       "    </tr>\n",
       "  </tbody>\n",
       "</table>\n",
       "</div>"
      ],
      "text/plain": [
       "   Health_Camp_ID Camp_Start_Date Camp_End_Date   Category1 Category2  \\\n",
       "0            6560      2003-08-16    2003-08-20  First_cat1    B_cat2   \n",
       "1            6530      2003-08-16    2003-10-28  First_cat1    C_cat2   \n",
       "\n",
       "  Category3  \n",
       "0    2_cat3  \n",
       "1    2_cat3  "
      ]
     },
     "execution_count": 7,
     "metadata": {},
     "output_type": "execute_result"
    }
   ],
   "source": [
    "health_camp_detail.head(2)"
   ]
  },
  {
   "cell_type": "code",
   "execution_count": 8,
   "metadata": {},
   "outputs": [
    {
     "data": {
      "text/plain": [
       "6527    1\n",
       "6559    1\n",
       "6557    1\n",
       "6556    1\n",
       "6555    1\n",
       "       ..\n",
       "6565    1\n",
       "6564    1\n",
       "6563    1\n",
       "6562    1\n",
       "6528    1\n",
       "Name: Health_Camp_ID, Length: 65, dtype: int64"
      ]
     },
     "execution_count": 8,
     "metadata": {},
     "output_type": "execute_result"
    }
   ],
   "source": [
    "health_camp_detail['Health_Camp_ID'].value_counts()"
   ]
  },
  {
   "cell_type": "code",
   "execution_count": 9,
   "metadata": {},
   "outputs": [
    {
     "data": {
      "text/plain": [
       "0"
      ]
     },
     "execution_count": 9,
     "metadata": {},
     "output_type": "execute_result"
    }
   ],
   "source": [
    "sum(health_camp_detail['Health_Camp_ID'].value_counts()>1) \n",
    "# No duplicate health camps, should not cause any issue during join"
   ]
  },
  {
   "cell_type": "code",
   "execution_count": 10,
   "metadata": {},
   "outputs": [
    {
     "data": {
      "text/html": [
       "<div>\n",
       "<style scoped>\n",
       "    .dataframe tbody tr th:only-of-type {\n",
       "        vertical-align: middle;\n",
       "    }\n",
       "\n",
       "    .dataframe tbody tr th {\n",
       "        vertical-align: top;\n",
       "    }\n",
       "\n",
       "    .dataframe thead th {\n",
       "        text-align: right;\n",
       "    }\n",
       "</style>\n",
       "<table border=\"1\" class=\"dataframe\">\n",
       "  <thead>\n",
       "    <tr style=\"text-align: right;\">\n",
       "      <th></th>\n",
       "      <th>Health_Camp_ID</th>\n",
       "      <th>Camp_Start_Date</th>\n",
       "      <th>Camp_End_Date</th>\n",
       "      <th>Category1</th>\n",
       "      <th>Category2</th>\n",
       "      <th>Category3</th>\n",
       "    </tr>\n",
       "  </thead>\n",
       "  <tbody>\n",
       "  </tbody>\n",
       "</table>\n",
       "</div>"
      ],
      "text/plain": [
       "Empty DataFrame\n",
       "Columns: [Health_Camp_ID, Camp_Start_Date, Camp_End_Date, Category1, Category2, Category3]\n",
       "Index: []"
      ]
     },
     "execution_count": 10,
     "metadata": {},
     "output_type": "execute_result"
    }
   ],
   "source": [
    "health_camp_detail[health_camp_detail['Camp_End_Date']<health_camp_detail['Camp_Start_Date']]\n",
    "# No instances of campaign end date < camp start date"
   ]
  },
  {
   "cell_type": "markdown",
   "metadata": {},
   "source": [
    "#### Feature Engineering"
   ]
  },
  {
   "cell_type": "code",
   "execution_count": 11,
   "metadata": {},
   "outputs": [],
   "source": [
    "#Camp_Start_Date\n",
    "health_camp_detail['Camp_Start_Month']=health_camp_detail['Camp_Start_Date'].apply(lambda x:x.month)\n",
    "health_camp_detail['Camp_Start_Day']=health_camp_detail['Camp_Start_Date'].apply(lambda x:x.day)\n",
    "health_camp_detail['Camp_Start_Quarter']=health_camp_detail['Camp_Start_Date'].apply(lambda x:x.quarter)\n",
    "\n",
    "#Camp_End_Date\n",
    "health_camp_detail['Camp_End_Month']=health_camp_detail['Camp_End_Date'].apply(lambda x:x.month)\n",
    "health_camp_detail['Camp_End_Day']=health_camp_detail['Camp_End_Date'].apply(lambda x:x.day)\n",
    "health_camp_detail['Camp_End_Quarter']=health_camp_detail['Camp_End_Date'].apply(lambda x:x.quarter)\n",
    "\n",
    "#Camp_Duration\n",
    "health_camp_detail['Camp_Duration']=(health_camp_detail['Camp_End_Date']-health_camp_detail['Camp_Start_Date']).astype('timedelta64[D]')"
   ]
  },
  {
   "cell_type": "code",
   "execution_count": 12,
   "metadata": {},
   "outputs": [
    {
     "data": {
      "text/html": [
       "<div>\n",
       "<style scoped>\n",
       "    .dataframe tbody tr th:only-of-type {\n",
       "        vertical-align: middle;\n",
       "    }\n",
       "\n",
       "    .dataframe tbody tr th {\n",
       "        vertical-align: top;\n",
       "    }\n",
       "\n",
       "    .dataframe thead th {\n",
       "        text-align: right;\n",
       "    }\n",
       "</style>\n",
       "<table border=\"1\" class=\"dataframe\">\n",
       "  <thead>\n",
       "    <tr style=\"text-align: right;\">\n",
       "      <th></th>\n",
       "      <th>Health_Camp_ID</th>\n",
       "      <th>Camp_Start_Date</th>\n",
       "      <th>Camp_End_Date</th>\n",
       "      <th>Category1</th>\n",
       "      <th>Category2</th>\n",
       "      <th>Category3</th>\n",
       "      <th>Camp_Start_Month</th>\n",
       "      <th>Camp_Start_Day</th>\n",
       "      <th>Camp_Start_Quarter</th>\n",
       "      <th>Camp_End_Month</th>\n",
       "      <th>Camp_End_Day</th>\n",
       "      <th>Camp_End_Quarter</th>\n",
       "      <th>Camp_Duration</th>\n",
       "    </tr>\n",
       "  </thead>\n",
       "  <tbody>\n",
       "    <tr>\n",
       "      <th>0</th>\n",
       "      <td>6560</td>\n",
       "      <td>2003-08-16</td>\n",
       "      <td>2003-08-20</td>\n",
       "      <td>First_cat1</td>\n",
       "      <td>B_cat2</td>\n",
       "      <td>2_cat3</td>\n",
       "      <td>8</td>\n",
       "      <td>16</td>\n",
       "      <td>3</td>\n",
       "      <td>8</td>\n",
       "      <td>20</td>\n",
       "      <td>3</td>\n",
       "      <td>4.0</td>\n",
       "    </tr>\n",
       "    <tr>\n",
       "      <th>1</th>\n",
       "      <td>6530</td>\n",
       "      <td>2003-08-16</td>\n",
       "      <td>2003-10-28</td>\n",
       "      <td>First_cat1</td>\n",
       "      <td>C_cat2</td>\n",
       "      <td>2_cat3</td>\n",
       "      <td>8</td>\n",
       "      <td>16</td>\n",
       "      <td>3</td>\n",
       "      <td>10</td>\n",
       "      <td>28</td>\n",
       "      <td>4</td>\n",
       "      <td>73.0</td>\n",
       "    </tr>\n",
       "  </tbody>\n",
       "</table>\n",
       "</div>"
      ],
      "text/plain": [
       "   Health_Camp_ID Camp_Start_Date Camp_End_Date   Category1 Category2  \\\n",
       "0            6560      2003-08-16    2003-08-20  First_cat1    B_cat2   \n",
       "1            6530      2003-08-16    2003-10-28  First_cat1    C_cat2   \n",
       "\n",
       "  Category3  Camp_Start_Month  Camp_Start_Day  Camp_Start_Quarter  \\\n",
       "0    2_cat3                 8              16                   3   \n",
       "1    2_cat3                 8              16                   3   \n",
       "\n",
       "   Camp_End_Month  Camp_End_Day  Camp_End_Quarter  Camp_Duration  \n",
       "0               8            20                 3            4.0  \n",
       "1              10            28                 4           73.0  "
      ]
     },
     "execution_count": 12,
     "metadata": {},
     "output_type": "execute_result"
    }
   ],
   "source": [
    "health_camp_detail.head(2)"
   ]
  },
  {
   "cell_type": "code",
   "execution_count": 13,
   "metadata": {},
   "outputs": [],
   "source": [
    "#Creating Dummies\n",
    "#Category1\n",
    "category1_dummies = pd.get_dummies(health_camp_detail['Category1'],drop_first=True)\n",
    "health_camp_detail = pd.concat([health_camp_detail.drop('Category1',axis=1),category1_dummies],axis=1)\n",
    "    \n",
    "#Category2\n",
    "category2_dummies = pd.get_dummies(health_camp_detail['Category2'],drop_first=True)\n",
    "health_camp_detail = pd.concat([health_camp_detail.drop('Category2',axis=1),category2_dummies],axis=1)\n",
    "\n",
    "#Category3\n",
    "category3_dummies = pd.get_dummies(health_camp_detail['Category3'],drop_first=True)\n",
    "health_camp_detail = pd.concat([health_camp_detail.drop('Category3',axis=1),category3_dummies],axis=1)\n",
    "\n",
    "#Weekends\n",
    "health_camp_detail['weekends_during_campaign']=[pd.date_range(x,y).weekday.isin([5,6]).sum() for x , y in zip(health_camp_detail['Camp_Start_Date'],health_camp_detail['Camp_End_Date'])]\n",
    "    "
   ]
  },
  {
   "cell_type": "code",
   "execution_count": 14,
   "metadata": {},
   "outputs": [
    {
     "data": {
      "text/html": [
       "<div>\n",
       "<style scoped>\n",
       "    .dataframe tbody tr th:only-of-type {\n",
       "        vertical-align: middle;\n",
       "    }\n",
       "\n",
       "    .dataframe tbody tr th {\n",
       "        vertical-align: top;\n",
       "    }\n",
       "\n",
       "    .dataframe thead th {\n",
       "        text-align: right;\n",
       "    }\n",
       "</style>\n",
       "<table border=\"1\" class=\"dataframe\">\n",
       "  <thead>\n",
       "    <tr style=\"text-align: right;\">\n",
       "      <th></th>\n",
       "      <th>Health_Camp_ID</th>\n",
       "      <th>Camp_Start_Date</th>\n",
       "      <th>Camp_End_Date</th>\n",
       "      <th>Camp_Start_Month</th>\n",
       "      <th>Camp_Start_Day</th>\n",
       "      <th>Camp_Start_Quarter</th>\n",
       "      <th>Camp_End_Month</th>\n",
       "      <th>Camp_End_Day</th>\n",
       "      <th>Camp_End_Quarter</th>\n",
       "      <th>Camp_Duration</th>\n",
       "      <th>Second_cat1</th>\n",
       "      <th>Third_cat1</th>\n",
       "      <th>B_cat2</th>\n",
       "      <th>C_cat2</th>\n",
       "      <th>D_cat2</th>\n",
       "      <th>E_cat2</th>\n",
       "      <th>F_cat2</th>\n",
       "      <th>G_cat2</th>\n",
       "      <th>2_cat3</th>\n",
       "      <th>weekends_during_campaign</th>\n",
       "    </tr>\n",
       "  </thead>\n",
       "  <tbody>\n",
       "    <tr>\n",
       "      <th>0</th>\n",
       "      <td>6560</td>\n",
       "      <td>2003-08-16</td>\n",
       "      <td>2003-08-20</td>\n",
       "      <td>8</td>\n",
       "      <td>16</td>\n",
       "      <td>3</td>\n",
       "      <td>8</td>\n",
       "      <td>20</td>\n",
       "      <td>3</td>\n",
       "      <td>4.0</td>\n",
       "      <td>0</td>\n",
       "      <td>0</td>\n",
       "      <td>1</td>\n",
       "      <td>0</td>\n",
       "      <td>0</td>\n",
       "      <td>0</td>\n",
       "      <td>0</td>\n",
       "      <td>0</td>\n",
       "      <td>1</td>\n",
       "      <td>2</td>\n",
       "    </tr>\n",
       "    <tr>\n",
       "      <th>1</th>\n",
       "      <td>6530</td>\n",
       "      <td>2003-08-16</td>\n",
       "      <td>2003-10-28</td>\n",
       "      <td>8</td>\n",
       "      <td>16</td>\n",
       "      <td>3</td>\n",
       "      <td>10</td>\n",
       "      <td>28</td>\n",
       "      <td>4</td>\n",
       "      <td>73.0</td>\n",
       "      <td>0</td>\n",
       "      <td>0</td>\n",
       "      <td>0</td>\n",
       "      <td>1</td>\n",
       "      <td>0</td>\n",
       "      <td>0</td>\n",
       "      <td>0</td>\n",
       "      <td>0</td>\n",
       "      <td>1</td>\n",
       "      <td>22</td>\n",
       "    </tr>\n",
       "  </tbody>\n",
       "</table>\n",
       "</div>"
      ],
      "text/plain": [
       "   Health_Camp_ID Camp_Start_Date Camp_End_Date  Camp_Start_Month  \\\n",
       "0            6560      2003-08-16    2003-08-20                 8   \n",
       "1            6530      2003-08-16    2003-10-28                 8   \n",
       "\n",
       "   Camp_Start_Day  Camp_Start_Quarter  Camp_End_Month  Camp_End_Day  \\\n",
       "0              16                   3               8            20   \n",
       "1              16                   3              10            28   \n",
       "\n",
       "   Camp_End_Quarter  Camp_Duration  Second_cat1  Third_cat1  B_cat2  C_cat2  \\\n",
       "0                 3            4.0            0           0       1       0   \n",
       "1                 4           73.0            0           0       0       1   \n",
       "\n",
       "   D_cat2  E_cat2  F_cat2  G_cat2  2_cat3  weekends_during_campaign  \n",
       "0       0       0       0       0       1                         2  \n",
       "1       0       0       0       0       1                        22  "
      ]
     },
     "execution_count": 14,
     "metadata": {},
     "output_type": "execute_result"
    }
   ],
   "source": [
    "health_camp_detail.head(2)"
   ]
  },
  {
   "cell_type": "markdown",
   "metadata": {},
   "source": [
    "#### Exploratory Data Analysis"
   ]
  },
  {
   "cell_type": "code",
   "execution_count": 15,
   "metadata": {},
   "outputs": [
    {
     "data": {
      "text/plain": [
       "<matplotlib.axes._subplots.AxesSubplot at 0x7efd33bb9390>"
      ]
     },
     "execution_count": 15,
     "metadata": {},
     "output_type": "execute_result"
    },
    {
     "data": {
      "image/png": "[encoded data removed]",
      "text/plain": [
       "<Figure size 432x288 with 1 Axes>"
      ]
     },
     "metadata": {
      "needs_background": "light"
     },
     "output_type": "display_data"
    }
   ],
   "source": [
    "#camps by quarter\n",
    "sns.countplot('Camp_Start_Quarter',data=health_camp_detail)"
   ]
  },
  {
   "cell_type": "code",
   "execution_count": 16,
   "metadata": {},
   "outputs": [
    {
     "data": {
      "text/plain": [
       "<matplotlib.axes._subplots.AxesSubplot at 0x7efd33378350>"
      ]
     },
     "execution_count": 16,
     "metadata": {},
     "output_type": "execute_result"
    },
    {
     "data": {
      "image/png": "[encoded data removed]",
      "text/plain": [
       "<Figure size 432x288 with 1 Axes>"
      ]
     },
     "metadata": {
      "needs_background": "light"
     },
     "output_type": "display_data"
    }
   ],
   "source": [
    "#camps by month\n",
    "sns.countplot('Camp_Start_Month',data=health_camp_detail)"
   ]
  },
  {
   "cell_type": "code",
   "execution_count": 17,
   "metadata": {},
   "outputs": [
    {
     "data": {
      "text/plain": [
       "<matplotlib.axes._subplots.AxesSubplot at 0x7efd3329c6d0>"
      ]
     },
     "execution_count": 17,
     "metadata": {},
     "output_type": "execute_result"
    },
    {
     "data": {
      "image/png": "[encoded data removed]",
      "text/plain": [
       "<Figure size 432x288 with 1 Axes>"
      ]
     },
     "metadata": {
      "needs_background": "light"
     },
     "output_type": "display_data"
    }
   ],
   "source": [
    "#camp duration distribution\n",
    "sns.boxplot(health_camp_detail['Camp_Duration'])"
   ]
  },
  {
   "cell_type": "code",
   "execution_count": 18,
   "metadata": {},
   "outputs": [
    {
     "data": {
      "text/plain": [
       "<matplotlib.axes._subplots.AxesSubplot at 0x7efd3328bdd0>"
      ]
     },
     "execution_count": 18,
     "metadata": {},
     "output_type": "execute_result"
    },
    {
     "data": {
      "image/png": "[encoded data removed]",
      "text/plain": [
       "<Figure size 432x288 with 1 Axes>"
      ]
     },
     "metadata": {
      "needs_background": "light"
     },
     "output_type": "display_data"
    }
   ],
   "source": [
    "#camp weekends distribution\n",
    "sns.boxplot(health_camp_detail['weekends_during_campaign'])"
   ]
  },
  {
   "cell_type": "markdown",
   "metadata": {},
   "source": [
    "## Patient Profile"
   ]
  },
  {
   "cell_type": "code",
   "execution_count": 19,
   "metadata": {},
   "outputs": [
    {
     "name": "stdout",
     "output_type": "stream",
     "text": [
      "<class 'pandas.core.frame.DataFrame'>\n",
      "RangeIndex: 37633 entries, 0 to 37632\n",
      "Data columns (total 11 columns):\n",
      " #   Column             Non-Null Count  Dtype \n",
      "---  ------             --------------  ----- \n",
      " 0   Patient_ID         37633 non-null  int64 \n",
      " 1   Online_Follower    37633 non-null  int64 \n",
      " 2   LinkedIn_Shared    37633 non-null  int64 \n",
      " 3   Twitter_Shared     37633 non-null  int64 \n",
      " 4   Facebook_Shared    37633 non-null  int64 \n",
      " 5   Income             37633 non-null  object\n",
      " 6   Education_Score    37633 non-null  object\n",
      " 7   Age                37633 non-null  object\n",
      " 8   First_Interaction  37633 non-null  object\n",
      " 9   City_Type          14249 non-null  object\n",
      " 10  Employer_Category  2840 non-null   object\n",
      "dtypes: int64(5), object(6)\n",
      "memory usage: 3.2+ MB\n"
     ]
    }
   ],
   "source": [
    "patient_profile.info()"
   ]
  },
  {
   "cell_type": "code",
   "execution_count": 20,
   "metadata": {},
   "outputs": [
    {
     "data": {
      "text/html": [
       "<div>\n",
       "<style scoped>\n",
       "    .dataframe tbody tr th:only-of-type {\n",
       "        vertical-align: middle;\n",
       "    }\n",
       "\n",
       "    .dataframe tbody tr th {\n",
       "        vertical-align: top;\n",
       "    }\n",
       "\n",
       "    .dataframe thead th {\n",
       "        text-align: right;\n",
       "    }\n",
       "</style>\n",
       "<table border=\"1\" class=\"dataframe\">\n",
       "  <thead>\n",
       "    <tr style=\"text-align: right;\">\n",
       "      <th></th>\n",
       "      <th>Patient_ID</th>\n",
       "      <th>Online_Follower</th>\n",
       "      <th>LinkedIn_Shared</th>\n",
       "      <th>Twitter_Shared</th>\n",
       "      <th>Facebook_Shared</th>\n",
       "      <th>Income</th>\n",
       "      <th>Education_Score</th>\n",
       "      <th>Age</th>\n",
       "      <th>First_Interaction</th>\n",
       "      <th>City_Type</th>\n",
       "      <th>Employer_Category</th>\n",
       "    </tr>\n",
       "  </thead>\n",
       "  <tbody>\n",
       "    <tr>\n",
       "      <th>0</th>\n",
       "      <td>516956</td>\n",
       "      <td>0</td>\n",
       "      <td>0</td>\n",
       "      <td>0</td>\n",
       "      <td>0</td>\n",
       "      <td>1</td>\n",
       "      <td>90</td>\n",
       "      <td>39</td>\n",
       "      <td>18-Jun-03</td>\n",
       "      <td>NaN</td>\n",
       "      <td>Software Industry</td>\n",
       "    </tr>\n",
       "    <tr>\n",
       "      <th>1</th>\n",
       "      <td>507733</td>\n",
       "      <td>0</td>\n",
       "      <td>0</td>\n",
       "      <td>0</td>\n",
       "      <td>0</td>\n",
       "      <td>1</td>\n",
       "      <td>None</td>\n",
       "      <td>40</td>\n",
       "      <td>20-Jul-03</td>\n",
       "      <td>H</td>\n",
       "      <td>Software Industry</td>\n",
       "    </tr>\n",
       "  </tbody>\n",
       "</table>\n",
       "</div>"
      ],
      "text/plain": [
       "   Patient_ID  Online_Follower  LinkedIn_Shared  Twitter_Shared  \\\n",
       "0      516956                0                0               0   \n",
       "1      507733                0                0               0   \n",
       "\n",
       "   Facebook_Shared Income Education_Score Age First_Interaction City_Type  \\\n",
       "0                0      1              90  39         18-Jun-03       NaN   \n",
       "1                0      1            None  40         20-Jul-03         H   \n",
       "\n",
       "   Employer_Category  \n",
       "0  Software Industry  \n",
       "1  Software Industry  "
      ]
     },
     "execution_count": 20,
     "metadata": {},
     "output_type": "execute_result"
    }
   ],
   "source": [
    "patient_profile.head(2)"
   ]
  },
  {
   "cell_type": "markdown",
   "metadata": {},
   "source": [
    "#### Data Preprocessing"
   ]
  },
  {
   "cell_type": "code",
   "execution_count": 21,
   "metadata": {},
   "outputs": [],
   "source": [
    "patient_profile['First_Interaction']=patient_profile['First_Interaction'].apply(lambda x:datetime.strptime(x,'%d-%b-%y'))"
   ]
  },
  {
   "cell_type": "markdown",
   "metadata": {},
   "source": [
    "#### Feature Engineering"
   ]
  },
  {
   "cell_type": "code",
   "execution_count": 22,
   "metadata": {},
   "outputs": [],
   "source": [
    "#First_Interaction_Date\n",
    "patient_profile['First_Interaction_Month']=patient_profile['First_Interaction'].apply(lambda x:x.month)\n",
    "patient_profile['First_Interaction_Day']=patient_profile['First_Interaction'].apply(lambda x:x.day)\n",
    "patient_profile['First_Interaction_Quarter']=patient_profile['First_Interaction'].apply(lambda x:x.quarter)\n",
    "\n",
    "#Making Education Score & Age as np.nan\n",
    "patient_profile['Education_Score']=patient_profile['Education_Score'].apply(lambda x: np.nan if x=='None' else x)\n",
    "patient_profile['Age']=patient_profile['Age'].apply(lambda x: np.nan if x=='None' else x)\n",
    "patient_profile['Education_Score']=pd.to_numeric(patient_profile['Education_Score'], downcast=\"float\")\n",
    "patient_profile['Age']=pd.to_numeric(patient_profile['Age'], downcast=\"float\")\n",
    "\n",
    "#Consolidating Online Interactions\n",
    "patient_profile['Online_Interactions']=patient_profile['Facebook_Shared']+patient_profile['Twitter_Shared']+patient_profile['LinkedIn_Shared']+patient_profile['Online_Follower']"
   ]
  },
  {
   "cell_type": "code",
   "execution_count": 23,
   "metadata": {},
   "outputs": [
    {
     "data": {
      "text/plain": [
       "0    36747\n",
       "1      886\n",
       "Name: Facebook_Shared, dtype: int64"
      ]
     },
     "execution_count": 23,
     "metadata": {},
     "output_type": "execute_result"
    }
   ],
   "source": [
    "patient_profile['Facebook_Shared'].value_counts()"
   ]
  },
  {
   "cell_type": "code",
   "execution_count": 24,
   "metadata": {},
   "outputs": [
    {
     "data": {
      "text/plain": [
       "0    36785\n",
       "1      848\n",
       "Name: Online_Follower, dtype: int64"
      ]
     },
     "execution_count": 24,
     "metadata": {},
     "output_type": "execute_result"
    }
   ],
   "source": [
    "patient_profile['Online_Follower'].value_counts()"
   ]
  },
  {
   "cell_type": "code",
   "execution_count": 25,
   "metadata": {},
   "outputs": [
    {
     "data": {
      "text/plain": [
       "0    36614\n",
       "1     1019\n",
       "Name: LinkedIn_Shared, dtype: int64"
      ]
     },
     "execution_count": 25,
     "metadata": {},
     "output_type": "execute_result"
    }
   ],
   "source": [
    "patient_profile['LinkedIn_Shared'].value_counts()"
   ]
  },
  {
   "cell_type": "code",
   "execution_count": 26,
   "metadata": {},
   "outputs": [
    {
     "data": {
      "text/plain": [
       "0    36820\n",
       "1      813\n",
       "Name: Twitter_Shared, dtype: int64"
      ]
     },
     "execution_count": 26,
     "metadata": {},
     "output_type": "execute_result"
    }
   ],
   "source": [
    "patient_profile['Twitter_Shared'].value_counts()"
   ]
  },
  {
   "cell_type": "code",
   "execution_count": 27,
   "metadata": {},
   "outputs": [
    {
     "data": {
      "text/plain": [
       "0    35943\n",
       "2      579\n",
       "1      538\n",
       "3      422\n",
       "4      151\n",
       "Name: Online_Interactions, dtype: int64"
      ]
     },
     "execution_count": 27,
     "metadata": {},
     "output_type": "execute_result"
    }
   ],
   "source": [
    "patient_profile['Online_Interactions'].value_counts()"
   ]
  },
  {
   "cell_type": "code",
   "execution_count": 28,
   "metadata": {},
   "outputs": [],
   "source": [
    "patient_profile.drop(['Facebook_Shared','Twitter_Shared','LinkedIn_Shared','Online_Follower'],axis=1,inplace=True)"
   ]
  },
  {
   "cell_type": "code",
   "execution_count": 29,
   "metadata": {},
   "outputs": [
    {
     "data": {
      "text/plain": [
       "None_inc    33271\n",
       "0_inc        2033\n",
       "1_inc        1013\n",
       "2_inc         685\n",
       "3_inc         362\n",
       "4_inc         156\n",
       "5_inc          70\n",
       "6_inc          43\n",
       "Name: Income, dtype: int64"
      ]
     },
     "execution_count": 29,
     "metadata": {},
     "output_type": "execute_result"
    }
   ],
   "source": [
    "#Income\n",
    "patient_profile['Income']=patient_profile['Income'].apply(lambda x:str(x)+'_inc')\n",
    "patient_profile['Income'].value_counts()"
   ]
  },
  {
   "cell_type": "code",
   "execution_count": 30,
   "metadata": {},
   "outputs": [
    {
     "data": {
      "text/plain": [
       "B    2662\n",
       "H    2517\n",
       "A    1729\n",
       "D    1704\n",
       "G    1352\n",
       "E    1217\n",
       "C    1216\n",
       "I    1036\n",
       "F     816\n",
       "Name: City_Type, dtype: int64"
      ]
     },
     "execution_count": 30,
     "metadata": {},
     "output_type": "execute_result"
    }
   ],
   "source": [
    "#City_Type\n",
    "patient_profile['City_Type'].value_counts()"
   ]
  },
  {
   "cell_type": "code",
   "execution_count": 31,
   "metadata": {},
   "outputs": [],
   "source": [
    "patient_profile['City_Type']=patient_profile['City_Type'].fillna('None')"
   ]
  },
  {
   "cell_type": "code",
   "execution_count": 32,
   "metadata": {},
   "outputs": [],
   "source": [
    "patient_profile['City_Type']=patient_profile['City_Type']+'_city'"
   ]
  },
  {
   "cell_type": "code",
   "execution_count": 33,
   "metadata": {},
   "outputs": [],
   "source": [
    "#Creating Dummies\n",
    "#Income\n",
    "income_dummies = pd.get_dummies(patient_profile['Income'],drop_first=True)\n",
    "patient_profile = pd.concat([patient_profile.drop('Income',axis=1),income_dummies],axis=1)\n",
    "\n",
    "#City_Type\n",
    "city_type_dummies = pd.get_dummies(patient_profile['City_Type'],drop_first=True)\n",
    "patient_profile = pd.concat([patient_profile.drop('City_Type',axis=1),city_type_dummies],axis=1)"
   ]
  },
  {
   "cell_type": "markdown",
   "metadata": {},
   "source": [
    "#### Exploratory Data Analysis"
   ]
  },
  {
   "cell_type": "code",
   "execution_count": 34,
   "metadata": {},
   "outputs": [
    {
     "data": {
      "text/html": [
       "<div>\n",
       "<style scoped>\n",
       "    .dataframe tbody tr th:only-of-type {\n",
       "        vertical-align: middle;\n",
       "    }\n",
       "\n",
       "    .dataframe tbody tr th {\n",
       "        vertical-align: top;\n",
       "    }\n",
       "\n",
       "    .dataframe thead th {\n",
       "        text-align: right;\n",
       "    }\n",
       "</style>\n",
       "<table border=\"1\" class=\"dataframe\">\n",
       "  <thead>\n",
       "    <tr style=\"text-align: right;\">\n",
       "      <th></th>\n",
       "      <th>Patient_ID</th>\n",
       "      <th>Education_Score</th>\n",
       "      <th>Age</th>\n",
       "      <th>First_Interaction</th>\n",
       "      <th>Employer_Category</th>\n",
       "      <th>First_Interaction_Month</th>\n",
       "      <th>First_Interaction_Day</th>\n",
       "      <th>First_Interaction_Quarter</th>\n",
       "      <th>Online_Interactions</th>\n",
       "      <th>1_inc</th>\n",
       "      <th>...</th>\n",
       "      <th>None_inc</th>\n",
       "      <th>B_city</th>\n",
       "      <th>C_city</th>\n",
       "      <th>D_city</th>\n",
       "      <th>E_city</th>\n",
       "      <th>F_city</th>\n",
       "      <th>G_city</th>\n",
       "      <th>H_city</th>\n",
       "      <th>I_city</th>\n",
       "      <th>None_city</th>\n",
       "    </tr>\n",
       "  </thead>\n",
       "  <tbody>\n",
       "    <tr>\n",
       "      <th>0</th>\n",
       "      <td>516956</td>\n",
       "      <td>90.0</td>\n",
       "      <td>39.0</td>\n",
       "      <td>2003-06-18</td>\n",
       "      <td>Software Industry</td>\n",
       "      <td>6</td>\n",
       "      <td>18</td>\n",
       "      <td>2</td>\n",
       "      <td>0</td>\n",
       "      <td>1</td>\n",
       "      <td>...</td>\n",
       "      <td>0</td>\n",
       "      <td>0</td>\n",
       "      <td>0</td>\n",
       "      <td>0</td>\n",
       "      <td>0</td>\n",
       "      <td>0</td>\n",
       "      <td>0</td>\n",
       "      <td>0</td>\n",
       "      <td>0</td>\n",
       "      <td>1</td>\n",
       "    </tr>\n",
       "    <tr>\n",
       "      <th>1</th>\n",
       "      <td>507733</td>\n",
       "      <td>NaN</td>\n",
       "      <td>40.0</td>\n",
       "      <td>2003-07-20</td>\n",
       "      <td>Software Industry</td>\n",
       "      <td>7</td>\n",
       "      <td>20</td>\n",
       "      <td>3</td>\n",
       "      <td>0</td>\n",
       "      <td>1</td>\n",
       "      <td>...</td>\n",
       "      <td>0</td>\n",
       "      <td>0</td>\n",
       "      <td>0</td>\n",
       "      <td>0</td>\n",
       "      <td>0</td>\n",
       "      <td>0</td>\n",
       "      <td>0</td>\n",
       "      <td>1</td>\n",
       "      <td>0</td>\n",
       "      <td>0</td>\n",
       "    </tr>\n",
       "  </tbody>\n",
       "</table>\n",
       "<p>2 rows × 25 columns</p>\n",
       "</div>"
      ],
      "text/plain": [
       "   Patient_ID  Education_Score   Age First_Interaction  Employer_Category  \\\n",
       "0      516956             90.0  39.0        2003-06-18  Software Industry   \n",
       "1      507733              NaN  40.0        2003-07-20  Software Industry   \n",
       "\n",
       "   First_Interaction_Month  First_Interaction_Day  First_Interaction_Quarter  \\\n",
       "0                        6                     18                          2   \n",
       "1                        7                     20                          3   \n",
       "\n",
       "   Online_Interactions  1_inc  ...  None_inc  B_city  C_city  D_city  E_city  \\\n",
       "0                    0      1  ...         0       0       0       0       0   \n",
       "1                    0      1  ...         0       0       0       0       0   \n",
       "\n",
       "   F_city  G_city  H_city  I_city  None_city  \n",
       "0       0       0       0       0          1  \n",
       "1       0       0       1       0          0  \n",
       "\n",
       "[2 rows x 25 columns]"
      ]
     },
     "execution_count": 34,
     "metadata": {},
     "output_type": "execute_result"
    }
   ],
   "source": [
    "patient_profile.head(2)"
   ]
  },
  {
   "cell_type": "code",
   "execution_count": 35,
   "metadata": {},
   "outputs": [
    {
     "data": {
      "text/plain": [
       "0"
      ]
     },
     "execution_count": 35,
     "metadata": {},
     "output_type": "execute_result"
    }
   ],
   "source": [
    "sum(patient_profile['Patient_ID'].value_counts()>1)\n",
    "#No duplicates for patients"
   ]
  },
  {
   "cell_type": "code",
   "execution_count": 36,
   "metadata": {},
   "outputs": [
    {
     "data": {
      "text/plain": [
       "41.0    361\n",
       "43.0    359\n",
       "42.0    336\n",
       "40.0    321\n",
       "39.0    299\n",
       "44.0    293\n",
       "45.0    240\n",
       "38.0    219\n",
       "72.0    218\n",
       "46.0    214\n",
       "73.0    199\n",
       "47.0    189\n",
       "37.0    186\n",
       "71.0    175\n",
       "74.0    172\n",
       "48.0    140\n",
       "49.0    127\n",
       "36.0    109\n",
       "50.0    102\n",
       "51.0     76\n",
       "70.0     71\n",
       "52.0     66\n",
       "35.0     66\n",
       "53.0     53\n",
       "75.0     43\n",
       "34.0     42\n",
       "54.0     40\n",
       "69.0     36\n",
       "55.0     35\n",
       "76.0     32\n",
       "56.0     25\n",
       "58.0     21\n",
       "77.0     18\n",
       "33.0     17\n",
       "57.0     16\n",
       "67.0     15\n",
       "68.0     14\n",
       "59.0     13\n",
       "60.0     10\n",
       "32.0      7\n",
       "61.0      7\n",
       "63.0      6\n",
       "65.0      6\n",
       "78.0      5\n",
       "66.0      4\n",
       "64.0      4\n",
       "62.0      3\n",
       "31.0      2\n",
       "30.0      2\n",
       "80.0      1\n",
       "Name: Age, dtype: int64"
      ]
     },
     "execution_count": 36,
     "metadata": {},
     "output_type": "execute_result"
    }
   ],
   "source": [
    "#Age\n",
    "patient_profile['Age'].value_counts()"
   ]
  },
  {
   "cell_type": "code",
   "execution_count": 37,
   "metadata": {},
   "outputs": [
    {
     "name": "stderr",
     "output_type": "stream",
     "text": [
      "/home/abishek/anaconda3/lib/python3.7/site-packages/pandas/core/ops/array_ops.py:253: FutureWarning: elementwise comparison failed; returning scalar instead, but in the future will perform elementwise comparison\n",
      "  res_values = method(rvalues)\n"
     ]
    },
    {
     "data": {
      "text/plain": [
       "<matplotlib.axes._subplots.AxesSubplot at 0x7efd33215710>"
      ]
     },
     "execution_count": 37,
     "metadata": {},
     "output_type": "execute_result"
    },
    {
     "data": {
      "image/png": "[encoded data removed]",
      "text/plain": [
       "<Figure size 432x288 with 1 Axes>"
      ]
     },
     "metadata": {
      "needs_background": "light"
     },
     "output_type": "display_data"
    }
   ],
   "source": [
    "sns.distplot(patient_profile[(patient_profile['Age']!='None')]['Age'])"
   ]
  },
  {
   "cell_type": "code",
   "execution_count": 38,
   "metadata": {},
   "outputs": [
    {
     "data": {
      "text/plain": [
       "(49.12981033325195, 44.0)"
      ]
     },
     "execution_count": 38,
     "metadata": {},
     "output_type": "execute_result"
    }
   ],
   "source": [
    "patient_profile['Age'].mean(),patient_profile['Age'].median()"
   ]
  },
  {
   "cell_type": "code",
   "execution_count": 39,
   "metadata": {},
   "outputs": [
    {
     "data": {
      "text/plain": [
       "75.000000    57\n",
       "82.000000    57\n",
       "79.000000    52\n",
       "76.000000    51\n",
       "77.000000    50\n",
       "             ..\n",
       "84.735001     1\n",
       "76.699997     1\n",
       "84.680000     1\n",
       "84.633331     1\n",
       "83.812500     1\n",
       "Name: Education_Score, Length: 227, dtype: int64"
      ]
     },
     "execution_count": 39,
     "metadata": {},
     "output_type": "execute_result"
    }
   ],
   "source": [
    "#Education\n",
    "patient_profile['Education_Score'].value_counts()"
   ]
  },
  {
   "cell_type": "code",
   "execution_count": 40,
   "metadata": {},
   "outputs": [
    {
     "name": "stderr",
     "output_type": "stream",
     "text": [
      "/home/abishek/anaconda3/lib/python3.7/site-packages/pandas/core/ops/array_ops.py:253: FutureWarning: elementwise comparison failed; returning scalar instead, but in the future will perform elementwise comparison\n",
      "  res_values = method(rvalues)\n"
     ]
    },
    {
     "data": {
      "text/plain": [
       "<matplotlib.axes._subplots.AxesSubplot at 0x7efd32f60950>"
      ]
     },
     "execution_count": 40,
     "metadata": {},
     "output_type": "execute_result"
    },
    {
     "data": {
      "image/png": "[encoded data removed]",
      "text/plain": [
       "<Figure size 432x288 with 1 Axes>"
      ]
     },
     "metadata": {
      "needs_background": "light"
     },
     "output_type": "display_data"
    }
   ],
   "source": [
    "sns.distplot(patient_profile[(patient_profile['Education_Score']!='None')]['Education_Score'])"
   ]
  },
  {
   "cell_type": "code",
   "execution_count": 41,
   "metadata": {},
   "outputs": [
    {
     "data": {
      "text/plain": [
       "(78.23131561279297, 79.0)"
      ]
     },
     "execution_count": 41,
     "metadata": {},
     "output_type": "execute_result"
    }
   ],
   "source": [
    "patient_profile['Education_Score'].mean(),patient_profile['Education_Score'].median()"
   ]
  },
  {
   "cell_type": "code",
   "execution_count": 42,
   "metadata": {},
   "outputs": [
    {
     "data": {
      "text/plain": [
       "Technology           649\n",
       "Others               477\n",
       "Consulting           404\n",
       "Software Industry    374\n",
       "Education            188\n",
       "BFSI                 167\n",
       "Manufacturing        115\n",
       "Retail                91\n",
       "Health                88\n",
       "Transport             65\n",
       "Telecom               58\n",
       "Real Estate           57\n",
       "Food                  56\n",
       "Broadcasting          51\n",
       "Name: Employer_Category, dtype: int64"
      ]
     },
     "execution_count": 42,
     "metadata": {},
     "output_type": "execute_result"
    }
   ],
   "source": [
    "patient_profile['Employer_Category'].value_counts()"
   ]
  },
  {
   "cell_type": "markdown",
   "metadata": {},
   "source": [
    "## Camp Details"
   ]
  },
  {
   "cell_type": "code",
   "execution_count": 43,
   "metadata": {},
   "outputs": [
    {
     "data": {
      "text/html": [
       "<div>\n",
       "<style scoped>\n",
       "    .dataframe tbody tr th:only-of-type {\n",
       "        vertical-align: middle;\n",
       "    }\n",
       "\n",
       "    .dataframe tbody tr th {\n",
       "        vertical-align: top;\n",
       "    }\n",
       "\n",
       "    .dataframe thead th {\n",
       "        text-align: right;\n",
       "    }\n",
       "</style>\n",
       "<table border=\"1\" class=\"dataframe\">\n",
       "  <thead>\n",
       "    <tr style=\"text-align: right;\">\n",
       "      <th></th>\n",
       "      <th>Patient_ID</th>\n",
       "      <th>Health_Camp_ID</th>\n",
       "      <th>Donation</th>\n",
       "      <th>Health_Score</th>\n",
       "      <th>Unnamed: 4</th>\n",
       "    </tr>\n",
       "  </thead>\n",
       "  <tbody>\n",
       "    <tr>\n",
       "      <th>0</th>\n",
       "      <td>506181</td>\n",
       "      <td>6560</td>\n",
       "      <td>40</td>\n",
       "      <td>0.439024</td>\n",
       "      <td>NaN</td>\n",
       "    </tr>\n",
       "    <tr>\n",
       "      <th>1</th>\n",
       "      <td>494977</td>\n",
       "      <td>6560</td>\n",
       "      <td>20</td>\n",
       "      <td>0.097561</td>\n",
       "      <td>NaN</td>\n",
       "    </tr>\n",
       "  </tbody>\n",
       "</table>\n",
       "</div>"
      ],
      "text/plain": [
       "   Patient_ID  Health_Camp_ID  Donation  Health_Score  Unnamed: 4\n",
       "0      506181            6560        40      0.439024         NaN\n",
       "1      494977            6560        20      0.097561         NaN"
      ]
     },
     "execution_count": 43,
     "metadata": {},
     "output_type": "execute_result"
    }
   ],
   "source": [
    "fhc.head(2)"
   ]
  },
  {
   "cell_type": "code",
   "execution_count": 44,
   "metadata": {},
   "outputs": [
    {
     "name": "stdout",
     "output_type": "stream",
     "text": [
      "<class 'pandas.core.frame.DataFrame'>\n",
      "RangeIndex: 6218 entries, 0 to 6217\n",
      "Data columns (total 5 columns):\n",
      " #   Column          Non-Null Count  Dtype  \n",
      "---  ------          --------------  -----  \n",
      " 0   Patient_ID      6218 non-null   int64  \n",
      " 1   Health_Camp_ID  6218 non-null   int64  \n",
      " 2   Donation        6218 non-null   int64  \n",
      " 3   Health_Score    6218 non-null   float64\n",
      " 4   Unnamed: 4      0 non-null      float64\n",
      "dtypes: float64(2), int64(3)\n",
      "memory usage: 243.0 KB\n"
     ]
    }
   ],
   "source": [
    "fhc.info()"
   ]
  },
  {
   "cell_type": "code",
   "execution_count": 45,
   "metadata": {},
   "outputs": [],
   "source": [
    "fhc.drop('Unnamed: 4',inplace=True,axis=1)"
   ]
  },
  {
   "cell_type": "code",
   "execution_count": 46,
   "metadata": {},
   "outputs": [
    {
     "data": {
      "text/html": [
       "<div>\n",
       "<style scoped>\n",
       "    .dataframe tbody tr th:only-of-type {\n",
       "        vertical-align: middle;\n",
       "    }\n",
       "\n",
       "    .dataframe tbody tr th {\n",
       "        vertical-align: top;\n",
       "    }\n",
       "\n",
       "    .dataframe thead th {\n",
       "        text-align: right;\n",
       "    }\n",
       "</style>\n",
       "<table border=\"1\" class=\"dataframe\">\n",
       "  <thead>\n",
       "    <tr style=\"text-align: right;\">\n",
       "      <th></th>\n",
       "      <th>Patient_ID</th>\n",
       "      <th>Health_Camp_ID</th>\n",
       "      <th>Health Score</th>\n",
       "    </tr>\n",
       "  </thead>\n",
       "  <tbody>\n",
       "    <tr>\n",
       "      <th>0</th>\n",
       "      <td>526631</td>\n",
       "      <td>6536</td>\n",
       "      <td>0.875136</td>\n",
       "    </tr>\n",
       "    <tr>\n",
       "      <th>1</th>\n",
       "      <td>509122</td>\n",
       "      <td>6536</td>\n",
       "      <td>0.755700</td>\n",
       "    </tr>\n",
       "  </tbody>\n",
       "</table>\n",
       "</div>"
      ],
      "text/plain": [
       "   Patient_ID  Health_Camp_ID  Health Score\n",
       "0      526631            6536      0.875136\n",
       "1      509122            6536      0.755700"
      ]
     },
     "execution_count": 46,
     "metadata": {},
     "output_type": "execute_result"
    }
   ],
   "source": [
    "shc.head(2)"
   ]
  },
  {
   "cell_type": "code",
   "execution_count": 47,
   "metadata": {},
   "outputs": [
    {
     "name": "stdout",
     "output_type": "stream",
     "text": [
      "<class 'pandas.core.frame.DataFrame'>\n",
      "RangeIndex: 7819 entries, 0 to 7818\n",
      "Data columns (total 3 columns):\n",
      " #   Column          Non-Null Count  Dtype  \n",
      "---  ------          --------------  -----  \n",
      " 0   Patient_ID      7819 non-null   int64  \n",
      " 1   Health_Camp_ID  7819 non-null   int64  \n",
      " 2   Health Score    7819 non-null   float64\n",
      "dtypes: float64(1), int64(2)\n",
      "memory usage: 183.4 KB\n"
     ]
    }
   ],
   "source": [
    "shc.info()"
   ]
  },
  {
   "cell_type": "code",
   "execution_count": 48,
   "metadata": {},
   "outputs": [
    {
     "data": {
      "text/html": [
       "<div>\n",
       "<style scoped>\n",
       "    .dataframe tbody tr th:only-of-type {\n",
       "        vertical-align: middle;\n",
       "    }\n",
       "\n",
       "    .dataframe tbody tr th {\n",
       "        vertical-align: top;\n",
       "    }\n",
       "\n",
       "    .dataframe thead th {\n",
       "        text-align: right;\n",
       "    }\n",
       "</style>\n",
       "<table border=\"1\" class=\"dataframe\">\n",
       "  <thead>\n",
       "    <tr style=\"text-align: right;\">\n",
       "      <th></th>\n",
       "      <th>Patient_ID</th>\n",
       "      <th>Health_Camp_ID</th>\n",
       "      <th>Number_of_stall_visited</th>\n",
       "      <th>Last_Stall_Visited_Number</th>\n",
       "    </tr>\n",
       "  </thead>\n",
       "  <tbody>\n",
       "    <tr>\n",
       "      <th>0</th>\n",
       "      <td>517875</td>\n",
       "      <td>6527</td>\n",
       "      <td>3</td>\n",
       "      <td>1</td>\n",
       "    </tr>\n",
       "    <tr>\n",
       "      <th>1</th>\n",
       "      <td>504692</td>\n",
       "      <td>6578</td>\n",
       "      <td>1</td>\n",
       "      <td>1</td>\n",
       "    </tr>\n",
       "  </tbody>\n",
       "</table>\n",
       "</div>"
      ],
      "text/plain": [
       "   Patient_ID  Health_Camp_ID  Number_of_stall_visited  \\\n",
       "0      517875            6527                        3   \n",
       "1      504692            6578                        1   \n",
       "\n",
       "   Last_Stall_Visited_Number  \n",
       "0                          1  \n",
       "1                          1  "
      ]
     },
     "execution_count": 48,
     "metadata": {},
     "output_type": "execute_result"
    }
   ],
   "source": [
    "thc.head(2)"
   ]
  },
  {
   "cell_type": "code",
   "execution_count": 49,
   "metadata": {},
   "outputs": [
    {
     "name": "stdout",
     "output_type": "stream",
     "text": [
      "<class 'pandas.core.frame.DataFrame'>\n",
      "RangeIndex: 6515 entries, 0 to 6514\n",
      "Data columns (total 4 columns):\n",
      " #   Column                     Non-Null Count  Dtype\n",
      "---  ------                     --------------  -----\n",
      " 0   Patient_ID                 6515 non-null   int64\n",
      " 1   Health_Camp_ID             6515 non-null   int64\n",
      " 2   Number_of_stall_visited    6515 non-null   int64\n",
      " 3   Last_Stall_Visited_Number  6515 non-null   int64\n",
      "dtypes: int64(4)\n",
      "memory usage: 203.7 KB\n"
     ]
    }
   ],
   "source": [
    "thc.info()"
   ]
  },
  {
   "cell_type": "markdown",
   "metadata": {},
   "source": [
    "## Train & Test"
   ]
  },
  {
   "cell_type": "code",
   "execution_count": 50,
   "metadata": {},
   "outputs": [
    {
     "data": {
      "text/html": [
       "<div>\n",
       "<style scoped>\n",
       "    .dataframe tbody tr th:only-of-type {\n",
       "        vertical-align: middle;\n",
       "    }\n",
       "\n",
       "    .dataframe tbody tr th {\n",
       "        vertical-align: top;\n",
       "    }\n",
       "\n",
       "    .dataframe thead th {\n",
       "        text-align: right;\n",
       "    }\n",
       "</style>\n",
       "<table border=\"1\" class=\"dataframe\">\n",
       "  <thead>\n",
       "    <tr style=\"text-align: right;\">\n",
       "      <th></th>\n",
       "      <th>Patient_ID</th>\n",
       "      <th>Health_Camp_ID</th>\n",
       "      <th>Registration_Date</th>\n",
       "      <th>Var1</th>\n",
       "      <th>Var2</th>\n",
       "      <th>Var3</th>\n",
       "      <th>Var4</th>\n",
       "      <th>Var5</th>\n",
       "    </tr>\n",
       "  </thead>\n",
       "  <tbody>\n",
       "    <tr>\n",
       "      <th>0</th>\n",
       "      <td>489652</td>\n",
       "      <td>6578</td>\n",
       "      <td>10-Sep-05</td>\n",
       "      <td>4</td>\n",
       "      <td>0</td>\n",
       "      <td>0</td>\n",
       "      <td>0</td>\n",
       "      <td>2</td>\n",
       "    </tr>\n",
       "    <tr>\n",
       "      <th>1</th>\n",
       "      <td>507246</td>\n",
       "      <td>6578</td>\n",
       "      <td>18-Aug-05</td>\n",
       "      <td>45</td>\n",
       "      <td>5</td>\n",
       "      <td>0</td>\n",
       "      <td>0</td>\n",
       "      <td>7</td>\n",
       "    </tr>\n",
       "    <tr>\n",
       "      <th>2</th>\n",
       "      <td>523729</td>\n",
       "      <td>6534</td>\n",
       "      <td>29-Apr-06</td>\n",
       "      <td>0</td>\n",
       "      <td>0</td>\n",
       "      <td>0</td>\n",
       "      <td>0</td>\n",
       "      <td>0</td>\n",
       "    </tr>\n",
       "    <tr>\n",
       "      <th>3</th>\n",
       "      <td>524931</td>\n",
       "      <td>6535</td>\n",
       "      <td>07-Feb-04</td>\n",
       "      <td>0</td>\n",
       "      <td>0</td>\n",
       "      <td>0</td>\n",
       "      <td>0</td>\n",
       "      <td>0</td>\n",
       "    </tr>\n",
       "    <tr>\n",
       "      <th>4</th>\n",
       "      <td>521364</td>\n",
       "      <td>6529</td>\n",
       "      <td>28-Feb-06</td>\n",
       "      <td>15</td>\n",
       "      <td>1</td>\n",
       "      <td>0</td>\n",
       "      <td>0</td>\n",
       "      <td>7</td>\n",
       "    </tr>\n",
       "  </tbody>\n",
       "</table>\n",
       "</div>"
      ],
      "text/plain": [
       "   Patient_ID  Health_Camp_ID Registration_Date  Var1  Var2  Var3  Var4  Var5\n",
       "0      489652            6578         10-Sep-05     4     0     0     0     2\n",
       "1      507246            6578         18-Aug-05    45     5     0     0     7\n",
       "2      523729            6534         29-Apr-06     0     0     0     0     0\n",
       "3      524931            6535         07-Feb-04     0     0     0     0     0\n",
       "4      521364            6529         28-Feb-06    15     1     0     0     7"
      ]
     },
     "execution_count": 50,
     "metadata": {},
     "output_type": "execute_result"
    }
   ],
   "source": [
    "train.head()"
   ]
  },
  {
   "cell_type": "code",
   "execution_count": 51,
   "metadata": {},
   "outputs": [
    {
     "name": "stdout",
     "output_type": "stream",
     "text": [
      "<class 'pandas.core.frame.DataFrame'>\n",
      "RangeIndex: 75278 entries, 0 to 75277\n",
      "Data columns (total 8 columns):\n",
      " #   Column             Non-Null Count  Dtype \n",
      "---  ------             --------------  ----- \n",
      " 0   Patient_ID         75278 non-null  int64 \n",
      " 1   Health_Camp_ID     75278 non-null  int64 \n",
      " 2   Registration_Date  74944 non-null  object\n",
      " 3   Var1               75278 non-null  int64 \n",
      " 4   Var2               75278 non-null  int64 \n",
      " 5   Var3               75278 non-null  int64 \n",
      " 6   Var4               75278 non-null  int64 \n",
      " 7   Var5               75278 non-null  int64 \n",
      "dtypes: int64(7), object(1)\n",
      "memory usage: 4.6+ MB\n"
     ]
    }
   ],
   "source": [
    "train.info()"
   ]
  },
  {
   "cell_type": "code",
   "execution_count": 52,
   "metadata": {},
   "outputs": [],
   "source": [
    "#dropping 334 records with not registration date\n",
    "train=train.dropna()"
   ]
  },
  {
   "cell_type": "code",
   "execution_count": 53,
   "metadata": {},
   "outputs": [
    {
     "data": {
      "text/plain": [
       "Patient_ID           0\n",
       "Health_Camp_ID       0\n",
       "Registration_Date    0\n",
       "Var1                 0\n",
       "Var2                 0\n",
       "Var3                 0\n",
       "Var4                 0\n",
       "Var5                 0\n",
       "dtype: int64"
      ]
     },
     "execution_count": 53,
     "metadata": {},
     "output_type": "execute_result"
    }
   ],
   "source": [
    "train.isnull().sum()"
   ]
  },
  {
   "cell_type": "code",
   "execution_count": 54,
   "metadata": {},
   "outputs": [
    {
     "data": {
      "text/html": [
       "<div>\n",
       "<style scoped>\n",
       "    .dataframe tbody tr th:only-of-type {\n",
       "        vertical-align: middle;\n",
       "    }\n",
       "\n",
       "    .dataframe tbody tr th {\n",
       "        vertical-align: top;\n",
       "    }\n",
       "\n",
       "    .dataframe thead th {\n",
       "        text-align: right;\n",
       "    }\n",
       "</style>\n",
       "<table border=\"1\" class=\"dataframe\">\n",
       "  <thead>\n",
       "    <tr style=\"text-align: right;\">\n",
       "      <th></th>\n",
       "      <th>Patient_ID</th>\n",
       "      <th>Health_Camp_ID</th>\n",
       "      <th>Registration_Date</th>\n",
       "      <th>Var1</th>\n",
       "      <th>Var2</th>\n",
       "      <th>Var3</th>\n",
       "      <th>Var4</th>\n",
       "      <th>Var5</th>\n",
       "    </tr>\n",
       "  </thead>\n",
       "  <tbody>\n",
       "    <tr>\n",
       "      <th>0</th>\n",
       "      <td>505701</td>\n",
       "      <td>6548</td>\n",
       "      <td>21-May-06</td>\n",
       "      <td>1</td>\n",
       "      <td>0</td>\n",
       "      <td>0</td>\n",
       "      <td>0</td>\n",
       "      <td>2</td>\n",
       "    </tr>\n",
       "    <tr>\n",
       "      <th>1</th>\n",
       "      <td>500633</td>\n",
       "      <td>6584</td>\n",
       "      <td>02-Jun-06</td>\n",
       "      <td>0</td>\n",
       "      <td>0</td>\n",
       "      <td>0</td>\n",
       "      <td>0</td>\n",
       "      <td>0</td>\n",
       "    </tr>\n",
       "  </tbody>\n",
       "</table>\n",
       "</div>"
      ],
      "text/plain": [
       "   Patient_ID  Health_Camp_ID Registration_Date  Var1  Var2  Var3  Var4  Var5\n",
       "0      505701            6548         21-May-06     1     0     0     0     2\n",
       "1      500633            6584         02-Jun-06     0     0     0     0     0"
      ]
     },
     "execution_count": 54,
     "metadata": {},
     "output_type": "execute_result"
    }
   ],
   "source": [
    "test.head(2)"
   ]
  },
  {
   "cell_type": "code",
   "execution_count": 55,
   "metadata": {},
   "outputs": [
    {
     "name": "stdout",
     "output_type": "stream",
     "text": [
      "<class 'pandas.core.frame.DataFrame'>\n",
      "RangeIndex: 35249 entries, 0 to 35248\n",
      "Data columns (total 8 columns):\n",
      " #   Column             Non-Null Count  Dtype \n",
      "---  ------             --------------  ----- \n",
      " 0   Patient_ID         35249 non-null  int64 \n",
      " 1   Health_Camp_ID     35249 non-null  int64 \n",
      " 2   Registration_Date  35249 non-null  object\n",
      " 3   Var1               35249 non-null  int64 \n",
      " 4   Var2               35249 non-null  int64 \n",
      " 5   Var3               35249 non-null  int64 \n",
      " 6   Var4               35249 non-null  int64 \n",
      " 7   Var5               35249 non-null  int64 \n",
      "dtypes: int64(7), object(1)\n",
      "memory usage: 2.2+ MB\n"
     ]
    }
   ],
   "source": [
    "test.info()"
   ]
  },
  {
   "cell_type": "code",
   "execution_count": 56,
   "metadata": {},
   "outputs": [],
   "source": [
    "#converting string date to datetime object\n",
    "train['Registration_Date']=train['Registration_Date'].apply(lambda x:datetime.strptime(x,'%d-%b-%y'))\n",
    "test['Registration_Date']=test['Registration_Date'].apply(lambda x:datetime.strptime(x,'%d-%b-%y'))\n",
    "\n",
    "train['Registration_Quarter']=train['Registration_Date'].apply(lambda x:x.quarter)\n",
    "test['Registration_Quarter']=test['Registration_Date'].apply(lambda x:x.quarter)\n",
    "\n",
    "train['Registration_Month']=train['Registration_Date'].apply(lambda x:x.month)\n",
    "test['Registration_Month']=test['Registration_Date'].apply(lambda x:x.month)\n",
    "\n",
    "train['Registration_Day']=train['Registration_Date'].apply(lambda x:x.day)\n",
    "test['Registration_Day']=test['Registration_Date'].apply(lambda x:x.day)"
   ]
  },
  {
   "cell_type": "code",
   "execution_count": 57,
   "metadata": {},
   "outputs": [
    {
     "data": {
      "text/html": [
       "<div>\n",
       "<style scoped>\n",
       "    .dataframe tbody tr th:only-of-type {\n",
       "        vertical-align: middle;\n",
       "    }\n",
       "\n",
       "    .dataframe tbody tr th {\n",
       "        vertical-align: top;\n",
       "    }\n",
       "\n",
       "    .dataframe thead th {\n",
       "        text-align: right;\n",
       "    }\n",
       "</style>\n",
       "<table border=\"1\" class=\"dataframe\">\n",
       "  <thead>\n",
       "    <tr style=\"text-align: right;\">\n",
       "      <th></th>\n",
       "      <th>Patient_ID</th>\n",
       "      <th>Health_Camp_ID</th>\n",
       "      <th>Registration_Date</th>\n",
       "      <th>Var1</th>\n",
       "      <th>Var2</th>\n",
       "      <th>Var3</th>\n",
       "      <th>Var4</th>\n",
       "      <th>Var5</th>\n",
       "      <th>Registration_Quarter</th>\n",
       "      <th>Registration_Month</th>\n",
       "      <th>Registration_Day</th>\n",
       "    </tr>\n",
       "  </thead>\n",
       "  <tbody>\n",
       "    <tr>\n",
       "      <th>0</th>\n",
       "      <td>489652</td>\n",
       "      <td>6578</td>\n",
       "      <td>2005-09-10</td>\n",
       "      <td>4</td>\n",
       "      <td>0</td>\n",
       "      <td>0</td>\n",
       "      <td>0</td>\n",
       "      <td>2</td>\n",
       "      <td>3</td>\n",
       "      <td>9</td>\n",
       "      <td>10</td>\n",
       "    </tr>\n",
       "    <tr>\n",
       "      <th>1</th>\n",
       "      <td>507246</td>\n",
       "      <td>6578</td>\n",
       "      <td>2005-08-18</td>\n",
       "      <td>45</td>\n",
       "      <td>5</td>\n",
       "      <td>0</td>\n",
       "      <td>0</td>\n",
       "      <td>7</td>\n",
       "      <td>3</td>\n",
       "      <td>8</td>\n",
       "      <td>18</td>\n",
       "    </tr>\n",
       "  </tbody>\n",
       "</table>\n",
       "</div>"
      ],
      "text/plain": [
       "   Patient_ID  Health_Camp_ID Registration_Date  Var1  Var2  Var3  Var4  Var5  \\\n",
       "0      489652            6578        2005-09-10     4     0     0     0     2   \n",
       "1      507246            6578        2005-08-18    45     5     0     0     7   \n",
       "\n",
       "   Registration_Quarter  Registration_Month  Registration_Day  \n",
       "0                     3                   9                10  \n",
       "1                     3                   8                18  "
      ]
     },
     "execution_count": 57,
     "metadata": {},
     "output_type": "execute_result"
    }
   ],
   "source": [
    "train.head(2)"
   ]
  },
  {
   "cell_type": "code",
   "execution_count": 58,
   "metadata": {},
   "outputs": [
    {
     "data": {
      "text/html": [
       "<div>\n",
       "<style scoped>\n",
       "    .dataframe tbody tr th:only-of-type {\n",
       "        vertical-align: middle;\n",
       "    }\n",
       "\n",
       "    .dataframe tbody tr th {\n",
       "        vertical-align: top;\n",
       "    }\n",
       "\n",
       "    .dataframe thead th {\n",
       "        text-align: right;\n",
       "    }\n",
       "</style>\n",
       "<table border=\"1\" class=\"dataframe\">\n",
       "  <thead>\n",
       "    <tr style=\"text-align: right;\">\n",
       "      <th></th>\n",
       "      <th>Patient_ID</th>\n",
       "      <th>Health_Camp_ID</th>\n",
       "      <th>Registration_Date</th>\n",
       "      <th>Var1</th>\n",
       "      <th>Var2</th>\n",
       "      <th>Var3</th>\n",
       "      <th>Var4</th>\n",
       "      <th>Var5</th>\n",
       "      <th>Registration_Quarter</th>\n",
       "      <th>Registration_Month</th>\n",
       "      <th>Registration_Day</th>\n",
       "    </tr>\n",
       "  </thead>\n",
       "  <tbody>\n",
       "    <tr>\n",
       "      <th>0</th>\n",
       "      <td>505701</td>\n",
       "      <td>6548</td>\n",
       "      <td>2006-05-21</td>\n",
       "      <td>1</td>\n",
       "      <td>0</td>\n",
       "      <td>0</td>\n",
       "      <td>0</td>\n",
       "      <td>2</td>\n",
       "      <td>2</td>\n",
       "      <td>5</td>\n",
       "      <td>21</td>\n",
       "    </tr>\n",
       "    <tr>\n",
       "      <th>1</th>\n",
       "      <td>500633</td>\n",
       "      <td>6584</td>\n",
       "      <td>2006-06-02</td>\n",
       "      <td>0</td>\n",
       "      <td>0</td>\n",
       "      <td>0</td>\n",
       "      <td>0</td>\n",
       "      <td>0</td>\n",
       "      <td>2</td>\n",
       "      <td>6</td>\n",
       "      <td>2</td>\n",
       "    </tr>\n",
       "  </tbody>\n",
       "</table>\n",
       "</div>"
      ],
      "text/plain": [
       "   Patient_ID  Health_Camp_ID Registration_Date  Var1  Var2  Var3  Var4  Var5  \\\n",
       "0      505701            6548        2006-05-21     1     0     0     0     2   \n",
       "1      500633            6584        2006-06-02     0     0     0     0     0   \n",
       "\n",
       "   Registration_Quarter  Registration_Month  Registration_Day  \n",
       "0                     2                   5                21  \n",
       "1                     2                   6                 2  "
      ]
     },
     "execution_count": 58,
     "metadata": {},
     "output_type": "execute_result"
    }
   ],
   "source": [
    "test.head(2)"
   ]
  },
  {
   "cell_type": "markdown",
   "metadata": {},
   "source": [
    "#### Merging with health and patient details, creating outcome variable "
   ]
  },
  {
   "cell_type": "code",
   "execution_count": 59,
   "metadata": {},
   "outputs": [
    {
     "data": {
      "text/plain": [
       "0    54606\n",
       "1    20338\n",
       "Name: overall_outcome, dtype: int64"
      ]
     },
     "execution_count": 59,
     "metadata": {},
     "output_type": "execute_result"
    }
   ],
   "source": [
    "#merging health camp details\n",
    "train=pd.merge(train,health_camp_detail,how='left')\n",
    "test=pd.merge(test,health_camp_detail,how='left')\n",
    "\n",
    "#merging patient details\n",
    "train=pd.merge(train,patient_profile,how='left')\n",
    "test=pd.merge(test,patient_profile,how='left')\n",
    "\n",
    "#merging fhc details\n",
    "train = pd.merge(train, fhc,  how='left', left_on=['Patient_ID','Health_Camp_ID'], right_on = ['Patient_ID','Health_Camp_ID'])\n",
    "\n",
    "#merging shc details\n",
    "train = pd.merge(train, shc,  how='left', left_on=['Patient_ID','Health_Camp_ID'], right_on = ['Patient_ID','Health_Camp_ID'])\n",
    "\n",
    "#merging thc details\n",
    "train = pd.merge(train, thc,  how='left', left_on=['Patient_ID','Health_Camp_ID'], right_on = ['Patient_ID','Health_Camp_ID'])\n",
    "\n",
    "#creating outcome value\n",
    "#creating binary column for first health camp\n",
    "train['fhc_outcome']=train['Health_Score'].apply(lambda x: 1 if x>0 else 0 )\n",
    "\n",
    "#creating binary column for second health camp\n",
    "train['shc_outcome']=train['Health Score'].apply(lambda x: 1 if x>0 else 0 )\n",
    "\n",
    "#creating binary column for third health camp\n",
    "train['thc_outcome']=train['Number_of_stall_visited'].apply(lambda x: 1 if x>0 else 0 )\n",
    "\n",
    "#overall outcome\n",
    "train['overall_outcome']=train['fhc_outcome']+train['shc_outcome']+train['thc_outcome']\n",
    "\n",
    "train.drop(['fhc_outcome','shc_outcome','thc_outcome','Health_Score','Health Score','Donation','Number_of_stall_visited','Last_Stall_Visited_Number'],axis=1,inplace=True)\n",
    "train['overall_outcome'].value_counts()"
   ]
  },
  {
   "cell_type": "markdown",
   "metadata": {},
   "source": [
    "#### Exploring Train Data & Feature Engineering for Train"
   ]
  },
  {
   "cell_type": "code",
   "execution_count": 60,
   "metadata": {},
   "outputs": [
    {
     "data": {
      "text/html": [
       "<div>\n",
       "<style scoped>\n",
       "    .dataframe tbody tr th:only-of-type {\n",
       "        vertical-align: middle;\n",
       "    }\n",
       "\n",
       "    .dataframe tbody tr th {\n",
       "        vertical-align: top;\n",
       "    }\n",
       "\n",
       "    .dataframe thead th {\n",
       "        text-align: right;\n",
       "    }\n",
       "</style>\n",
       "<table border=\"1\" class=\"dataframe\">\n",
       "  <thead>\n",
       "    <tr style=\"text-align: right;\">\n",
       "      <th></th>\n",
       "      <th>Patient_ID</th>\n",
       "      <th>Health_Camp_ID</th>\n",
       "      <th>Registration_Date</th>\n",
       "      <th>Var1</th>\n",
       "      <th>Var2</th>\n",
       "      <th>Var3</th>\n",
       "      <th>Var4</th>\n",
       "      <th>Var5</th>\n",
       "      <th>Registration_Quarter</th>\n",
       "      <th>Registration_Month</th>\n",
       "      <th>...</th>\n",
       "      <th>B_city</th>\n",
       "      <th>C_city</th>\n",
       "      <th>D_city</th>\n",
       "      <th>E_city</th>\n",
       "      <th>F_city</th>\n",
       "      <th>G_city</th>\n",
       "      <th>H_city</th>\n",
       "      <th>I_city</th>\n",
       "      <th>None_city</th>\n",
       "      <th>overall_outcome</th>\n",
       "    </tr>\n",
       "  </thead>\n",
       "  <tbody>\n",
       "    <tr>\n",
       "      <th>0</th>\n",
       "      <td>489652</td>\n",
       "      <td>6578</td>\n",
       "      <td>2005-09-10</td>\n",
       "      <td>4</td>\n",
       "      <td>0</td>\n",
       "      <td>0</td>\n",
       "      <td>0</td>\n",
       "      <td>2</td>\n",
       "      <td>3</td>\n",
       "      <td>9</td>\n",
       "      <td>...</td>\n",
       "      <td>0</td>\n",
       "      <td>0</td>\n",
       "      <td>0</td>\n",
       "      <td>0</td>\n",
       "      <td>0</td>\n",
       "      <td>0</td>\n",
       "      <td>0</td>\n",
       "      <td>0</td>\n",
       "      <td>1</td>\n",
       "      <td>1</td>\n",
       "    </tr>\n",
       "    <tr>\n",
       "      <th>1</th>\n",
       "      <td>507246</td>\n",
       "      <td>6578</td>\n",
       "      <td>2005-08-18</td>\n",
       "      <td>45</td>\n",
       "      <td>5</td>\n",
       "      <td>0</td>\n",
       "      <td>0</td>\n",
       "      <td>7</td>\n",
       "      <td>3</td>\n",
       "      <td>8</td>\n",
       "      <td>...</td>\n",
       "      <td>0</td>\n",
       "      <td>1</td>\n",
       "      <td>0</td>\n",
       "      <td>0</td>\n",
       "      <td>0</td>\n",
       "      <td>0</td>\n",
       "      <td>0</td>\n",
       "      <td>0</td>\n",
       "      <td>0</td>\n",
       "      <td>0</td>\n",
       "    </tr>\n",
       "  </tbody>\n",
       "</table>\n",
       "<p>2 rows × 55 columns</p>\n",
       "</div>"
      ],
      "text/plain": [
       "   Patient_ID  Health_Camp_ID Registration_Date  Var1  Var2  Var3  Var4  Var5  \\\n",
       "0      489652            6578        2005-09-10     4     0     0     0     2   \n",
       "1      507246            6578        2005-08-18    45     5     0     0     7   \n",
       "\n",
       "   Registration_Quarter  Registration_Month  ...  B_city C_city D_city  \\\n",
       "0                     3                   9  ...       0      0      0   \n",
       "1                     3                   8  ...       0      1      0   \n",
       "\n",
       "   E_city  F_city  G_city  H_city  I_city  None_city  overall_outcome  \n",
       "0       0       0       0       0       0          1                1  \n",
       "1       0       0       0       0       0          0                0  \n",
       "\n",
       "[2 rows x 55 columns]"
      ]
     },
     "execution_count": 60,
     "metadata": {},
     "output_type": "execute_result"
    }
   ],
   "source": [
    "train.head(2)"
   ]
  },
  {
   "cell_type": "code",
   "execution_count": 61,
   "metadata": {},
   "outputs": [
    {
     "name": "stdout",
     "output_type": "stream",
     "text": [
      "<class 'pandas.core.frame.DataFrame'>\n",
      "Int64Index: 74944 entries, 0 to 74943\n",
      "Data columns (total 55 columns):\n",
      " #   Column                     Non-Null Count  Dtype         \n",
      "---  ------                     --------------  -----         \n",
      " 0   Patient_ID                 74944 non-null  int64         \n",
      " 1   Health_Camp_ID             74944 non-null  int64         \n",
      " 2   Registration_Date          74944 non-null  datetime64[ns]\n",
      " 3   Var1                       74944 non-null  int64         \n",
      " 4   Var2                       74944 non-null  int64         \n",
      " 5   Var3                       74944 non-null  int64         \n",
      " 6   Var4                       74944 non-null  int64         \n",
      " 7   Var5                       74944 non-null  int64         \n",
      " 8   Registration_Quarter       74944 non-null  int64         \n",
      " 9   Registration_Month         74944 non-null  int64         \n",
      " 10  Registration_Day           74944 non-null  int64         \n",
      " 11  Camp_Start_Date            74944 non-null  datetime64[ns]\n",
      " 12  Camp_End_Date              74944 non-null  datetime64[ns]\n",
      " 13  Camp_Start_Month           74944 non-null  int64         \n",
      " 14  Camp_Start_Day             74944 non-null  int64         \n",
      " 15  Camp_Start_Quarter         74944 non-null  int64         \n",
      " 16  Camp_End_Month             74944 non-null  int64         \n",
      " 17  Camp_End_Day               74944 non-null  int64         \n",
      " 18  Camp_End_Quarter           74944 non-null  int64         \n",
      " 19  Camp_Duration              74944 non-null  float64       \n",
      " 20  Second_cat1                74944 non-null  uint8         \n",
      " 21  Third_cat1                 74944 non-null  uint8         \n",
      " 22  B_cat2                     74944 non-null  uint8         \n",
      " 23  C_cat2                     74944 non-null  uint8         \n",
      " 24  D_cat2                     74944 non-null  uint8         \n",
      " 25  E_cat2                     74944 non-null  uint8         \n",
      " 26  F_cat2                     74944 non-null  uint8         \n",
      " 27  G_cat2                     74944 non-null  uint8         \n",
      " 28  2_cat3                     74944 non-null  uint8         \n",
      " 29  weekends_during_campaign   74944 non-null  int64         \n",
      " 30  Education_Score            9878 non-null   float32       \n",
      " 31  Age                        23492 non-null  float32       \n",
      " 32  First_Interaction          74944 non-null  datetime64[ns]\n",
      " 33  Employer_Category          15066 non-null  object        \n",
      " 34  First_Interaction_Month    74944 non-null  int64         \n",
      " 35  First_Interaction_Day      74944 non-null  int64         \n",
      " 36  First_Interaction_Quarter  74944 non-null  int64         \n",
      " 37  Online_Interactions        74944 non-null  int64         \n",
      " 38  1_inc                      74944 non-null  uint8         \n",
      " 39  2_inc                      74944 non-null  uint8         \n",
      " 40  3_inc                      74944 non-null  uint8         \n",
      " 41  4_inc                      74944 non-null  uint8         \n",
      " 42  5_inc                      74944 non-null  uint8         \n",
      " 43  6_inc                      74944 non-null  uint8         \n",
      " 44  None_inc                   74944 non-null  uint8         \n",
      " 45  B_city                     74944 non-null  uint8         \n",
      " 46  C_city                     74944 non-null  uint8         \n",
      " 47  D_city                     74944 non-null  uint8         \n",
      " 48  E_city                     74944 non-null  uint8         \n",
      " 49  F_city                     74944 non-null  uint8         \n",
      " 50  G_city                     74944 non-null  uint8         \n",
      " 51  H_city                     74944 non-null  uint8         \n",
      " 52  I_city                     74944 non-null  uint8         \n",
      " 53  None_city                  74944 non-null  uint8         \n",
      " 54  overall_outcome            74944 non-null  int64         \n",
      "dtypes: datetime64[ns](4), float32(2), float64(1), int64(22), object(1), uint8(25)\n",
      "memory usage: 18.9+ MB\n"
     ]
    }
   ],
   "source": [
    "train.info()"
   ]
  },
  {
   "cell_type": "code",
   "execution_count": 62,
   "metadata": {},
   "outputs": [
    {
     "data": {
      "text/plain": [
       "Patient_ID                       0\n",
       "Health_Camp_ID                   0\n",
       "Registration_Date                0\n",
       "Var1                             0\n",
       "Var2                             0\n",
       "Var3                             0\n",
       "Var4                             0\n",
       "Var5                             0\n",
       "Registration_Quarter             0\n",
       "Registration_Month               0\n",
       "Registration_Day                 0\n",
       "Camp_Start_Date                  0\n",
       "Camp_End_Date                    0\n",
       "Camp_Start_Month                 0\n",
       "Camp_Start_Day                   0\n",
       "Camp_Start_Quarter               0\n",
       "Camp_End_Month                   0\n",
       "Camp_End_Day                     0\n",
       "Camp_End_Quarter                 0\n",
       "Camp_Duration                    0\n",
       "Second_cat1                      0\n",
       "Third_cat1                       0\n",
       "B_cat2                           0\n",
       "C_cat2                           0\n",
       "D_cat2                           0\n",
       "E_cat2                           0\n",
       "F_cat2                           0\n",
       "G_cat2                           0\n",
       "2_cat3                           0\n",
       "weekends_during_campaign         0\n",
       "Education_Score              65066\n",
       "Age                          51452\n",
       "First_Interaction                0\n",
       "Employer_Category            59878\n",
       "First_Interaction_Month          0\n",
       "First_Interaction_Day            0\n",
       "First_Interaction_Quarter        0\n",
       "Online_Interactions              0\n",
       "1_inc                            0\n",
       "2_inc                            0\n",
       "3_inc                            0\n",
       "4_inc                            0\n",
       "5_inc                            0\n",
       "6_inc                            0\n",
       "None_inc                         0\n",
       "B_city                           0\n",
       "C_city                           0\n",
       "D_city                           0\n",
       "E_city                           0\n",
       "F_city                           0\n",
       "G_city                           0\n",
       "H_city                           0\n",
       "I_city                           0\n",
       "None_city                        0\n",
       "overall_outcome                  0\n",
       "dtype: int64"
      ]
     },
     "execution_count": 62,
     "metadata": {},
     "output_type": "execute_result"
    }
   ],
   "source": [
    "#checking missing values\n",
    "train.isnull().sum()"
   ]
  },
  {
   "cell_type": "code",
   "execution_count": 63,
   "metadata": {},
   "outputs": [
    {
     "data": {
      "text/plain": [
       "Patient_ID                       0\n",
       "Health_Camp_ID                   0\n",
       "Registration_Date                0\n",
       "Var1                             0\n",
       "Var2                             0\n",
       "Var3                             0\n",
       "Var4                             0\n",
       "Var5                             0\n",
       "Registration_Quarter             0\n",
       "Registration_Month               0\n",
       "Registration_Day                 0\n",
       "Camp_Start_Date                  0\n",
       "Camp_End_Date                    0\n",
       "Camp_Start_Month                 0\n",
       "Camp_Start_Day                   0\n",
       "Camp_Start_Quarter               0\n",
       "Camp_End_Month                   0\n",
       "Camp_End_Day                     0\n",
       "Camp_End_Quarter                 0\n",
       "Camp_Duration                    0\n",
       "Second_cat1                      0\n",
       "Third_cat1                       0\n",
       "B_cat2                           0\n",
       "C_cat2                           0\n",
       "D_cat2                           0\n",
       "E_cat2                           0\n",
       "F_cat2                           0\n",
       "G_cat2                           0\n",
       "2_cat3                           0\n",
       "weekends_during_campaign         0\n",
       "Education_Score              32822\n",
       "Age                          26313\n",
       "First_Interaction                0\n",
       "Employer_Category            30888\n",
       "First_Interaction_Month          0\n",
       "First_Interaction_Day            0\n",
       "First_Interaction_Quarter        0\n",
       "Online_Interactions              0\n",
       "1_inc                            0\n",
       "2_inc                            0\n",
       "3_inc                            0\n",
       "4_inc                            0\n",
       "5_inc                            0\n",
       "6_inc                            0\n",
       "None_inc                         0\n",
       "B_city                           0\n",
       "C_city                           0\n",
       "D_city                           0\n",
       "E_city                           0\n",
       "F_city                           0\n",
       "G_city                           0\n",
       "H_city                           0\n",
       "I_city                           0\n",
       "None_city                        0\n",
       "dtype: int64"
      ]
     },
     "execution_count": 63,
     "metadata": {},
     "output_type": "execute_result"
    }
   ],
   "source": [
    "test.isnull().sum()"
   ]
  },
  {
   "cell_type": "code",
   "execution_count": 64,
   "metadata": {},
   "outputs": [
    {
     "data": {
      "text/plain": [
       "Patient_ID                       0\n",
       "Health_Camp_ID                   0\n",
       "Registration_Date                0\n",
       "Var1                             0\n",
       "Var2                             0\n",
       "Var3                             0\n",
       "Var4                             0\n",
       "Var5                             0\n",
       "Registration_Quarter             0\n",
       "Registration_Month               0\n",
       "Registration_Day                 0\n",
       "Camp_Start_Date                  0\n",
       "Camp_End_Date                    0\n",
       "Camp_Start_Month                 0\n",
       "Camp_Start_Day                   0\n",
       "Camp_Start_Quarter               0\n",
       "Camp_End_Month                   0\n",
       "Camp_End_Day                     0\n",
       "Camp_End_Quarter                 0\n",
       "Camp_Duration                    0\n",
       "Second_cat1                      0\n",
       "Third_cat1                       0\n",
       "B_cat2                           0\n",
       "C_cat2                           0\n",
       "D_cat2                           0\n",
       "E_cat2                           0\n",
       "F_cat2                           0\n",
       "G_cat2                           0\n",
       "2_cat3                           0\n",
       "weekends_during_campaign         0\n",
       "Education_Score                  0\n",
       "Age                              0\n",
       "First_Interaction                0\n",
       "Employer_Category            59878\n",
       "First_Interaction_Month          0\n",
       "First_Interaction_Day            0\n",
       "First_Interaction_Quarter        0\n",
       "Online_Interactions              0\n",
       "1_inc                            0\n",
       "2_inc                            0\n",
       "3_inc                            0\n",
       "4_inc                            0\n",
       "5_inc                            0\n",
       "6_inc                            0\n",
       "None_inc                         0\n",
       "B_city                           0\n",
       "C_city                           0\n",
       "D_city                           0\n",
       "E_city                           0\n",
       "F_city                           0\n",
       "G_city                           0\n",
       "H_city                           0\n",
       "I_city                           0\n",
       "None_city                        0\n",
       "overall_outcome                  0\n",
       "dtype: int64"
      ]
     },
     "execution_count": 64,
     "metadata": {},
     "output_type": "execute_result"
    }
   ],
   "source": [
    "train_avg_edu=train['Education_Score'].mean()\n",
    "train_avg_age=train['Age'].mean()\n",
    "train['Education_Score']=train['Education_Score'].fillna(train_avg_edu)\n",
    "train['Age']=train['Age'].fillna(train_avg_age)\n",
    "\n",
    "train.isnull().sum()"
   ]
  },
  {
   "cell_type": "code",
   "execution_count": 65,
   "metadata": {},
   "outputs": [
    {
     "data": {
      "text/plain": [
       "Patient_ID                       0\n",
       "Health_Camp_ID                   0\n",
       "Registration_Date                0\n",
       "Var1                             0\n",
       "Var2                             0\n",
       "Var3                             0\n",
       "Var4                             0\n",
       "Var5                             0\n",
       "Registration_Quarter             0\n",
       "Registration_Month               0\n",
       "Registration_Day                 0\n",
       "Camp_Start_Date                  0\n",
       "Camp_End_Date                    0\n",
       "Camp_Start_Month                 0\n",
       "Camp_Start_Day                   0\n",
       "Camp_Start_Quarter               0\n",
       "Camp_End_Month                   0\n",
       "Camp_End_Day                     0\n",
       "Camp_End_Quarter                 0\n",
       "Camp_Duration                    0\n",
       "Second_cat1                      0\n",
       "Third_cat1                       0\n",
       "B_cat2                           0\n",
       "C_cat2                           0\n",
       "D_cat2                           0\n",
       "E_cat2                           0\n",
       "F_cat2                           0\n",
       "G_cat2                           0\n",
       "2_cat3                           0\n",
       "weekends_during_campaign         0\n",
       "Education_Score                  0\n",
       "Age                              0\n",
       "First_Interaction                0\n",
       "Employer_Category            30888\n",
       "First_Interaction_Month          0\n",
       "First_Interaction_Day            0\n",
       "First_Interaction_Quarter        0\n",
       "Online_Interactions              0\n",
       "1_inc                            0\n",
       "2_inc                            0\n",
       "3_inc                            0\n",
       "4_inc                            0\n",
       "5_inc                            0\n",
       "6_inc                            0\n",
       "None_inc                         0\n",
       "B_city                           0\n",
       "C_city                           0\n",
       "D_city                           0\n",
       "E_city                           0\n",
       "F_city                           0\n",
       "G_city                           0\n",
       "H_city                           0\n",
       "I_city                           0\n",
       "None_city                        0\n",
       "dtype: int64"
      ]
     },
     "execution_count": 65,
     "metadata": {},
     "output_type": "execute_result"
    }
   ],
   "source": [
    "test_avg_edu=test['Education_Score'].mean()\n",
    "test_avg_age=test['Age'].mean()\n",
    "test['Education_Score']=test['Education_Score'].fillna(test_avg_edu)\n",
    "test['Age']=test['Age'].fillna(test_avg_age)\n",
    "\n",
    "test.isnull().sum()"
   ]
  },
  {
   "cell_type": "code",
   "execution_count": 66,
   "metadata": {},
   "outputs": [
    {
     "data": {
      "text/plain": [
       "<matplotlib.legend.Legend at 0x7efd33107fd0>"
      ]
     },
     "execution_count": 66,
     "metadata": {},
     "output_type": "execute_result"
    },
    {
     "data": {
      "image/png": "[encoded data removed]",
      "text/plain": [
       "<Figure size 720x432 with 1 Axes>"
      ]
     },
     "metadata": {
      "needs_background": "light"
     },
     "output_type": "display_data"
    }
   ],
   "source": [
    "#Replace column as needed to visualize\n",
    "plt.figure(figsize=(10,6))\n",
    "train[train['overall_outcome']==1]['Second_cat1'].hist(alpha=0.5,color='blue',\n",
    "                                              bins=15,label='Outcome=1')\n",
    "train[train['overall_outcome']==0]['Second_cat1'].hist(alpha=0.5,color='red',\n",
    "                                              bins=15,label='Outcome=0')\n",
    "plt.legend()"
   ]
  },
  {
   "cell_type": "code",
   "execution_count": 67,
   "metadata": {},
   "outputs": [
    {
     "data": {
      "text/plain": [
       "<matplotlib.axes._subplots.AxesSubplot at 0x7efd3300c110>"
      ]
     },
     "execution_count": 67,
     "metadata": {},
     "output_type": "execute_result"
    },
    {
     "data": {
      "image/png": "[encoded data removed]",
      "text/plain": [
       "<Figure size 432x288 with 1 Axes>"
      ]
     },
     "metadata": {
      "needs_background": "light"
     },
     "output_type": "display_data"
    }
   ],
   "source": [
    "sns.scatterplot(x='Age',y='Education_Score',data=train,hue='overall_outcome')"
   ]
  },
  {
   "cell_type": "markdown",
   "metadata": {},
   "source": [
    "#### Some Additional Feature Engineering & Exploratory Data Analysis"
   ]
  },
  {
   "cell_type": "code",
   "execution_count": 68,
   "metadata": {},
   "outputs": [],
   "source": [
    "#Camp_Start_Date, Camp_End_Date, Registration_Date, First_Interaction\n",
    "train['regis_cs']=(train['Camp_Start_Date']-train['Registration_Date']).astype('timedelta64[D]')\n",
    "train['regis_ce']=(train['Camp_End_Date']-train['Registration_Date']).astype('timedelta64[D]')\n",
    "train['regis_fi']=(train['Registration_Date']-train['First_Interaction']).astype('timedelta64[D]')\n",
    "\n",
    "test['regis_cs']=(test['Camp_Start_Date']-test['Registration_Date']).astype('timedelta64[D]')\n",
    "test['regis_ce']=(test['Camp_End_Date']-test['Registration_Date']).astype('timedelta64[D]')\n",
    "test['regis_fi']=(test['Registration_Date']-test['First_Interaction']).astype('timedelta64[D]')\n",
    "\n",
    "train['fi_cs']=(train['Camp_Start_Date']-train['First_Interaction']).astype('timedelta64[D]')\n",
    "train['fi_ce']=(train['Camp_End_Date']-train['First_Interaction']).astype('timedelta64[D]')\n",
    "\n",
    "test['fi_cs']=(test['Camp_Start_Date']-test['First_Interaction']).astype('timedelta64[D]')\n",
    "test['fi_ce']=(test['Camp_End_Date']-test['First_Interaction']).astype('timedelta64[D]')"
   ]
  },
  {
   "cell_type": "code",
   "execution_count": 69,
   "metadata": {},
   "outputs": [
    {
     "data": {
      "text/plain": [
       "<matplotlib.legend.Legend at 0x7efd32ee2ed0>"
      ]
     },
     "execution_count": 69,
     "metadata": {},
     "output_type": "execute_result"
    },
    {
     "data": {
      "image/png": "[encoded data removed]",
      "text/plain": [
       "<Figure size 1440x432 with 1 Axes>"
      ]
     },
     "metadata": {
      "needs_background": "light"
     },
     "output_type": "display_data"
    }
   ],
   "source": [
    "#regis_cs\n",
    "plt.figure(figsize=(20,6))\n",
    "train[train['overall_outcome']==1]['regis_cs'].hist(alpha=0.5,color='blue',\n",
    "                                              bins=15,label='Outcome=1')\n",
    "train[train['overall_outcome']==0]['regis_cs'].hist(alpha=0.5,color='red',\n",
    "                                              bins=15,label='Outcome=0')\n",
    "plt.legend()"
   ]
  },
  {
   "cell_type": "code",
   "execution_count": 70,
   "metadata": {},
   "outputs": [
    {
     "data": {
      "text/plain": [
       "<matplotlib.legend.Legend at 0x7efd32ed0910>"
      ]
     },
     "execution_count": 70,
     "metadata": {},
     "output_type": "execute_result"
    },
    {
     "data": {
      "image/png": "[encoded data removed]",
      "text/plain": [
       "<Figure size 1440x432 with 1 Axes>"
      ]
     },
     "metadata": {
      "needs_background": "light"
     },
     "output_type": "display_data"
    }
   ],
   "source": [
    "#regis_ce\n",
    "plt.figure(figsize=(20,6))\n",
    "train[train['overall_outcome']==1]['regis_ce'].hist(alpha=0.5,color='blue',\n",
    "                                              bins=15,label='Outcome=1')\n",
    "train[train['overall_outcome']==0]['regis_ce'].hist(alpha=0.5,color='red',\n",
    "                                              bins=15,label='Outcome=0')\n",
    "plt.legend()"
   ]
  },
  {
   "cell_type": "code",
   "execution_count": 71,
   "metadata": {},
   "outputs": [
    {
     "data": {
      "text/plain": [
       "<matplotlib.legend.Legend at 0x7efd32d8a550>"
      ]
     },
     "execution_count": 71,
     "metadata": {},
     "output_type": "execute_result"
    },
    {
     "data": {
      "image/png": "[encoded data removed]",
      "text/plain": [
       "<Figure size 1440x432 with 1 Axes>"
      ]
     },
     "metadata": {
      "needs_background": "light"
     },
     "output_type": "display_data"
    }
   ],
   "source": [
    "#regis_fi\n",
    "plt.figure(figsize=(20,6))\n",
    "train[train['overall_outcome']==1]['regis_fi'].hist(alpha=0.5,color='blue',\n",
    "                                              bins=15,label='Outcome=1')\n",
    "train[train['overall_outcome']==0]['regis_fi'].hist(alpha=0.5,color='red',\n",
    "                                              bins=15,label='Outcome=0')\n",
    "plt.legend()"
   ]
  },
  {
   "cell_type": "code",
   "execution_count": 72,
   "metadata": {},
   "outputs": [
    {
     "data": {
      "text/plain": [
       "<matplotlib.legend.Legend at 0x7efd32c25b50>"
      ]
     },
     "execution_count": 72,
     "metadata": {},
     "output_type": "execute_result"
    },
    {
     "data": {
      "image/png": "[encoded data removed]",
      "text/plain": [
       "<Figure size 1440x432 with 1 Axes>"
      ]
     },
     "metadata": {
      "needs_background": "light"
     },
     "output_type": "display_data"
    }
   ],
   "source": [
    "#fi_cs\n",
    "plt.figure(figsize=(20,6))\n",
    "train[train['overall_outcome']==1]['fi_cs'].hist(alpha=0.5,color='blue',\n",
    "                                              bins=15,label='Outcome=1')\n",
    "train[train['overall_outcome']==0]['fi_cs'].hist(alpha=0.5,color='red',\n",
    "                                              bins=15,label='Outcome=0')\n",
    "plt.legend()"
   ]
  },
  {
   "cell_type": "code",
   "execution_count": 73,
   "metadata": {},
   "outputs": [
    {
     "data": {
      "text/plain": [
       "<matplotlib.legend.Legend at 0x7efd32be4650>"
      ]
     },
     "execution_count": 73,
     "metadata": {},
     "output_type": "execute_result"
    },
    {
     "data": {
      "image/png": "[encoded data removed]",
      "text/plain": [
       "<Figure size 1440x432 with 1 Axes>"
      ]
     },
     "metadata": {
      "needs_background": "light"
     },
     "output_type": "display_data"
    }
   ],
   "source": [
    "#fi_ce\n",
    "plt.figure(figsize=(20,6))\n",
    "train[train['overall_outcome']==1]['fi_ce'].hist(alpha=0.5,color='blue',\n",
    "                                              bins=15,label='Outcome=1')\n",
    "train[train['overall_outcome']==0]['fi_ce'].hist(alpha=0.5,color='red',\n",
    "                                              bins=15,label='Outcome=0')\n",
    "plt.legend()"
   ]
  },
  {
   "cell_type": "code",
   "execution_count": 74,
   "metadata": {},
   "outputs": [],
   "source": [
    "train['nos_hc_per_patient']=train.groupby('Patient_ID')['Health_Camp_ID'].transform('nunique')\n",
    "train['nos_pat_per_health']=train.groupby('Health_Camp_ID')['Patient_ID'].transform('nunique')\n",
    "\n",
    "test['nos_hc_per_patient']=test.groupby('Patient_ID')['Health_Camp_ID'].transform('nunique')\n",
    "test['nos_pat_per_health']=test.groupby('Health_Camp_ID')['Patient_ID'].transform('nunique')"
   ]
  },
  {
   "cell_type": "code",
   "execution_count": 75,
   "metadata": {},
   "outputs": [
    {
     "data": {
      "text/plain": [
       "<matplotlib.legend.Legend at 0x7efd32f26a50>"
      ]
     },
     "execution_count": 75,
     "metadata": {},
     "output_type": "execute_result"
    },
    {
     "data": {
      "image/png": "[encoded data removed]",
      "text/plain": [
       "<Figure size 1440x432 with 1 Axes>"
      ]
     },
     "metadata": {
      "needs_background": "light"
     },
     "output_type": "display_data"
    }
   ],
   "source": [
    "#nos_hc_per_patient\n",
    "plt.figure(figsize=(20,6))\n",
    "train[train['overall_outcome']==1]['nos_hc_per_patient'].hist(alpha=0.5,color='blue',\n",
    "                                              bins=15,label='Outcome=1')\n",
    "train[train['overall_outcome']==0]['nos_hc_per_patient'].hist(alpha=0.5,color='red',\n",
    "                                              bins=15,label='Outcome=0')\n",
    "plt.legend()"
   ]
  },
  {
   "cell_type": "code",
   "execution_count": 76,
   "metadata": {},
   "outputs": [
    {
     "data": {
      "text/plain": [
       "<matplotlib.legend.Legend at 0x7efd329b7790>"
      ]
     },
     "execution_count": 76,
     "metadata": {},
     "output_type": "execute_result"
    },
    {
     "data": {
      "image/png": "[encoded data removed]",
      "text/plain": [
       "<Figure size 1440x432 with 1 Axes>"
      ]
     },
     "metadata": {
      "needs_background": "light"
     },
     "output_type": "display_data"
    }
   ],
   "source": [
    "#nos_pat_per_health\n",
    "plt.figure(figsize=(20,6))\n",
    "train[train['overall_outcome']==1]['nos_pat_per_health'].hist(alpha=0.5,color='blue',\n",
    "                                              bins=15,label='Outcome=1')\n",
    "train[train['overall_outcome']==0]['nos_pat_per_health'].hist(alpha=0.5,color='red',\n",
    "                                              bins=15,label='Outcome=0')\n",
    "plt.legend()"
   ]
  },
  {
   "cell_type": "code",
   "execution_count": 77,
   "metadata": {},
   "outputs": [],
   "source": [
    "corr_train=train.drop(['Registration_Date','Camp_Start_Date','Camp_End_Date','Patient_ID','Health_Camp_ID','First_Interaction','Employer_Category'],axis=1).corr()\n",
    "corr_train.reset_index(inplace=True)\n",
    "corr_train=corr_train[['index','overall_outcome']]\n",
    "corr_train['overall_outcome']=corr_train['overall_outcome'].apply(lambda x:abs(x))\n",
    "corr_train.sort_values(by='overall_outcome',ascending=False,inplace=True)"
   ]
  },
  {
   "cell_type": "code",
   "execution_count": 78,
   "metadata": {},
   "outputs": [
    {
     "data": {
      "text/plain": [
       "22                       G_cat2\n",
       "16                   Third_cat1\n",
       "15                  Second_cat1\n",
       "21                       F_cat2\n",
       "20                       E_cat2\n",
       "19                       D_cat2\n",
       "12                 Camp_End_Day\n",
       "53           nos_hc_per_patient\n",
       "46                    None_city\n",
       "51                        fi_cs\n",
       "50                     regis_fi\n",
       "37                     None_inc\n",
       "13             Camp_End_Quarter\n",
       "5          Registration_Quarter\n",
       "52                        fi_ce\n",
       "11               Camp_End_Month\n",
       "6            Registration_Month\n",
       "54           nos_pat_per_health\n",
       "4                          Var5\n",
       "30          Online_Interactions\n",
       "10           Camp_Start_Quarter\n",
       "29    First_Interaction_Quarter\n",
       "17                       B_cat2\n",
       "8              Camp_Start_Month\n",
       "0                          Var1\n",
       "48                     regis_cs\n",
       "Name: index, dtype: object"
      ]
     },
     "execution_count": 78,
     "metadata": {},
     "output_type": "execute_result"
    }
   ],
   "source": [
    "independent_variables=corr_train.iloc[1:len(corr_train)//2]['index'] #taking 50% of variables\n",
    "independent_variables"
   ]
  },
  {
   "cell_type": "markdown",
   "metadata": {},
   "source": [
    "#### Checking for multicollinearity"
   ]
  },
  {
   "cell_type": "code",
   "execution_count": 79,
   "metadata": {},
   "outputs": [],
   "source": [
    "def calc_vif(X):\n",
    "\n",
    "    # Calculating VIF\n",
    "    vif = pd.DataFrame()\n",
    "    vif[\"variables\"] = [independent_variables.iloc[i] for i in range(len(independent_variables))]\n",
    "    vif[\"VIF\"] = [variance_inflation_factor(X.values, i) for i in range(X.shape[1])]\n",
    "\n",
    "    return(vif)"
   ]
  },
  {
   "cell_type": "code",
   "execution_count": 80,
   "metadata": {},
   "outputs": [
    {
     "name": "stderr",
     "output_type": "stream",
     "text": [
      "/home/abishek/anaconda3/lib/python3.7/site-packages/statsmodels/stats/outliers_influence.py:193: RuntimeWarning: divide by zero encountered in double_scalars\n",
      "  vif = 1. / (1. - r_squared_i)\n"
     ]
    },
    {
     "data": {
      "text/html": [
       "<div>\n",
       "<style scoped>\n",
       "    .dataframe tbody tr th:only-of-type {\n",
       "        vertical-align: middle;\n",
       "    }\n",
       "\n",
       "    .dataframe tbody tr th {\n",
       "        vertical-align: top;\n",
       "    }\n",
       "\n",
       "    .dataframe thead th {\n",
       "        text-align: right;\n",
       "    }\n",
       "</style>\n",
       "<table border=\"1\" class=\"dataframe\">\n",
       "  <thead>\n",
       "    <tr style=\"text-align: right;\">\n",
       "      <th></th>\n",
       "      <th>variables</th>\n",
       "      <th>VIF</th>\n",
       "    </tr>\n",
       "  </thead>\n",
       "  <tbody>\n",
       "    <tr>\n",
       "      <th>0</th>\n",
       "      <td>G_cat2</td>\n",
       "      <td>inf</td>\n",
       "    </tr>\n",
       "    <tr>\n",
       "      <th>1</th>\n",
       "      <td>Third_cat1</td>\n",
       "      <td>inf</td>\n",
       "    </tr>\n",
       "    <tr>\n",
       "      <th>2</th>\n",
       "      <td>Second_cat1</td>\n",
       "      <td>6.429318</td>\n",
       "    </tr>\n",
       "    <tr>\n",
       "      <th>3</th>\n",
       "      <td>F_cat2</td>\n",
       "      <td>10.357439</td>\n",
       "    </tr>\n",
       "    <tr>\n",
       "      <th>4</th>\n",
       "      <td>E_cat2</td>\n",
       "      <td>12.984236</td>\n",
       "    </tr>\n",
       "    <tr>\n",
       "      <th>5</th>\n",
       "      <td>D_cat2</td>\n",
       "      <td>1.572269</td>\n",
       "    </tr>\n",
       "    <tr>\n",
       "      <th>6</th>\n",
       "      <td>Camp_End_Day</td>\n",
       "      <td>5.853848</td>\n",
       "    </tr>\n",
       "    <tr>\n",
       "      <th>7</th>\n",
       "      <td>nos_hc_per_patient</td>\n",
       "      <td>4.011204</td>\n",
       "    </tr>\n",
       "    <tr>\n",
       "      <th>8</th>\n",
       "      <td>None_city</td>\n",
       "      <td>2.522451</td>\n",
       "    </tr>\n",
       "    <tr>\n",
       "      <th>9</th>\n",
       "      <td>fi_cs</td>\n",
       "      <td>inf</td>\n",
       "    </tr>\n",
       "    <tr>\n",
       "      <th>10</th>\n",
       "      <td>regis_fi</td>\n",
       "      <td>inf</td>\n",
       "    </tr>\n",
       "    <tr>\n",
       "      <th>11</th>\n",
       "      <td>None_inc</td>\n",
       "      <td>5.915862</td>\n",
       "    </tr>\n",
       "    <tr>\n",
       "      <th>12</th>\n",
       "      <td>Camp_End_Quarter</td>\n",
       "      <td>341.881870</td>\n",
       "    </tr>\n",
       "    <tr>\n",
       "      <th>13</th>\n",
       "      <td>Registration_Quarter</td>\n",
       "      <td>122.991500</td>\n",
       "    </tr>\n",
       "    <tr>\n",
       "      <th>14</th>\n",
       "      <td>fi_ce</td>\n",
       "      <td>17.799829</td>\n",
       "    </tr>\n",
       "    <tr>\n",
       "      <th>15</th>\n",
       "      <td>Camp_End_Month</td>\n",
       "      <td>259.602472</td>\n",
       "    </tr>\n",
       "    <tr>\n",
       "      <th>16</th>\n",
       "      <td>Registration_Month</td>\n",
       "      <td>90.825685</td>\n",
       "    </tr>\n",
       "    <tr>\n",
       "      <th>17</th>\n",
       "      <td>nos_pat_per_health</td>\n",
       "      <td>17.746613</td>\n",
       "    </tr>\n",
       "    <tr>\n",
       "      <th>18</th>\n",
       "      <td>Var5</td>\n",
       "      <td>2.691559</td>\n",
       "    </tr>\n",
       "    <tr>\n",
       "      <th>19</th>\n",
       "      <td>Online_Interactions</td>\n",
       "      <td>1.376807</td>\n",
       "    </tr>\n",
       "    <tr>\n",
       "      <th>20</th>\n",
       "      <td>Camp_Start_Quarter</td>\n",
       "      <td>203.245104</td>\n",
       "    </tr>\n",
       "    <tr>\n",
       "      <th>21</th>\n",
       "      <td>First_Interaction_Quarter</td>\n",
       "      <td>6.992610</td>\n",
       "    </tr>\n",
       "    <tr>\n",
       "      <th>22</th>\n",
       "      <td>B_cat2</td>\n",
       "      <td>1.829441</td>\n",
       "    </tr>\n",
       "    <tr>\n",
       "      <th>23</th>\n",
       "      <td>Camp_Start_Month</td>\n",
       "      <td>145.650152</td>\n",
       "    </tr>\n",
       "    <tr>\n",
       "      <th>24</th>\n",
       "      <td>Var1</td>\n",
       "      <td>2.376202</td>\n",
       "    </tr>\n",
       "    <tr>\n",
       "      <th>25</th>\n",
       "      <td>regis_cs</td>\n",
       "      <td>inf</td>\n",
       "    </tr>\n",
       "  </tbody>\n",
       "</table>\n",
       "</div>"
      ],
      "text/plain": [
       "                    variables         VIF\n",
       "0                      G_cat2         inf\n",
       "1                  Third_cat1         inf\n",
       "2                 Second_cat1    6.429318\n",
       "3                      F_cat2   10.357439\n",
       "4                      E_cat2   12.984236\n",
       "5                      D_cat2    1.572269\n",
       "6                Camp_End_Day    5.853848\n",
       "7          nos_hc_per_patient    4.011204\n",
       "8                   None_city    2.522451\n",
       "9                       fi_cs         inf\n",
       "10                   regis_fi         inf\n",
       "11                   None_inc    5.915862\n",
       "12           Camp_End_Quarter  341.881870\n",
       "13       Registration_Quarter  122.991500\n",
       "14                      fi_ce   17.799829\n",
       "15             Camp_End_Month  259.602472\n",
       "16         Registration_Month   90.825685\n",
       "17         nos_pat_per_health   17.746613\n",
       "18                       Var5    2.691559\n",
       "19        Online_Interactions    1.376807\n",
       "20         Camp_Start_Quarter  203.245104\n",
       "21  First_Interaction_Quarter    6.992610\n",
       "22                     B_cat2    1.829441\n",
       "23           Camp_Start_Month  145.650152\n",
       "24                       Var1    2.376202\n",
       "25                   regis_cs         inf"
      ]
     },
     "execution_count": 80,
     "metadata": {},
     "output_type": "execute_result"
    }
   ],
   "source": [
    "calc_vif(train[independent_variables].dropna())"
   ]
  },
  {
   "cell_type": "markdown",
   "metadata": {},
   "source": [
    "#### Model Building 1 - Neural Networks"
   ]
  },
  {
   "cell_type": "code",
   "execution_count": 81,
   "metadata": {},
   "outputs": [],
   "source": [
    "from sklearn.preprocessing import StandardScaler\n",
    "from sklearn.model_selection import train_test_split\n",
    "import tensorflow as tf\n",
    "from tensorflow.keras.models import Sequential\n",
    "from tensorflow.keras.layers import Dense,Dropout\n",
    "from tensorflow.keras.callbacks import EarlyStopping\n",
    "from sklearn.metrics import roc_auc_score"
   ]
  },
  {
   "cell_type": "code",
   "execution_count": 82,
   "metadata": {},
   "outputs": [],
   "source": [
    "X=train[independent_variables]\n",
    "y=train['overall_outcome']"
   ]
  },
  {
   "cell_type": "code",
   "execution_count": 83,
   "metadata": {},
   "outputs": [
    {
     "name": "stdout",
     "output_type": "stream",
     "text": [
      "<class 'pandas.core.frame.DataFrame'>\n",
      "Int64Index: 74944 entries, 0 to 74943\n",
      "Data columns (total 26 columns):\n",
      " #   Column                     Non-Null Count  Dtype  \n",
      "---  ------                     --------------  -----  \n",
      " 0   G_cat2                     74944 non-null  uint8  \n",
      " 1   Third_cat1                 74944 non-null  uint8  \n",
      " 2   Second_cat1                74944 non-null  uint8  \n",
      " 3   F_cat2                     74944 non-null  uint8  \n",
      " 4   E_cat2                     74944 non-null  uint8  \n",
      " 5   D_cat2                     74944 non-null  uint8  \n",
      " 6   Camp_End_Day               74944 non-null  int64  \n",
      " 7   nos_hc_per_patient         74944 non-null  int64  \n",
      " 8   None_city                  74944 non-null  uint8  \n",
      " 9   fi_cs                      74944 non-null  float64\n",
      " 10  regis_fi                   74944 non-null  float64\n",
      " 11  None_inc                   74944 non-null  uint8  \n",
      " 12  Camp_End_Quarter           74944 non-null  int64  \n",
      " 13  Registration_Quarter       74944 non-null  int64  \n",
      " 14  fi_ce                      74944 non-null  float64\n",
      " 15  Camp_End_Month             74944 non-null  int64  \n",
      " 16  Registration_Month         74944 non-null  int64  \n",
      " 17  nos_pat_per_health         74944 non-null  int64  \n",
      " 18  Var5                       74944 non-null  int64  \n",
      " 19  Online_Interactions        74944 non-null  int64  \n",
      " 20  Camp_Start_Quarter         74944 non-null  int64  \n",
      " 21  First_Interaction_Quarter  74944 non-null  int64  \n",
      " 22  B_cat2                     74944 non-null  uint8  \n",
      " 23  Camp_Start_Month           74944 non-null  int64  \n",
      " 24  Var1                       74944 non-null  int64  \n",
      " 25  regis_cs                   74944 non-null  float64\n",
      "dtypes: float64(4), int64(13), uint8(9)\n",
      "memory usage: 10.9 MB\n"
     ]
    }
   ],
   "source": [
    "X.info()"
   ]
  },
  {
   "cell_type": "code",
   "execution_count": 84,
   "metadata": {},
   "outputs": [],
   "source": [
    "model = Sequential()\n",
    "\n",
    "# https://stats.stackexchange.com/questions/181/how-to-choose-the-number-of-hidden-layers-and-nodes-in-a-feedforward-neural-netw\n",
    "\n",
    "# input layer\n",
    "model.add(Dense(26,  activation='relu'))\n",
    "model.add(Dropout(0.5))\n",
    "\n",
    "# hidden layer\n",
    "model.add(Dense(13,activation='relu'))\n",
    "model.add(Dropout(0.5))\n",
    "\n",
    "# output layer\n",
    "model.add(Dense(units=1,activation='sigmoid'))\n",
    "\n",
    "# Compile model\n",
    "model.compile(loss='binary_crossentropy', optimizer='adam')"
   ]
  },
  {
   "cell_type": "code",
   "execution_count": 85,
   "metadata": {},
   "outputs": [],
   "source": [
    "early_stop = EarlyStopping(monitor='val_loss', mode='min', verbose=1, patience=10)"
   ]
  },
  {
   "cell_type": "code",
   "execution_count": 86,
   "metadata": {},
   "outputs": [
    {
     "name": "stdout",
     "output_type": "stream",
     "text": [
      "Epoch 1/500\n",
      "205/205 [==============================] - 1s 3ms/step - loss: 0.5610 - val_loss: 0.4695\n",
      "Epoch 2/500\n",
      "205/205 [==============================] - 1s 3ms/step - loss: 0.5063 - val_loss: 0.4499\n",
      "Epoch 3/500\n",
      "205/205 [==============================] - 1s 3ms/step - loss: 0.4885 - val_loss: 0.4448\n",
      "Epoch 4/500\n",
      "205/205 [==============================] - 1s 3ms/step - loss: 0.4780 - val_loss: 0.4404\n",
      "Epoch 5/500\n",
      "205/205 [==============================] - 1s 3ms/step - loss: 0.4735 - val_loss: 0.4364\n",
      "Epoch 6/500\n",
      "205/205 [==============================] - 1s 3ms/step - loss: 0.4705 - val_loss: 0.4377\n",
      "Epoch 7/500\n",
      "205/205 [==============================] - 1s 3ms/step - loss: 0.4658 - val_loss: 0.4335\n",
      "Epoch 8/500\n",
      "205/205 [==============================] - 1s 3ms/step - loss: 0.4644 - val_loss: 0.4318\n",
      "Epoch 9/500\n",
      "205/205 [==============================] - 1s 3ms/step - loss: 0.4629 - val_loss: 0.4311\n",
      "Epoch 10/500\n",
      "205/205 [==============================] - 1s 3ms/step - loss: 0.4625 - val_loss: 0.4290\n",
      "Epoch 11/500\n",
      "205/205 [==============================] - 1s 3ms/step - loss: 0.4594 - val_loss: 0.4285\n",
      "Epoch 12/500\n",
      "205/205 [==============================] - 1s 3ms/step - loss: 0.4585 - val_loss: 0.4265\n",
      "Epoch 13/500\n",
      "205/205 [==============================] - 1s 4ms/step - loss: 0.4585 - val_loss: 0.4261\n",
      "Epoch 14/500\n",
      "205/205 [==============================] - 1s 4ms/step - loss: 0.4556 - val_loss: 0.4255\n",
      "Epoch 15/500\n",
      "205/205 [==============================] - 1s 3ms/step - loss: 0.4545 - val_loss: 0.4240\n",
      "Epoch 16/500\n",
      "205/205 [==============================] - 1s 3ms/step - loss: 0.4545 - val_loss: 0.4228\n",
      "Epoch 17/500\n",
      "205/205 [==============================] - 1s 3ms/step - loss: 0.4546 - val_loss: 0.4240\n",
      "Epoch 18/500\n",
      "205/205 [==============================] - 1s 3ms/step - loss: 0.4535 - val_loss: 0.4213\n",
      "Epoch 19/500\n",
      "205/205 [==============================] - 1s 3ms/step - loss: 0.4525 - val_loss: 0.4210\n",
      "Epoch 20/500\n",
      "205/205 [==============================] - 1s 3ms/step - loss: 0.4530 - val_loss: 0.4199\n",
      "Epoch 21/500\n",
      "205/205 [==============================] - 1s 4ms/step - loss: 0.4518 - val_loss: 0.4204\n",
      "Epoch 22/500\n",
      "205/205 [==============================] - 1s 3ms/step - loss: 0.4523 - val_loss: 0.4204\n",
      "Epoch 23/500\n",
      "205/205 [==============================] - 1s 3ms/step - loss: 0.4510 - val_loss: 0.4186\n",
      "Epoch 24/500\n",
      "205/205 [==============================] - 1s 3ms/step - loss: 0.4522 - val_loss: 0.4188\n",
      "Epoch 25/500\n",
      "205/205 [==============================] - 1s 4ms/step - loss: 0.4500 - val_loss: 0.4202\n",
      "Epoch 26/500\n",
      "205/205 [==============================] - 1s 3ms/step - loss: 0.4491 - val_loss: 0.4189\n",
      "Epoch 27/500\n",
      "205/205 [==============================] - 1s 3ms/step - loss: 0.4500 - val_loss: 0.4175\n",
      "Epoch 28/500\n",
      "205/205 [==============================] - 1s 3ms/step - loss: 0.4510 - val_loss: 0.4171\n",
      "Epoch 29/500\n",
      "205/205 [==============================] - 1s 4ms/step - loss: 0.4495 - val_loss: 0.4169\n",
      "Epoch 30/500\n",
      "205/205 [==============================] - 1s 3ms/step - loss: 0.4488 - val_loss: 0.4181\n",
      "Epoch 31/500\n",
      "205/205 [==============================] - 1s 3ms/step - loss: 0.4474 - val_loss: 0.4163\n",
      "Epoch 32/500\n",
      "205/205 [==============================] - 1s 3ms/step - loss: 0.4488 - val_loss: 0.4168\n",
      "Epoch 33/500\n",
      "205/205 [==============================] - 1s 3ms/step - loss: 0.4472 - val_loss: 0.4158\n",
      "Epoch 34/500\n",
      "205/205 [==============================] - 1s 3ms/step - loss: 0.4480 - val_loss: 0.4158\n",
      "Epoch 35/500\n",
      "205/205 [==============================] - 1s 3ms/step - loss: 0.4506 - val_loss: 0.4158\n",
      "Epoch 36/500\n",
      "205/205 [==============================] - 1s 3ms/step - loss: 0.4466 - val_loss: 0.4151\n",
      "Epoch 37/500\n",
      "205/205 [==============================] - 1s 3ms/step - loss: 0.4476 - val_loss: 0.4161\n",
      "Epoch 38/500\n",
      "205/205 [==============================] - 1s 4ms/step - loss: 0.4475 - val_loss: 0.4156\n",
      "Epoch 39/500\n",
      "205/205 [==============================] - 1s 4ms/step - loss: 0.4481 - val_loss: 0.4143\n",
      "Epoch 40/500\n",
      "205/205 [==============================] - 1s 4ms/step - loss: 0.4473 - val_loss: 0.4137\n",
      "Epoch 41/500\n",
      "205/205 [==============================] - 1s 3ms/step - loss: 0.4464 - val_loss: 0.4143\n",
      "Epoch 42/500\n",
      "205/205 [==============================] - 1s 3ms/step - loss: 0.4465 - val_loss: 0.4137\n",
      "Epoch 43/500\n",
      "205/205 [==============================] - 1s 3ms/step - loss: 0.4455 - val_loss: 0.4136\n",
      "Epoch 44/500\n",
      "205/205 [==============================] - 1s 3ms/step - loss: 0.4464 - val_loss: 0.4139\n",
      "Epoch 45/500\n",
      "205/205 [==============================] - 1s 3ms/step - loss: 0.4466 - val_loss: 0.4140\n",
      "Epoch 46/500\n",
      "205/205 [==============================] - 1s 3ms/step - loss: 0.4448 - val_loss: 0.4131\n",
      "Epoch 47/500\n",
      "205/205 [==============================] - 1s 3ms/step - loss: 0.4442 - val_loss: 0.4125\n",
      "Epoch 48/500\n",
      "205/205 [==============================] - 1s 3ms/step - loss: 0.4449 - val_loss: 0.4124\n",
      "Epoch 49/500\n",
      "205/205 [==============================] - 1s 3ms/step - loss: 0.4441 - val_loss: 0.4127\n",
      "Epoch 50/500\n",
      "205/205 [==============================] - 1s 3ms/step - loss: 0.4431 - val_loss: 0.4116\n",
      "Epoch 51/500\n",
      "205/205 [==============================] - 1s 3ms/step - loss: 0.4455 - val_loss: 0.4134\n",
      "Epoch 52/500\n",
      "205/205 [==============================] - 1s 3ms/step - loss: 0.4447 - val_loss: 0.4121\n",
      "Epoch 53/500\n",
      "205/205 [==============================] - 1s 3ms/step - loss: 0.4449 - val_loss: 0.4117\n",
      "Epoch 54/500\n",
      "205/205 [==============================] - 1s 3ms/step - loss: 0.4436 - val_loss: 0.4111\n",
      "Epoch 55/500\n",
      "205/205 [==============================] - 1s 3ms/step - loss: 0.4442 - val_loss: 0.4117\n",
      "Epoch 56/500\n",
      "205/205 [==============================] - 1s 3ms/step - loss: 0.4457 - val_loss: 0.4122\n",
      "Epoch 57/500\n",
      "205/205 [==============================] - 1s 3ms/step - loss: 0.4454 - val_loss: 0.4116\n",
      "Epoch 58/500\n",
      "205/205 [==============================] - 1s 3ms/step - loss: 0.4441 - val_loss: 0.4110\n",
      "Epoch 59/500\n",
      "205/205 [==============================] - 1s 3ms/step - loss: 0.4430 - val_loss: 0.4104\n",
      "Epoch 60/500\n",
      "205/205 [==============================] - 1s 3ms/step - loss: 0.4433 - val_loss: 0.4105\n",
      "Epoch 61/500\n",
      "205/205 [==============================] - 1s 3ms/step - loss: 0.4447 - val_loss: 0.4104\n",
      "Epoch 62/500\n",
      "205/205 [==============================] - 1s 3ms/step - loss: 0.4432 - val_loss: 0.4111\n",
      "Epoch 63/500\n",
      "205/205 [==============================] - 1s 3ms/step - loss: 0.4447 - val_loss: 0.4125\n",
      "Epoch 64/500\n",
      "205/205 [==============================] - 1s 3ms/step - loss: 0.4427 - val_loss: 0.4094\n",
      "Epoch 65/500\n",
      "205/205 [==============================] - 1s 3ms/step - loss: 0.4434 - val_loss: 0.4106\n",
      "Epoch 66/500\n",
      "205/205 [==============================] - 1s 3ms/step - loss: 0.4441 - val_loss: 0.4100\n",
      "Epoch 67/500\n",
      "205/205 [==============================] - 1s 3ms/step - loss: 0.4435 - val_loss: 0.4099\n",
      "Epoch 68/500\n",
      "205/205 [==============================] - 1s 3ms/step - loss: 0.4442 - val_loss: 0.4098\n",
      "Epoch 69/500\n",
      "205/205 [==============================] - 1s 3ms/step - loss: 0.4426 - val_loss: 0.4108\n",
      "Epoch 70/500\n",
      "205/205 [==============================] - 1s 3ms/step - loss: 0.4434 - val_loss: 0.4100\n",
      "Epoch 71/500\n",
      "205/205 [==============================] - 1s 3ms/step - loss: 0.4446 - val_loss: 0.4112\n",
      "Epoch 72/500\n",
      "205/205 [==============================] - 1s 3ms/step - loss: 0.4440 - val_loss: 0.4109\n",
      "Epoch 73/500\n",
      "205/205 [==============================] - 1s 3ms/step - loss: 0.4426 - val_loss: 0.4101\n",
      "Epoch 74/500\n",
      "205/205 [==============================] - 1s 3ms/step - loss: 0.4412 - val_loss: 0.4089\n",
      "Epoch 75/500\n",
      "205/205 [==============================] - 1s 3ms/step - loss: 0.4424 - val_loss: 0.4099\n",
      "Epoch 76/500\n",
      "205/205 [==============================] - 1s 3ms/step - loss: 0.4419 - val_loss: 0.4100\n",
      "Epoch 77/500\n",
      "205/205 [==============================] - 1s 3ms/step - loss: 0.4434 - val_loss: 0.4095\n",
      "Epoch 78/500\n",
      "205/205 [==============================] - 1s 3ms/step - loss: 0.4428 - val_loss: 0.4107\n",
      "Epoch 79/500\n",
      "205/205 [==============================] - 1s 3ms/step - loss: 0.4429 - val_loss: 0.4093\n",
      "Epoch 80/500\n",
      "205/205 [==============================] - 1s 3ms/step - loss: 0.4431 - val_loss: 0.4092\n",
      "Epoch 81/500\n",
      "205/205 [==============================] - 1s 3ms/step - loss: 0.4421 - val_loss: 0.4088\n",
      "Epoch 82/500\n",
      "205/205 [==============================] - 1s 3ms/step - loss: 0.4430 - val_loss: 0.4088\n",
      "Epoch 83/500\n",
      "205/205 [==============================] - 1s 3ms/step - loss: 0.4428 - val_loss: 0.4103\n",
      "Epoch 84/500\n",
      "205/205 [==============================] - 1s 3ms/step - loss: 0.4435 - val_loss: 0.4085\n",
      "Epoch 85/500\n",
      "205/205 [==============================] - 1s 3ms/step - loss: 0.4429 - val_loss: 0.4085\n",
      "Epoch 86/500\n",
      "205/205 [==============================] - 1s 3ms/step - loss: 0.4425 - val_loss: 0.4091\n",
      "Epoch 87/500\n",
      "205/205 [==============================] - 1s 3ms/step - loss: 0.4410 - val_loss: 0.4086\n",
      "Epoch 88/500\n",
      "205/205 [==============================] - 1s 3ms/step - loss: 0.4441 - val_loss: 0.4091\n",
      "Epoch 89/500\n",
      "205/205 [==============================] - 1s 4ms/step - loss: 0.4422 - val_loss: 0.4087\n",
      "Epoch 90/500\n",
      "205/205 [==============================] - 1s 3ms/step - loss: 0.4423 - val_loss: 0.4093\n",
      "Epoch 91/500\n",
      "205/205 [==============================] - 1s 3ms/step - loss: 0.4418 - val_loss: 0.4086\n",
      "Epoch 92/500\n",
      "205/205 [==============================] - 1s 3ms/step - loss: 0.4427 - val_loss: 0.4092\n",
      "Epoch 93/500\n",
      "205/205 [==============================] - 1s 3ms/step - loss: 0.4429 - val_loss: 0.4090\n",
      "Epoch 94/500\n",
      "205/205 [==============================] - 1s 3ms/step - loss: 0.4431 - val_loss: 0.4081\n",
      "Epoch 95/500\n",
      "205/205 [==============================] - 1s 4ms/step - loss: 0.4428 - val_loss: 0.4086\n",
      "Epoch 96/500\n",
      "205/205 [==============================] - 1s 3ms/step - loss: 0.4426 - val_loss: 0.4088\n",
      "Epoch 97/500\n",
      "205/205 [==============================] - 1s 3ms/step - loss: 0.4414 - val_loss: 0.4080\n",
      "Epoch 98/500\n",
      "205/205 [==============================] - 1s 3ms/step - loss: 0.4421 - val_loss: 0.4092\n",
      "Epoch 99/500\n",
      "205/205 [==============================] - 1s 3ms/step - loss: 0.4414 - val_loss: 0.4093\n",
      "Epoch 100/500\n",
      "205/205 [==============================] - 1s 3ms/step - loss: 0.4420 - val_loss: 0.4084\n",
      "Epoch 101/500\n",
      "205/205 [==============================] - 1s 3ms/step - loss: 0.4423 - val_loss: 0.4082\n",
      "Epoch 102/500\n",
      "205/205 [==============================] - 1s 3ms/step - loss: 0.4412 - val_loss: 0.4085\n",
      "Epoch 103/500\n",
      "205/205 [==============================] - 1s 3ms/step - loss: 0.4423 - val_loss: 0.4085\n",
      "Epoch 104/500\n",
      "205/205 [==============================] - 1s 4ms/step - loss: 0.4413 - val_loss: 0.4089\n",
      "Epoch 105/500\n",
      "205/205 [==============================] - 1s 3ms/step - loss: 0.4413 - val_loss: 0.4093\n",
      "Epoch 106/500\n",
      "205/205 [==============================] - 1s 3ms/step - loss: 0.4431 - val_loss: 0.4078\n",
      "Epoch 107/500\n",
      "205/205 [==============================] - 1s 3ms/step - loss: 0.4430 - val_loss: 0.4076\n",
      "Epoch 108/500\n",
      "205/205 [==============================] - 1s 3ms/step - loss: 0.4393 - val_loss: 0.4068\n",
      "Epoch 109/500\n",
      "205/205 [==============================] - 1s 3ms/step - loss: 0.4418 - val_loss: 0.4090\n",
      "Epoch 110/500\n",
      "205/205 [==============================] - 1s 3ms/step - loss: 0.4413 - val_loss: 0.4083\n",
      "Epoch 111/500\n",
      "205/205 [==============================] - 1s 3ms/step - loss: 0.4432 - val_loss: 0.4099\n",
      "Epoch 112/500\n",
      "205/205 [==============================] - 1s 3ms/step - loss: 0.4407 - val_loss: 0.4081\n",
      "Epoch 113/500\n",
      "205/205 [==============================] - 1s 3ms/step - loss: 0.4407 - val_loss: 0.4078\n",
      "Epoch 114/500\n",
      "205/205 [==============================] - 1s 3ms/step - loss: 0.4408 - val_loss: 0.4081\n",
      "Epoch 115/500\n",
      "205/205 [==============================] - 1s 3ms/step - loss: 0.4414 - val_loss: 0.4083\n",
      "Epoch 116/500\n",
      "205/205 [==============================] - 1s 3ms/step - loss: 0.4415 - val_loss: 0.4082\n",
      "Epoch 117/500\n",
      "205/205 [==============================] - 1s 3ms/step - loss: 0.4419 - val_loss: 0.4090\n",
      "Epoch 118/500\n",
      "205/205 [==============================] - 1s 3ms/step - loss: 0.4407 - val_loss: 0.4083\n",
      "Epoch 00118: early stopping\n"
     ]
    },
    {
     "data": {
      "text/plain": [
       "<tensorflow.python.keras.callbacks.History at 0x7efd1008d310>"
      ]
     },
     "execution_count": 86,
     "metadata": {},
     "output_type": "execute_result"
    }
   ],
   "source": [
    "X_train, X_test, y_train, y_test = train_test_split(X, y, test_size=0.30, random_state=101)\n",
    "scaler = StandardScaler()\n",
    "X_train = scaler.fit_transform(X_train)\n",
    "X_test = scaler.transform(X_test)\n",
    "model.fit(x=X_train, \n",
    "          y=y_train, \n",
    "          epochs=500,\n",
    "          batch_size=256,\n",
    "          validation_data=(X_test, y_test),\n",
    "          callbacks=[early_stop],\n",
    "          verbose=1\n",
    "          )"
   ]
  },
  {
   "cell_type": "markdown",
   "metadata": {},
   "source": [
    "#### Model Accuracy Checks"
   ]
  },
  {
   "cell_type": "code",
   "execution_count": 87,
   "metadata": {},
   "outputs": [
    {
     "data": {
      "text/plain": [
       "<matplotlib.axes._subplots.AxesSubplot at 0x7efd110f7fd0>"
      ]
     },
     "execution_count": 87,
     "metadata": {},
     "output_type": "execute_result"
    },
    {
     "data": {
      "image/png": "[encoded data removed]",
      "text/plain": [
       "<Figure size 432x288 with 1 Axes>"
      ]
     },
     "metadata": {
      "needs_background": "light"
     },
     "output_type": "display_data"
    }
   ],
   "source": [
    "model_loss = pd.DataFrame(model.history.history)\n",
    "model_loss.plot()"
   ]
  },
  {
   "cell_type": "code",
   "execution_count": 88,
   "metadata": {},
   "outputs": [
    {
     "name": "stdout",
     "output_type": "stream",
     "text": [
      "WARNING:tensorflow:From <ipython-input-88-8479de99c91c>:1: Sequential.predict_proba (from tensorflow.python.keras.engine.sequential) is deprecated and will be removed after 2021-01-01.\n",
      "Instructions for updating:\n",
      "Please use `model.predict()` instead.\n"
     ]
    }
   ],
   "source": [
    "predictions = model.predict_proba(X_test)"
   ]
  },
  {
   "cell_type": "code",
   "execution_count": 89,
   "metadata": {},
   "outputs": [
    {
     "data": {
      "text/plain": [
       "0.8583301596706272"
      ]
     },
     "execution_count": 89,
     "metadata": {},
     "output_type": "execute_result"
    }
   ],
   "source": [
    "roc_auc_score(y_test, predictions)"
   ]
  },
  {
   "cell_type": "code",
   "execution_count": 90,
   "metadata": {},
   "outputs": [
    {
     "data": {
      "text/plain": [
       "<matplotlib.axes._subplots.AxesSubplot at 0x7efcbc2bd1d0>"
      ]
     },
     "execution_count": 90,
     "metadata": {},
     "output_type": "execute_result"
    },
    {
     "data": {
      "image/png": "[encoded data removed]",
      "text/plain": [
       "<Figure size 432x288 with 1 Axes>"
      ]
     },
     "metadata": {
      "needs_background": "light"
     },
     "output_type": "display_data"
    }
   ],
   "source": [
    "sns.distplot(predictions,kde=False)"
   ]
  },
  {
   "cell_type": "markdown",
   "metadata": {},
   "source": [
    "#### Checking On Test Data"
   ]
  },
  {
   "cell_type": "code",
   "execution_count": 91,
   "metadata": {},
   "outputs": [],
   "source": [
    "test_scaled=scaler.transform(test[independent_variables])"
   ]
  },
  {
   "cell_type": "code",
   "execution_count": 92,
   "metadata": {},
   "outputs": [],
   "source": [
    "predictions = model.predict_proba(test_scaled)"
   ]
  },
  {
   "cell_type": "code",
   "execution_count": 93,
   "metadata": {},
   "outputs": [],
   "source": [
    "test['Outcome']=predictions"
   ]
  },
  {
   "cell_type": "code",
   "execution_count": 94,
   "metadata": {},
   "outputs": [],
   "source": [
    "output=test[['Patient_ID','Health_Camp_ID','Outcome']]"
   ]
  },
  {
   "cell_type": "code",
   "execution_count": 95,
   "metadata": {},
   "outputs": [],
   "source": [
    "output.to_csv('nn.csv',index=False)"
   ]
  },
  {
   "cell_type": "markdown",
   "metadata": {},
   "source": [
    "#### Creating Blended Model"
   ]
  },
  {
   "cell_type": "code",
   "execution_count": 96,
   "metadata": {},
   "outputs": [
    {
     "name": "stdout",
     "output_type": "stream",
     "text": [
      "1\n",
      "Epoch 1/500\n",
      "205/205 [==============================] - 1s 3ms/step - loss: 0.4387 - val_loss: 0.4143\n",
      "Epoch 2/500\n",
      "205/205 [==============================] - 1s 3ms/step - loss: 0.4387 - val_loss: 0.4143\n",
      "Epoch 3/500\n",
      "205/205 [==============================] - 1s 3ms/step - loss: 0.4391 - val_loss: 0.4138\n",
      "Epoch 4/500\n",
      "205/205 [==============================] - 1s 3ms/step - loss: 0.4403 - val_loss: 0.4137\n",
      "Epoch 5/500\n",
      "205/205 [==============================] - 1s 3ms/step - loss: 0.4385 - val_loss: 0.4145\n",
      "Epoch 6/500\n",
      "205/205 [==============================] - 1s 3ms/step - loss: 0.4361 - val_loss: 0.4136\n",
      "Epoch 7/500\n",
      "205/205 [==============================] - 1s 3ms/step - loss: 0.4381 - val_loss: 0.4145\n",
      "Epoch 8/500\n",
      "205/205 [==============================] - 1s 3ms/step - loss: 0.4379 - val_loss: 0.4149\n",
      "Epoch 9/500\n",
      "205/205 [==============================] - 1s 3ms/step - loss: 0.4392 - val_loss: 0.4152\n",
      "Epoch 10/500\n",
      "205/205 [==============================] - 1s 3ms/step - loss: 0.4396 - val_loss: 0.4149\n",
      "Epoch 11/500\n",
      "205/205 [==============================] - 1s 3ms/step - loss: 0.4376 - val_loss: 0.4141\n",
      "Epoch 12/500\n",
      "205/205 [==============================] - 1s 3ms/step - loss: 0.4383 - val_loss: 0.4146\n",
      "Epoch 13/500\n",
      "205/205 [==============================] - 1s 3ms/step - loss: 0.4383 - val_loss: 0.4143\n",
      "Epoch 14/500\n",
      "205/205 [==============================] - 1s 3ms/step - loss: 0.4398 - val_loss: 0.4153\n",
      "Epoch 15/500\n",
      "205/205 [==============================] - 1s 3ms/step - loss: 0.4368 - val_loss: 0.4158\n",
      "Epoch 16/500\n",
      "205/205 [==============================] - 1s 3ms/step - loss: 0.4385 - val_loss: 0.4148\n",
      "Epoch 00016: early stopping\n",
      "3\n",
      "Epoch 1/500\n",
      "205/205 [==============================] - 1s 3ms/step - loss: 0.4393 - val_loss: 0.4142\n",
      "Epoch 2/500\n",
      "205/205 [==============================] - 1s 3ms/step - loss: 0.4388 - val_loss: 0.4140\n",
      "Epoch 3/500\n",
      "205/205 [==============================] - 1s 3ms/step - loss: 0.4398 - val_loss: 0.4139\n",
      "Epoch 4/500\n",
      "205/205 [==============================] - 1s 3ms/step - loss: 0.4377 - val_loss: 0.4134\n",
      "Epoch 5/500\n",
      "205/205 [==============================] - 1s 3ms/step - loss: 0.4387 - val_loss: 0.4123\n",
      "Epoch 6/500\n",
      "205/205 [==============================] - 1s 3ms/step - loss: 0.4399 - val_loss: 0.4138\n",
      "Epoch 7/500\n",
      "205/205 [==============================] - 1s 3ms/step - loss: 0.4387 - val_loss: 0.4135\n",
      "Epoch 8/500\n",
      "205/205 [==============================] - 1s 5ms/step - loss: 0.4377 - val_loss: 0.4128\n",
      "Epoch 9/500\n",
      "205/205 [==============================] - 1s 4ms/step - loss: 0.4366 - val_loss: 0.4133\n",
      "Epoch 10/500\n",
      "205/205 [==============================] - 1s 3ms/step - loss: 0.4383 - val_loss: 0.4134\n",
      "Epoch 11/500\n",
      "205/205 [==============================] - 1s 3ms/step - loss: 0.4376 - val_loss: 0.4133\n",
      "Epoch 12/500\n",
      "205/205 [==============================] - 1s 4ms/step - loss: 0.4370 - val_loss: 0.4142\n",
      "Epoch 13/500\n",
      "205/205 [==============================] - 1s 3ms/step - loss: 0.4397 - val_loss: 0.4144\n",
      "Epoch 14/500\n",
      "205/205 [==============================] - 1s 3ms/step - loss: 0.4392 - val_loss: 0.4134\n",
      "Epoch 15/500\n",
      "205/205 [==============================] - 1s 4ms/step - loss: 0.4376 - val_loss: 0.4145\n",
      "Epoch 00015: early stopping\n",
      "10\n",
      "Epoch 1/500\n",
      "205/205 [==============================] - 1s 3ms/step - loss: 0.4380 - val_loss: 0.4165\n",
      "Epoch 2/500\n",
      "205/205 [==============================] - 1s 3ms/step - loss: 0.4390 - val_loss: 0.4156\n",
      "Epoch 3/500\n",
      "205/205 [==============================] - 1s 3ms/step - loss: 0.4372 - val_loss: 0.4145\n",
      "Epoch 4/500\n",
      "205/205 [==============================] - 1s 3ms/step - loss: 0.4376 - val_loss: 0.4149\n",
      "Epoch 5/500\n",
      "205/205 [==============================] - 1s 3ms/step - loss: 0.4377 - val_loss: 0.4144\n",
      "Epoch 6/500\n",
      "205/205 [==============================] - 1s 3ms/step - loss: 0.4381 - val_loss: 0.4146\n",
      "Epoch 7/500\n",
      "205/205 [==============================] - 1s 3ms/step - loss: 0.4382 - val_loss: 0.4145\n",
      "Epoch 8/500\n",
      "205/205 [==============================] - 1s 3ms/step - loss: 0.4378 - val_loss: 0.4158\n",
      "Epoch 9/500\n",
      "205/205 [==============================] - 1s 3ms/step - loss: 0.4376 - val_loss: 0.4151\n",
      "Epoch 10/500\n",
      "205/205 [==============================] - 1s 3ms/step - loss: 0.4366 - val_loss: 0.4152\n",
      "Epoch 11/500\n",
      "205/205 [==============================] - 1s 3ms/step - loss: 0.4362 - val_loss: 0.4172\n",
      "Epoch 12/500\n",
      "205/205 [==============================] - 1s 3ms/step - loss: 0.4378 - val_loss: 0.4140\n",
      "Epoch 13/500\n",
      "205/205 [==============================] - 1s 3ms/step - loss: 0.4380 - val_loss: 0.4152\n",
      "Epoch 14/500\n",
      "205/205 [==============================] - 1s 3ms/step - loss: 0.4382 - val_loss: 0.4150\n",
      "Epoch 15/500\n",
      "205/205 [==============================] - 1s 3ms/step - loss: 0.4368 - val_loss: 0.4161\n",
      "Epoch 16/500\n",
      "205/205 [==============================] - 1s 4ms/step - loss: 0.4385 - val_loss: 0.4149\n",
      "Epoch 17/500\n",
      "205/205 [==============================] - 1s 4ms/step - loss: 0.4378 - val_loss: 0.4159\n",
      "Epoch 18/500\n",
      "205/205 [==============================] - 1s 3ms/step - loss: 0.4383 - val_loss: 0.4156\n",
      "Epoch 19/500\n",
      "205/205 [==============================] - 1s 3ms/step - loss: 0.4382 - val_loss: 0.4149\n",
      "Epoch 20/500\n",
      "205/205 [==============================] - 1s 3ms/step - loss: 0.4389 - val_loss: 0.4154\n",
      "Epoch 21/500\n",
      "205/205 [==============================] - 1s 3ms/step - loss: 0.4368 - val_loss: 0.4157\n",
      "Epoch 22/500\n",
      "205/205 [==============================] - 1s 2ms/step - loss: 0.4365 - val_loss: 0.4157\n",
      "Epoch 00022: early stopping\n",
      "15\n",
      "Epoch 1/500\n",
      "205/205 [==============================] - 1s 4ms/step - loss: 0.4403 - val_loss: 0.4099\n",
      "Epoch 2/500\n",
      "205/205 [==============================] - 1s 4ms/step - loss: 0.4385 - val_loss: 0.4098\n",
      "Epoch 3/500\n",
      "205/205 [==============================] - 1s 4ms/step - loss: 0.4384 - val_loss: 0.4095\n",
      "Epoch 4/500\n",
      "205/205 [==============================] - 1s 4ms/step - loss: 0.4395 - val_loss: 0.4102\n",
      "Epoch 5/500\n",
      "205/205 [==============================] - 1s 3ms/step - loss: 0.4403 - val_loss: 0.4107\n",
      "Epoch 6/500\n",
      "205/205 [==============================] - 1s 3ms/step - loss: 0.4399 - val_loss: 0.4106\n",
      "Epoch 7/500\n",
      "205/205 [==============================] - 1s 3ms/step - loss: 0.4381 - val_loss: 0.4101\n",
      "Epoch 8/500\n",
      "205/205 [==============================] - 1s 3ms/step - loss: 0.4394 - val_loss: 0.4105\n",
      "Epoch 9/500\n",
      "205/205 [==============================] - 1s 3ms/step - loss: 0.4392 - val_loss: 0.4112\n",
      "Epoch 10/500\n",
      "205/205 [==============================] - 1s 3ms/step - loss: 0.4392 - val_loss: 0.4103\n",
      "Epoch 11/500\n",
      "205/205 [==============================] - 1s 3ms/step - loss: 0.4382 - val_loss: 0.4107\n",
      "Epoch 12/500\n",
      "205/205 [==============================] - 1s 4ms/step - loss: 0.4393 - val_loss: 0.4114\n",
      "Epoch 13/500\n",
      "205/205 [==============================] - 1s 3ms/step - loss: 0.4388 - val_loss: 0.4116\n",
      "Epoch 00013: early stopping\n",
      "20\n",
      "Epoch 1/500\n",
      "205/205 [==============================] - 1s 3ms/step - loss: 0.4385 - val_loss: 0.4090\n",
      "Epoch 2/500\n",
      "205/205 [==============================] - 1s 3ms/step - loss: 0.4407 - val_loss: 0.4117\n",
      "Epoch 3/500\n",
      "205/205 [==============================] - 1s 3ms/step - loss: 0.4390 - val_loss: 0.4099\n",
      "Epoch 4/500\n",
      "205/205 [==============================] - 1s 3ms/step - loss: 0.4387 - val_loss: 0.4093\n",
      "Epoch 5/500\n",
      "205/205 [==============================] - 1s 4ms/step - loss: 0.4392 - val_loss: 0.4100\n",
      "Epoch 6/500\n",
      "205/205 [==============================] - 1s 3ms/step - loss: 0.4405 - val_loss: 0.4106\n",
      "Epoch 7/500\n",
      "205/205 [==============================] - 1s 3ms/step - loss: 0.4394 - val_loss: 0.4102\n",
      "Epoch 8/500\n",
      "205/205 [==============================] - 1s 3ms/step - loss: 0.4394 - val_loss: 0.4095\n",
      "Epoch 9/500\n",
      "205/205 [==============================] - 1s 3ms/step - loss: 0.4395 - val_loss: 0.4100\n",
      "Epoch 10/500\n",
      "205/205 [==============================] - 1s 3ms/step - loss: 0.4385 - val_loss: 0.4104\n",
      "Epoch 11/500\n",
      "205/205 [==============================] - 1s 3ms/step - loss: 0.4400 - val_loss: 0.4108\n",
      "Epoch 00011: early stopping\n",
      "33\n",
      "Epoch 1/500\n",
      "205/205 [==============================] - 1s 3ms/step - loss: 0.4352 - val_loss: 0.4134\n",
      "Epoch 2/500\n",
      "205/205 [==============================] - 1s 3ms/step - loss: 0.4369 - val_loss: 0.4153\n",
      "Epoch 3/500\n",
      "205/205 [==============================] - 1s 3ms/step - loss: 0.4377 - val_loss: 0.4139\n",
      "Epoch 4/500\n",
      "205/205 [==============================] - 1s 3ms/step - loss: 0.4393 - val_loss: 0.4149\n",
      "Epoch 5/500\n",
      "205/205 [==============================] - 1s 3ms/step - loss: 0.4369 - val_loss: 0.4145\n",
      "Epoch 6/500\n",
      "205/205 [==============================] - 1s 3ms/step - loss: 0.4363 - val_loss: 0.4154\n",
      "Epoch 7/500\n",
      "205/205 [==============================] - 1s 3ms/step - loss: 0.4394 - val_loss: 0.4149\n",
      "Epoch 8/500\n",
      "205/205 [==============================] - 1s 3ms/step - loss: 0.4371 - val_loss: 0.4148\n",
      "Epoch 9/500\n",
      "205/205 [==============================] - 1s 3ms/step - loss: 0.4367 - val_loss: 0.4138\n",
      "Epoch 10/500\n",
      "205/205 [==============================] - 1s 3ms/step - loss: 0.4364 - val_loss: 0.4141\n",
      "Epoch 11/500\n",
      "205/205 [==============================] - 1s 4ms/step - loss: 0.4378 - val_loss: 0.4158\n",
      "Epoch 00011: early stopping\n",
      "333\n",
      "Epoch 1/500\n",
      "205/205 [==============================] - 1s 3ms/step - loss: 0.4408 - val_loss: 0.4082\n",
      "Epoch 2/500\n",
      "205/205 [==============================] - 1s 3ms/step - loss: 0.4398 - val_loss: 0.4090\n",
      "Epoch 3/500\n",
      "205/205 [==============================] - 1s 3ms/step - loss: 0.4401 - val_loss: 0.4083\n",
      "Epoch 4/500\n",
      "205/205 [==============================] - 1s 3ms/step - loss: 0.4407 - val_loss: 0.4104\n",
      "Epoch 5/500\n",
      "205/205 [==============================] - 1s 4ms/step - loss: 0.4395 - val_loss: 0.4079\n",
      "Epoch 6/500\n",
      "205/205 [==============================] - 1s 3ms/step - loss: 0.4396 - val_loss: 0.4090\n",
      "Epoch 7/500\n",
      "205/205 [==============================] - 1s 3ms/step - loss: 0.4396 - val_loss: 0.4079\n",
      "Epoch 8/500\n",
      "205/205 [==============================] - 1s 3ms/step - loss: 0.4394 - val_loss: 0.4086\n",
      "Epoch 9/500\n",
      "205/205 [==============================] - 1s 3ms/step - loss: 0.4416 - val_loss: 0.4087\n",
      "Epoch 10/500\n",
      "205/205 [==============================] - 1s 3ms/step - loss: 0.4393 - val_loss: 0.4075\n",
      "Epoch 11/500\n",
      "205/205 [==============================] - 1s 3ms/step - loss: 0.4408 - val_loss: 0.4094\n",
      "Epoch 12/500\n",
      "205/205 [==============================] - 1s 3ms/step - loss: 0.4381 - val_loss: 0.4085\n",
      "Epoch 13/500\n",
      "205/205 [==============================] - 1s 3ms/step - loss: 0.4418 - val_loss: 0.4082\n",
      "Epoch 14/500\n",
      "205/205 [==============================] - 1s 3ms/step - loss: 0.4394 - val_loss: 0.4073\n",
      "Epoch 15/500\n",
      "205/205 [==============================] - 1s 4ms/step - loss: 0.4393 - val_loss: 0.4089\n",
      "Epoch 16/500\n",
      "205/205 [==============================] - 1s 3ms/step - loss: 0.4412 - val_loss: 0.4074\n",
      "Epoch 17/500\n",
      "205/205 [==============================] - 1s 3ms/step - loss: 0.4375 - val_loss: 0.4083\n",
      "Epoch 18/500\n",
      "205/205 [==============================] - 1s 3ms/step - loss: 0.4388 - val_loss: 0.4080\n",
      "Epoch 19/500\n",
      "205/205 [==============================] - 1s 3ms/step - loss: 0.4397 - val_loss: 0.4095\n",
      "Epoch 20/500\n",
      "205/205 [==============================] - 1s 3ms/step - loss: 0.4389 - val_loss: 0.4080\n",
      "Epoch 21/500\n",
      "205/205 [==============================] - 1s 3ms/step - loss: 0.4393 - val_loss: 0.4093\n",
      "Epoch 22/500\n",
      "205/205 [==============================] - 1s 3ms/step - loss: 0.4403 - val_loss: 0.4091\n",
      "Epoch 23/500\n",
      "205/205 [==============================] - 1s 3ms/step - loss: 0.4398 - val_loss: 0.4077\n",
      "Epoch 24/500\n",
      "205/205 [==============================] - 1s 3ms/step - loss: 0.4392 - val_loss: 0.4085\n",
      "Epoch 00024: early stopping\n",
      "1997\n",
      "Epoch 1/500\n",
      "205/205 [==============================] - 1s 3ms/step - loss: 0.4371 - val_loss: 0.4133\n",
      "Epoch 2/500\n",
      "205/205 [==============================] - 1s 3ms/step - loss: 0.4379 - val_loss: 0.4133\n",
      "Epoch 3/500\n",
      "205/205 [==============================] - 1s 3ms/step - loss: 0.4368 - val_loss: 0.4138\n",
      "Epoch 4/500\n",
      "205/205 [==============================] - 1s 3ms/step - loss: 0.4372 - val_loss: 0.4133\n",
      "Epoch 5/500\n",
      "205/205 [==============================] - 1s 3ms/step - loss: 0.4384 - val_loss: 0.4132\n",
      "Epoch 6/500\n",
      "205/205 [==============================] - 1s 3ms/step - loss: 0.4363 - val_loss: 0.4134\n",
      "Epoch 7/500\n",
      "205/205 [==============================] - 1s 3ms/step - loss: 0.4350 - val_loss: 0.4140\n",
      "Epoch 8/500\n",
      "205/205 [==============================] - 1s 3ms/step - loss: 0.4378 - val_loss: 0.4143\n",
      "Epoch 9/500\n",
      "205/205 [==============================] - 1s 3ms/step - loss: 0.4368 - val_loss: 0.4144\n",
      "Epoch 10/500\n",
      "205/205 [==============================] - 1s 3ms/step - loss: 0.4382 - val_loss: 0.4137\n",
      "Epoch 11/500\n",
      "205/205 [==============================] - 1s 3ms/step - loss: 0.4362 - val_loss: 0.4146\n",
      "Epoch 12/500\n",
      "205/205 [==============================] - 1s 3ms/step - loss: 0.4370 - val_loss: 0.4150\n",
      "Epoch 13/500\n",
      "205/205 [==============================] - 1s 3ms/step - loss: 0.4392 - val_loss: 0.4148\n",
      "Epoch 14/500\n",
      "205/205 [==============================] - 1s 3ms/step - loss: 0.4369 - val_loss: 0.4148\n",
      "Epoch 15/500\n",
      "205/205 [==============================] - 1s 3ms/step - loss: 0.4369 - val_loss: 0.4146\n",
      "Epoch 00015: early stopping\n",
      "2020\n",
      "Epoch 1/500\n",
      "205/205 [==============================] - 1s 3ms/step - loss: 0.4386 - val_loss: 0.4111\n",
      "Epoch 2/500\n",
      "205/205 [==============================] - 1s 3ms/step - loss: 0.4369 - val_loss: 0.4119\n",
      "Epoch 3/500\n",
      "205/205 [==============================] - 1s 3ms/step - loss: 0.4374 - val_loss: 0.4110\n",
      "Epoch 4/500\n",
      "205/205 [==============================] - 1s 3ms/step - loss: 0.4371 - val_loss: 0.4112\n",
      "Epoch 5/500\n",
      "205/205 [==============================] - 1s 3ms/step - loss: 0.4392 - val_loss: 0.4111\n",
      "Epoch 6/500\n",
      "205/205 [==============================] - 1s 3ms/step - loss: 0.4390 - val_loss: 0.4120\n",
      "Epoch 7/500\n",
      "205/205 [==============================] - 1s 3ms/step - loss: 0.4377 - val_loss: 0.4103\n",
      "Epoch 8/500\n",
      "205/205 [==============================] - 1s 3ms/step - loss: 0.4367 - val_loss: 0.4116\n",
      "Epoch 9/500\n",
      "205/205 [==============================] - 1s 3ms/step - loss: 0.4382 - val_loss: 0.4126\n",
      "Epoch 10/500\n",
      "205/205 [==============================] - 1s 3ms/step - loss: 0.4384 - val_loss: 0.4123\n",
      "Epoch 11/500\n",
      "205/205 [==============================] - 1s 3ms/step - loss: 0.4403 - val_loss: 0.4124\n",
      "Epoch 12/500\n",
      "205/205 [==============================] - 1s 3ms/step - loss: 0.4374 - val_loss: 0.4126\n",
      "Epoch 13/500\n",
      "205/205 [==============================] - 1s 3ms/step - loss: 0.4364 - val_loss: 0.4119\n",
      "Epoch 14/500\n",
      "205/205 [==============================] - 1s 3ms/step - loss: 0.4369 - val_loss: 0.4121\n",
      "Epoch 15/500\n",
      "205/205 [==============================] - 1s 3ms/step - loss: 0.4379 - val_loss: 0.4116\n",
      "Epoch 16/500\n",
      "205/205 [==============================] - 1s 3ms/step - loss: 0.4366 - val_loss: 0.4128\n",
      "Epoch 17/500\n",
      "205/205 [==============================] - 1s 3ms/step - loss: 0.4388 - val_loss: 0.4129\n",
      "Epoch 00017: early stopping\n",
      "2021\n",
      "Epoch 1/500\n",
      "205/205 [==============================] - 1s 3ms/step - loss: 0.4380 - val_loss: 0.4084\n",
      "Epoch 2/500\n",
      "205/205 [==============================] - 1s 3ms/step - loss: 0.4388 - val_loss: 0.4093\n",
      "Epoch 3/500\n",
      "205/205 [==============================] - 1s 3ms/step - loss: 0.4381 - val_loss: 0.4081\n",
      "Epoch 4/500\n",
      "205/205 [==============================] - 1s 3ms/step - loss: 0.4375 - val_loss: 0.4090\n",
      "Epoch 5/500\n",
      "205/205 [==============================] - 1s 3ms/step - loss: 0.4388 - val_loss: 0.4086\n",
      "Epoch 6/500\n",
      "205/205 [==============================] - 1s 3ms/step - loss: 0.4381 - val_loss: 0.4091\n",
      "Epoch 7/500\n",
      "205/205 [==============================] - 1s 3ms/step - loss: 0.4375 - val_loss: 0.4089\n",
      "Epoch 8/500\n",
      "205/205 [==============================] - 1s 3ms/step - loss: 0.4374 - val_loss: 0.4094\n",
      "Epoch 9/500\n",
      "205/205 [==============================] - 1s 3ms/step - loss: 0.4381 - val_loss: 0.4093\n",
      "Epoch 10/500\n",
      "205/205 [==============================] - 1s 3ms/step - loss: 0.4384 - val_loss: 0.4084\n",
      "Epoch 11/500\n",
      "205/205 [==============================] - 1s 3ms/step - loss: 0.4359 - val_loss: 0.4089\n",
      "Epoch 12/500\n",
      "205/205 [==============================] - 1s 3ms/step - loss: 0.4396 - val_loss: 0.4102\n",
      "Epoch 13/500\n",
      "205/205 [==============================] - 1s 3ms/step - loss: 0.4382 - val_loss: 0.4111\n",
      "Epoch 00013: early stopping\n"
     ]
    }
   ],
   "source": [
    "preds = 0\n",
    "for seed_val in [1,3,10,15,20,33,333,1997,2020,2021]:\n",
    "    print (seed_val)\n",
    "    X_train, X_test, y_train, y_test = train_test_split(X, y, test_size=0.30, random_state=seed_val)\n",
    "    scaler = StandardScaler()\n",
    "    X_train = scaler.fit_transform(X_train)\n",
    "    X_test = scaler.transform(X_test)\n",
    "    model.fit(x=X_train, \n",
    "              y=y_train, \n",
    "              epochs=500,\n",
    "              batch_size=256,\n",
    "              validation_data=(X_test, y_test),\n",
    "              callbacks=[early_stop],\n",
    "              verbose=1\n",
    "              )\n",
    "    test_scaled=scaler.transform(test[independent_variables])\n",
    "    predictions = model.predict_proba(test_scaled)\n",
    "    preds += predictions\n",
    "preds = preds/10"
   ]
  },
  {
   "cell_type": "code",
   "execution_count": 97,
   "metadata": {},
   "outputs": [],
   "source": [
    "sub = pd.DataFrame({\"Patient_ID\":test.Patient_ID.values})\n",
    "sub[\"Health_Camp_ID\"] = test.Health_Camp_ID.values\n",
    "sub[\"Outcome\"] =  preds\n",
    "sub.to_csv(\"nn_blended.csv\", index=False)"
   ]
  },
  {
   "cell_type": "markdown",
   "metadata": {},
   "source": [
    "#### Model Building 2 - Random Forest Classifier "
   ]
  },
  {
   "cell_type": "code",
   "execution_count": 98,
   "metadata": {},
   "outputs": [],
   "source": [
    "from lightgbm import LGBMClassifier"
   ]
  },
  {
   "cell_type": "code",
   "execution_count": 99,
   "metadata": {},
   "outputs": [],
   "source": [
    "tr=train[train['Camp_Start_Date'] <'2005-11-01']\n",
    "val=train[train['Camp_Start_Date'] >'2005-10-30']"
   ]
  },
  {
   "cell_type": "code",
   "execution_count": 100,
   "metadata": {},
   "outputs": [
    {
     "name": "stdout",
     "output_type": "stream",
     "text": [
      "Training until validation scores don't improve for 100 rounds\n",
      "[50]\tvalid_0's auc: 0.693347\tvalid_0's binary_logloss: 0.700302\n",
      "[100]\tvalid_0's auc: 0.690834\tvalid_0's binary_logloss: 0.694024\n",
      "Early stopping, best iteration is:\n",
      "[43]\tvalid_0's auc: 0.695511\tvalid_0's binary_logloss: 0.711726\n"
     ]
    },
    {
     "data": {
      "text/plain": [
       "LGBMClassifier(boosting_type='gbdt', class_weight=None, colsample_bytree=0.5,\n",
       "               importance_type='split', learning_rate=0.03, max_depth=-1,\n",
       "               min_child_samples=20, min_child_weight=0.001, min_split_gain=0.0,\n",
       "               n_estimators=450, n_jobs=-1, num_leaves=31, objective=None,\n",
       "               random_state=1, reg_alpha=2, reg_lambda=2, silent=True,\n",
       "               subsample=1.0, subsample_for_bin=200000, subsample_freq=0)"
      ]
     },
     "execution_count": 100,
     "metadata": {},
     "output_type": "execute_result"
    }
   ],
   "source": [
    "clf = LGBMClassifier(n_estimators=450,\n",
    "                     learning_rate=0.03,\n",
    "                     random_state=1,\n",
    "                     colsample_bytree=0.5,\n",
    "                     reg_alpha=2,\n",
    "                     reg_lambda=2)\n",
    "\n",
    "clf.fit(tr[independent_variables], tr['overall_outcome'], eval_set=[(val[independent_variables], val['overall_outcome'])], verbose=50,\n",
    "        eval_metric = 'auc', early_stopping_rounds = 100)"
   ]
  },
  {
   "cell_type": "markdown",
   "metadata": {},
   "source": [
    "#### Creating Blended Model"
   ]
  },
  {
   "cell_type": "code",
   "execution_count": 101,
   "metadata": {},
   "outputs": [
    {
     "name": "stdout",
     "output_type": "stream",
     "text": [
      "1\n",
      "3\n",
      "10\n",
      "15\n",
      "20\n",
      "33\n",
      "333\n",
      "1997\n",
      "2020\n",
      "2021\n"
     ]
    }
   ],
   "source": [
    "preds = 0\n",
    "for seed_val in [1,3,10,15,20,33,333,1997,2020,2021]:\n",
    "    print (seed_val)\n",
    "    m=LGBMClassifier(n_estimators=450,learning_rate=0.03,random_state=seed_val,colsample_bytree=0.5,reg_alpha=2,reg_lambda=2)\n",
    "    m.fit(train[independent_variables],train['overall_outcome'])\n",
    "    predict=m.predict_proba(test[independent_variables])[:,1]\n",
    "    preds += predict\n",
    "preds = preds/10"
   ]
  },
  {
   "cell_type": "code",
   "execution_count": 102,
   "metadata": {},
   "outputs": [],
   "source": [
    "sub = pd.DataFrame({\"Patient_ID\":test.Patient_ID.values})\n",
    "sub[\"Health_Camp_ID\"] = test.Health_Camp_ID.values\n",
    "sub[\"Outcome\"] =  preds\n",
    "sub.to_csv(\"lgbm_blending1.csv\", index=False)"
   ]
  },
  {
   "cell_type": "markdown",
   "metadata": {},
   "source": [
    "#### Featuring Engineering - getting aggregate, got from top solution in AnalyticsVidhya"
   ]
  },
  {
   "cell_type": "code",
   "execution_count": 103,
   "metadata": {},
   "outputs": [],
   "source": [
    "train.sort_values(by=['Patient_ID','Registration_Date'],inplace=True)\n",
    "train['days_since_last_registration'] = train.groupby('Patient_ID')['Registration_Date'].diff().apply(lambda x: x.days)\n",
    "train['days_since_next_registration'] = train.groupby('Patient_ID')['Registration_Date'].diff(-1) * (-1) / np.timedelta64(1, 'D')       \n",
    "\n",
    "test.sort_values(by=['Patient_ID','Registration_Date'],inplace=True)\n",
    "test['days_since_last_registration'] = test.groupby('Patient_ID')['Registration_Date'].diff().apply(lambda x: x.days)\n",
    "test['days_since_next_registration'] = test.groupby('Patient_ID')['Registration_Date'].diff(-1) * (-1) / np.timedelta64(1, 'D')"
   ]
  },
  {
   "cell_type": "code",
   "execution_count": 104,
   "metadata": {},
   "outputs": [],
   "source": [
    "def agg_numeric(df, parent_var, df_name):\n",
    "    \"\"\"\n",
    "    Groups and aggregates the numeric values in a child dataframe\n",
    "    by the parent variable.\n",
    "    \n",
    "    Parameters\n",
    "    --------\n",
    "        df (dataframe): \n",
    "            the child dataframe to calculate the statistics on\n",
    "        parent_var (string): \n",
    "            the parent variable used for grouping and aggregating\n",
    "        df_name (string): \n",
    "            the variable used to rename the columns\n",
    "        \n",
    "    Return\n",
    "    --------\n",
    "        agg (dataframe): \n",
    "            a dataframe with the statistics aggregated by the `parent_var` for \n",
    "            all numeric columns. Each observation of the parent variable will have \n",
    "            one row in the dataframe with the parent variable as the index. \n",
    "            The columns are also renamed using the `df_name`. Columns with all duplicate\n",
    "            values are removed. \n",
    "    \n",
    "    \"\"\"\n",
    "    \n",
    "            \n",
    "    # Only want the numeric variables\n",
    "    parent_ids = df[parent_var].copy()\n",
    "    numeric_df = df.select_dtypes('number').drop(columns={'Patient_ID', 'Health_Camp_ID','Second_cat1', 'Third_cat1', 'B_cat2', 'C_cat2', 'D_cat2', 'E_cat2',\n",
    "       'F_cat2', 'G_cat2', '2_cat3','1_inc', '2_inc', '3_inc', '4_inc', '5_inc',\n",
    "       '6_inc', 'None_inc', 'B_city', 'C_city', 'D_city', 'E_city', 'F_city',\n",
    "       'G_city', 'H_city', 'I_city', 'None_city'}).copy()\n",
    "    numeric_df[parent_var] = parent_ids\n",
    "\n",
    "    # Group by the specified variable and calculate the statistics\n",
    "    agg = numeric_df.groupby(parent_var).agg(['count', 'mean', 'max', 'min', 'sum'])\n",
    "\n",
    "    # Need to create new column names\n",
    "    columns = []\n",
    "\n",
    "    # Iterate through the variables names\n",
    "    for var in agg.columns.levels[0]:\n",
    "        if var != parent_var:\n",
    "            # Iterate through the stat names\n",
    "            for stat in agg.columns.levels[1]:\n",
    "                # Make a new column name for the variable and stat\n",
    "                columns.append('%s_%s_%s' % (df_name, var, stat))\n",
    "    \n",
    "    agg.columns = columns\n",
    "    \n",
    "    # Remove the columns with all redundant values\n",
    "    _, idx = np.unique(agg, axis = 1, return_index=True)\n",
    "    agg = agg.iloc[:, idx]\n",
    "    \n",
    "    return agg"
   ]
  },
  {
   "cell_type": "code",
   "execution_count": 105,
   "metadata": {},
   "outputs": [
    {
     "name": "stdout",
     "output_type": "stream",
     "text": [
      "PID aggregate shape:  (29750, 110)\n",
      "PID aggregate shape:  (15324, 114)\n"
     ]
    }
   ],
   "source": [
    "PID_aggregate = agg_numeric(train.drop('overall_outcome',axis=1), 'Patient_ID', 'agg')\n",
    "print('PID aggregate shape: ', PID_aggregate.shape)\n",
    "train=train.merge(PID_aggregate, on ='Patient_ID', how = 'left')\n",
    "\n",
    "PID_aggregate = agg_numeric(test, 'Patient_ID', 'agg')\n",
    "print('PID aggregate shape: ', PID_aggregate.shape)\n",
    "test=test.merge(PID_aggregate, on ='Patient_ID', how = 'left')"
   ]
  },
  {
   "cell_type": "code",
   "execution_count": 106,
   "metadata": {},
   "outputs": [
    {
     "name": "stdout",
     "output_type": "stream",
     "text": [
      "1\n",
      "3\n",
      "10\n",
      "15\n",
      "20\n",
      "33\n",
      "333\n",
      "1997\n",
      "2020\n",
      "2021\n"
     ]
    }
   ],
   "source": [
    "preds = 0\n",
    "for seed_val in [1,3,10,15,20,33,333,1997,2020,2021]:\n",
    "    print (seed_val)\n",
    "    m=LGBMClassifier(n_estimators=450,learning_rate=0.03,random_state=seed_val,colsample_bytree=0.5,reg_alpha=2,reg_lambda=2)\n",
    "    m.fit(train[independent_variables],train['overall_outcome'])\n",
    "    predict=m.predict_proba(test[independent_variables])[:,1]\n",
    "    preds += predict\n",
    "preds = preds/10"
   ]
  },
  {
   "cell_type": "code",
   "execution_count": 107,
   "metadata": {},
   "outputs": [],
   "source": [
    "sub = pd.DataFrame({\"Patient_ID\":test.Patient_ID.values})\n",
    "sub[\"Health_Camp_ID\"] = test.Health_Camp_ID.values\n",
    "sub[\"Outcome\"] =  preds\n",
    "sub.to_csv(\"lgbm_blending2.csv\", index=False)"
   ]
  }
 ],
 "metadata": {
  "kernelspec": {
   "display_name": "Python 3",
   "language": "python",
   "name": "python3"
  },
  "language_info": {
   "codemirror_mode": {
    "name": "ipython",
    "version": 3
   },
   "file_extension": ".py",
   "mimetype": "text/x-python",
   "name": "python",
   "nbconvert_exporter": "python",
   "pygments_lexer": "ipython3",
   "version": "3.7.6"
  }
 },
 "nbformat": 4,
 "nbformat_minor": 4
}
